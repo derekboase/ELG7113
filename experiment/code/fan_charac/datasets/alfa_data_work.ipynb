{
 "cells": [
  {
   "cell_type": "code",
   "execution_count": 1,
   "metadata": {},
   "outputs": [],
   "source": [
    "import pandas as pd\n",
    "import numpy as np\n",
    "import seaborn as sns\n",
    "import matplotlib.pyplot as plt"
   ]
  },
  {
   "cell_type": "code",
   "execution_count": 2,
   "metadata": {},
   "outputs": [
    {
     "data": {
      "text/html": [
       "<div>\n",
       "<style scoped>\n",
       "    .dataframe tbody tr th:only-of-type {\n",
       "        vertical-align: middle;\n",
       "    }\n",
       "\n",
       "    .dataframe tbody tr th {\n",
       "        vertical-align: top;\n",
       "    }\n",
       "\n",
       "    .dataframe thead th {\n",
       "        text-align: right;\n",
       "    }\n",
       "</style>\n",
       "<table border=\"1\" class=\"dataframe\">\n",
       "  <thead>\n",
       "    <tr style=\"text-align: right;\">\n",
       "      <th></th>\n",
       "      <th>duty_cycle</th>\n",
       "      <th>air_vel(m/s)</th>\n",
       "    </tr>\n",
       "  </thead>\n",
       "  <tbody>\n",
       "    <tr>\n",
       "      <th>0</th>\n",
       "      <td>39.22</td>\n",
       "      <td>1.73</td>\n",
       "    </tr>\n",
       "    <tr>\n",
       "      <th>1</th>\n",
       "      <td>39.22</td>\n",
       "      <td>1.66</td>\n",
       "    </tr>\n",
       "    <tr>\n",
       "      <th>2</th>\n",
       "      <td>39.22</td>\n",
       "      <td>1.76</td>\n",
       "    </tr>\n",
       "    <tr>\n",
       "      <th>3</th>\n",
       "      <td>39.22</td>\n",
       "      <td>1.85</td>\n",
       "    </tr>\n",
       "    <tr>\n",
       "      <th>4</th>\n",
       "      <td>39.22</td>\n",
       "      <td>1.92</td>\n",
       "    </tr>\n",
       "    <tr>\n",
       "      <th>...</th>\n",
       "      <td>...</td>\n",
       "      <td>...</td>\n",
       "    </tr>\n",
       "    <tr>\n",
       "      <th>15484</th>\n",
       "      <td>99.22</td>\n",
       "      <td>3.52</td>\n",
       "    </tr>\n",
       "    <tr>\n",
       "      <th>15485</th>\n",
       "      <td>99.22</td>\n",
       "      <td>3.51</td>\n",
       "    </tr>\n",
       "    <tr>\n",
       "      <th>15486</th>\n",
       "      <td>99.22</td>\n",
       "      <td>3.49</td>\n",
       "    </tr>\n",
       "    <tr>\n",
       "      <th>15487</th>\n",
       "      <td>99.22</td>\n",
       "      <td>3.49</td>\n",
       "    </tr>\n",
       "    <tr>\n",
       "      <th>15488</th>\n",
       "      <td>99.22</td>\n",
       "      <td>3.50</td>\n",
       "    </tr>\n",
       "  </tbody>\n",
       "</table>\n",
       "<p>15489 rows × 2 columns</p>\n",
       "</div>"
      ],
      "text/plain": [
       "       duty_cycle  air_vel(m/s)\n",
       "0           39.22          1.73\n",
       "1           39.22          1.66\n",
       "2           39.22          1.76\n",
       "3           39.22          1.85\n",
       "4           39.22          1.92\n",
       "...           ...           ...\n",
       "15484       99.22          3.52\n",
       "15485       99.22          3.51\n",
       "15486       99.22          3.49\n",
       "15487       99.22          3.49\n",
       "15488       99.22          3.50\n",
       "\n",
       "[15489 rows x 2 columns]"
      ]
     },
     "execution_count": 2,
     "metadata": {},
     "output_type": "execute_result"
    }
   ],
   "source": [
    "df = pd.read_csv('dataset_1.csv')\n",
    "df"
   ]
  },
  {
   "cell_type": "code",
   "execution_count": 36,
   "metadata": {},
   "outputs": [
    {
     "name": "stdout",
     "output_type": "stream",
     "text": [
      "mean = 2.2089108910891087\n",
      " stdev = 0.021521391159118466\n"
     ]
    }
   ],
   "source": [
    "sample_data = df[df[\"duty_cycle\"]==39.61]\n",
    "sample_data_list = list(sample_data[\"air_vel(m/s)\"])\n",
    "print(\"mean = \" + str(sum(sample_data_list)/len(sample_data_list)))\n",
    "print(\" stdev = \" + str(np.sqrt(np.array(sample_data_list).var())))"
   ]
  },
  {
   "cell_type": "code",
   "execution_count": 37,
   "metadata": {},
   "outputs": [
    {
     "name": "stdout",
     "output_type": "stream",
     "text": [
      "mean = 2.2079120879120877\n",
      " stdev = 0.02083511846797829\n"
     ]
    }
   ],
   "source": [
    "sample_data = df[df[\"duty_cycle\"]==39.61][10:]\n",
    "sample_data_list = list(sample_data[\"air_vel(m/s)\"])\n",
    "print(\"mean = \" + str(sum(sample_data_list)/len(sample_data_list)))\n",
    "print(\" stdev = \" + str(np.sqrt(np.array(sample_data_list).var())))"
   ]
  },
  {
   "cell_type": "code",
   "execution_count": 39,
   "metadata": {},
   "outputs": [],
   "source": [
    "df = pd.read_csv('dataset_1.csv')\n",
    "lst_duty = list(set(df['duty_cycle']))\n",
    "lst_duty.sort()\n",
    "lst_avg = [df['air_vel(m/s)'].loc[df['duty_cycle'] == lst_duty[i]].mean() for i in range(len(lst_duty))]\n",
    "df_avg = pd.DataFrame(np.array([lst_duty, lst_avg]).T, columns=['duty_cycle','air_vel_avg(m/s)'])\n",
    "def lookup_cycle(air_vel):\n",
    "    lower_air_vels = df_avg[df_avg[\"air_vel_avg(m/s)\"]<air_vel] \n",
    "    result = list(lower_air_vels[\"duty_cycle\"])[-1]\n",
    "    return result"
   ]
  },
  {
   "cell_type": "code",
   "execution_count": 66,
   "metadata": {},
   "outputs": [
    {
     "data": {
      "text/html": [
       "<div>\n",
       "<style scoped>\n",
       "    .dataframe tbody tr th:only-of-type {\n",
       "        vertical-align: middle;\n",
       "    }\n",
       "\n",
       "    .dataframe tbody tr th {\n",
       "        vertical-align: top;\n",
       "    }\n",
       "\n",
       "    .dataframe thead th {\n",
       "        text-align: right;\n",
       "    }\n",
       "</style>\n",
       "<table border=\"1\" class=\"dataframe\">\n",
       "  <thead>\n",
       "    <tr style=\"text-align: right;\">\n",
       "      <th></th>\n",
       "      <th>duty_cycle</th>\n",
       "      <th>air_vel_avg(m/s)</th>\n",
       "    </tr>\n",
       "  </thead>\n",
       "  <tbody>\n",
       "    <tr>\n",
       "      <th>82</th>\n",
       "      <td>71.37</td>\n",
       "      <td>2.815446</td>\n",
       "    </tr>\n",
       "    <tr>\n",
       "      <th>83</th>\n",
       "      <td>71.76</td>\n",
       "      <td>2.820099</td>\n",
       "    </tr>\n",
       "    <tr>\n",
       "      <th>84</th>\n",
       "      <td>72.16</td>\n",
       "      <td>2.820891</td>\n",
       "    </tr>\n",
       "    <tr>\n",
       "      <th>85</th>\n",
       "      <td>72.55</td>\n",
       "      <td>2.818416</td>\n",
       "    </tr>\n",
       "    <tr>\n",
       "      <th>86</th>\n",
       "      <td>72.94</td>\n",
       "      <td>2.817921</td>\n",
       "    </tr>\n",
       "    <tr>\n",
       "      <th>...</th>\n",
       "      <td>...</td>\n",
       "      <td>...</td>\n",
       "    </tr>\n",
       "    <tr>\n",
       "      <th>149</th>\n",
       "      <td>97.65</td>\n",
       "      <td>3.481089</td>\n",
       "    </tr>\n",
       "    <tr>\n",
       "      <th>150</th>\n",
       "      <td>98.04</td>\n",
       "      <td>3.480990</td>\n",
       "    </tr>\n",
       "    <tr>\n",
       "      <th>151</th>\n",
       "      <td>98.43</td>\n",
       "      <td>3.474059</td>\n",
       "    </tr>\n",
       "    <tr>\n",
       "      <th>152</th>\n",
       "      <td>98.82</td>\n",
       "      <td>3.490198</td>\n",
       "    </tr>\n",
       "    <tr>\n",
       "      <th>153</th>\n",
       "      <td>99.22</td>\n",
       "      <td>3.497778</td>\n",
       "    </tr>\n",
       "  </tbody>\n",
       "</table>\n",
       "<p>72 rows × 2 columns</p>\n",
       "</div>"
      ],
      "text/plain": [
       "     duty_cycle  air_vel_avg(m/s)\n",
       "82        71.37          2.815446\n",
       "83        71.76          2.820099\n",
       "84        72.16          2.820891\n",
       "85        72.55          2.818416\n",
       "86        72.94          2.817921\n",
       "..          ...               ...\n",
       "149       97.65          3.481089\n",
       "150       98.04          3.480990\n",
       "151       98.43          3.474059\n",
       "152       98.82          3.490198\n",
       "153       99.22          3.497778\n",
       "\n",
       "[72 rows x 2 columns]"
      ]
     },
     "execution_count": 66,
     "metadata": {},
     "output_type": "execute_result"
    }
   ],
   "source": [
    "df_avg[df_avg[\"duty_cycle\"]>71.2]"
   ]
  },
  {
   "cell_type": "code",
   "execution_count": null,
   "metadata": {},
   "outputs": [],
   "source": []
  },
  {
   "cell_type": "code",
   "execution_count": null,
   "metadata": {},
   "outputs": [],
   "source": []
  }
 ],
 "metadata": {
  "kernelspec": {
   "display_name": "Python 3",
   "language": "python",
   "name": "python3"
  },
  "language_info": {
   "codemirror_mode": {
    "name": "ipython",
    "version": 3
   },
   "file_extension": ".py",
   "mimetype": "text/x-python",
   "name": "python",
   "nbconvert_exporter": "python",
   "pygments_lexer": "ipython3",
   "version": "3.8.3"
  }
 },
 "nbformat": 4,
 "nbformat_minor": 4
}
