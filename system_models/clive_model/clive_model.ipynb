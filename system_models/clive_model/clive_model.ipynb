{
 "cells": [
  {
   "cell_type": "code",
   "execution_count": 1,
   "id": "763b9029",
   "metadata": {},
   "outputs": [],
   "source": [
    "import pandas as pd\n",
    "import numpy as np\n",
    "from numpy.linalg import inv\n",
    "import math as m\n",
    "from math import sqrt\n",
    "import sympy as sp\n",
    "from sympy import collect, simplify, expand, fraction, latex\n",
    "from sympy.integrals import laplace_transform as laplace\n",
    "from sympy.integrals import inverse_laplace_transform as ilaplace\n",
    "from IPython.display import display, Markdown, Math\n",
    "import control as co\n",
    "import seaborn as sns\n",
    "import matplotlib.pyplot as plt\n",
    "from matplotlib import colors as mcolors\n",
    "sp.init_printing(use_latex='mathjax')\n",
    "plt.rcParams['figure.figsize'] = [20, 10]"
   ]
  },
  {
   "cell_type": "code",
   "execution_count": 2,
   "id": "b4891be2",
   "metadata": {},
   "outputs": [],
   "source": [
    "class numden_coeff:\n",
    "    def __init__(self, expr, symb):\n",
    "        self.num, self.denum = fraction(expr)\n",
    "        self.symb = symb\n",
    "        self.common_factor = None\n",
    "        self.lst_denum_coeff = self.build_lst(self.denum)\n",
    "        self.lst_num_coeff = self.build_lst(self.num)\n",
    "        \n",
    "    def build_lst(self, poly):\n",
    "        order = sp.Poly(poly, self.symb).degree()\n",
    "        lst = [expand(poly).coeff(self.symb**i) for i in range((order), 0, -1)]\n",
    "        lst.append(poly.subs(self.symb,0))\n",
    "        if (self.common_factor == None):\n",
    "            self.common_factor = lst[0]\n",
    "            \n",
    "        lst = [simplify(lst[i]/self.common_factor) for i in range(order + 1)]\n",
    "        return lst\n",
    "    \n",
    "    def disp(self):\n",
    "        display(Markdown(r\"Numerator coefficients (\\beta)\"), self.lst_num_coeff)\n",
    "        display(Markdown(r\"Denominator coefficients (alpha)\"), self.lst_denum_coeff)"
   ]
  },
  {
   "cell_type": "code",
   "execution_count": 55,
   "id": "f122fe9a",
   "metadata": {},
   "outputs": [],
   "source": [
    "def theta_hat_ploter(df, theta0, title, line_width=1.2):\n",
    "    lst_color = ['b', 'y', 'g', 'r']\n",
    "    lst_labels = df.columns\n",
    "    graph = sns.lineplot(data=df, dashes=False)\n",
    "\n",
    "    for i in range(len(theta0)):\n",
    "        graph.axhline(y=theta0[i], color=lst_color[i], linestyle='--', linewidth=line_width, label=lst_labels[i])\n",
    "        \n",
    "    plt.title(title, fontsize=20)\n",
    "    plt.ylabel('Magnitude of \"Theta_hat\"', fontsize=18)\n",
    "    plt.xlabel('Time Stamps \"t\"', fontsize=18)\n",
    "    plt.legend(bbox_to_anchor=(1.05, 1), \n",
    "               loc=2, \n",
    "               borderaxespad=0, \n",
    "               labels=lst_labels, \n",
    "               fontsize='xx-large')\n",
    "    plt.show()"
   ]
  },
  {
   "cell_type": "code",
   "execution_count": 4,
   "id": "217a0bb2",
   "metadata": {},
   "outputs": [
    {
     "data": {
      "text/latex": [
       "$\\displaystyle G(s) =\\frac{b}{b s + s^{2}}$"
      ],
      "text/plain": [
       "<IPython.core.display.Math object>"
      ]
     },
     "metadata": {},
     "output_type": "display_data"
    },
    {
     "data": {
      "text/latex": [
       "$\\displaystyle \\frac{G(s)}{s} = G^{'}(s)=\\frac{1}{s^{2}} + \\frac{1}{b \\left(b + s\\right)} - \\frac{1}{b s}$"
      ],
      "text/plain": [
       "<IPython.core.display.Math object>"
      ]
     },
     "metadata": {},
     "output_type": "display_data"
    },
    {
     "data": {
      "text/latex": [
       "$\\displaystyle G^{'}(t) =t - \\frac{1}{b} + \\frac{e^{- b t}}{b}$"
      ],
      "text/plain": [
       "<IPython.core.display.Math object>"
      ]
     },
     "metadata": {},
     "output_type": "display_data"
    },
    {
     "data": {
      "text/latex": [
       "$\\displaystyle G^{'}(nT)  =Ts n - \\frac{1}{b} + \\frac{e^{- Ts b n}}{b}$"
      ],
      "text/plain": [
       "<IPython.core.display.Math object>"
      ]
     },
     "metadata": {},
     "output_type": "display_data"
    }
   ],
   "source": [
    "a1, a2, b0, b1 = sp.symbols('a_{1} a_{2} b_{0} b_{1}')\n",
    "am1, am2, bm0, bm1 = sp.symbols('a_{m1} a_{m2} b_{m0} b_{m1}')\n",
    "Ts, t = sp.symbols(\"Ts t\", positive=True, real=True)\n",
    "n, b, zeta, omega = sp.symbols('n b zeta omega', real=True)\n",
    "s, z, q = sp.symbols(\"s z q\")\n",
    "\n",
    "\n",
    "B = b # in s-domain\n",
    "A = (s**2 + s*b) # in s-domain\n",
    "G = B/A\n",
    "G_pf = sp.apart(G/s, s)\n",
    "\n",
    "temp = ilaplace(G_pf, s, t)\n",
    "temp_nT = temp.subs(t, Ts*n)\n",
    "\n",
    "display(Math(\"G(s) =\"+latex(G)))\n",
    "display(Math(\"\\\\frac{G(s)}{s} = G^{'}(s)=\"+latex(G_pf)))\n",
    "display(Math(\"G^{'}(t) =\"+latex(temp)))\n",
    "display(Math(\"G^{'}(nT)  =\"+latex(temp_nT)))"
   ]
  },
  {
   "cell_type": "code",
   "execution_count": 5,
   "id": "909ffb5e",
   "metadata": {},
   "outputs": [
    {
     "data": {
      "text/latex": [
       "$\\displaystyle G^{'}(z)  =\\frac{Ts}{z \\left(1 - \\frac{1}{z}\\right)^{2}} + \\frac{1}{b \\left(1 - \\frac{e^{Ts b}}{z}\\right)} - \\frac{1}{b \\left(1 - \\frac{1}{z}\\right)}$"
      ],
      "text/plain": [
       "<IPython.core.display.Math object>"
      ]
     },
     "metadata": {},
     "output_type": "display_data"
    }
   ],
   "source": [
    "temp_z = Ts*(z**-1)/(1 - z**-1)**2 - 1/((1 - z**-1)*b) + b**-1/(1 - sp.exp(Ts*b)*z**-1)\n",
    "temp_z\n",
    "\n",
    "display(Math(\"G^{'}(z)  =\"+latex(temp_z)))"
   ]
  },
  {
   "cell_type": "code",
   "execution_count": 6,
   "id": "96f7be2a",
   "metadata": {},
   "outputs": [
    {
     "data": {
      "text/latex": [
       "$\\displaystyle H_z =\\;\\frac{- Ts b e^{Ts b} + z \\left(Ts b + e^{Ts b} - 1\\right) - e^{Ts b} + 1}{b \\left(z^{2} + z \\left(- e^{Ts b} - 1\\right) + e^{Ts b}\\right)}$"
      ],
      "text/plain": [
       "<IPython.core.display.Math object>"
      ]
     },
     "metadata": {},
     "output_type": "display_data"
    }
   ],
   "source": [
    "H_z = collect(simplify(expand((1 - z**-1)*temp_z)), z)\n",
    "\n",
    "display(Math(\"H_z =\\;\"+latex(H_z)))"
   ]
  },
  {
   "cell_type": "code",
   "execution_count": 7,
   "id": "f982748a",
   "metadata": {},
   "outputs": [
    {
     "data": {
      "text/latex": [
       "$\\displaystyle \\alpha H(z) =\\;\\left[ 1, \\  - e^{Ts b} - 1, \\  e^{Ts b}\\right]$"
      ],
      "text/plain": [
       "<IPython.core.display.Math object>"
      ]
     },
     "metadata": {},
     "output_type": "display_data"
    },
    {
     "data": {
      "text/latex": [
       "$\\displaystyle \\beta H(z) =\\;\\left[ \\frac{Ts b + e^{Ts b} - 1}{b}, \\  \\frac{- Ts b e^{Ts b} - e^{Ts b} + 1}{b}\\right]$"
      ],
      "text/plain": [
       "<IPython.core.display.Math object>"
      ]
     },
     "metadata": {},
     "output_type": "display_data"
    },
    {
     "data": {
      "text/latex": [
       "$\\displaystyle a_1 =\\;- e^{Ts b} - 1$"
      ],
      "text/plain": [
       "<IPython.core.display.Math object>"
      ]
     },
     "metadata": {},
     "output_type": "display_data"
    },
    {
     "data": {
      "text/latex": [
       "$\\displaystyle a_2 =\\;e^{Ts b}$"
      ],
      "text/plain": [
       "<IPython.core.display.Math object>"
      ]
     },
     "metadata": {},
     "output_type": "display_data"
    },
    {
     "data": {
      "text/latex": [
       "$\\displaystyle b_0 =\\;\\frac{Ts b + e^{Ts b} - 1}{b}$"
      ],
      "text/plain": [
       "<IPython.core.display.Math object>"
      ]
     },
     "metadata": {},
     "output_type": "display_data"
    },
    {
     "data": {
      "text/latex": [
       "$\\displaystyle b_1 =\\;\\frac{- Ts b e^{Ts b} - e^{Ts b} + 1}{b}$"
      ],
      "text/plain": [
       "<IPython.core.display.Math object>"
      ]
     },
     "metadata": {},
     "output_type": "display_data"
    }
   ],
   "source": [
    "obj_Hz = numden_coeff(H_z, z)\n",
    "\n",
    "\n",
    "aHz = obj_Hz.lst_denum_coeff\n",
    "bHz = obj_Hz.lst_num_coeff\n",
    "\n",
    "# these values will only be needed for simulation (i.e. a1, a2, b0 and b1)\n",
    "a1_eq = aHz[1]\n",
    "a2_eq = aHz[2]\n",
    "\n",
    "b0_eq = bHz[0]\n",
    "b1_eq = bHz[1]\n",
    "\n",
    "display(Math(\"\\\\alpha H(z) =\\;\"+latex(aHz)))\n",
    "display(Math(\"\\\\beta H(z) =\\;\"+latex(bHz)))\n",
    "\n",
    "display(Math(\"a_1 =\\;\"+latex(a1_eq)))\n",
    "display(Math(\"a_2 =\\;\"+latex(a2_eq)))\n",
    "display(Math(\"b_0 =\\;\"+latex(b0_eq)))\n",
    "display(Math(\"b_1 =\\;\"+latex(b1_eq)))"
   ]
  },
  {
   "cell_type": "markdown",
   "id": "7f2e75f8",
   "metadata": {},
   "source": []
  },
  {
   "cell_type": "markdown",
   "id": "4057382d",
   "metadata": {},
   "source": [
    "$B = B^-=\\;$ {{B}}\n",
    "\n",
    "$B^+=1$"
   ]
  },
  {
   "cell_type": "markdown",
   "id": "6bd61f8f",
   "metadata": {},
   "source": [
    "$$Deg(B^+) = 0$$\n",
    "$$Deg(B^-) = 1$$"
   ]
  },
  {
   "cell_type": "markdown",
   "id": "b2e75207",
   "metadata": {},
   "source": [
    "$$Deg(A) = Deg(A_m) = 2$$"
   ]
  },
  {
   "cell_type": "markdown",
   "id": "2dfeba8b",
   "metadata": {},
   "source": [
    "$$Deg(S) = Deg(R) = Deg(A) - 1 = 2 - 1 = 1$$"
   ]
  },
  {
   "cell_type": "markdown",
   "id": "60a3857d",
   "metadata": {},
   "source": [
    "$$Deg(R^{'}) = Deg(R) - Deg(B^+) = 1 - 0 = 1$$"
   ]
  },
  {
   "cell_type": "markdown",
   "id": "5fc6690a",
   "metadata": {},
   "source": [
    "$$Deg(A_0) = Deg(A) + Deg(R^{'}) - Deg(A_m) = 2 + 1 - 2 = 1$$"
   ]
  },
  {
   "cell_type": "code",
   "execution_count": 8,
   "id": "2fccd4c8",
   "metadata": {},
   "outputs": [],
   "source": [
    "Bm_b = sp.Symbol(\"\\\\bar{B}_m\")\n",
    "\n",
    "A = q**2 + a1*q + a2 # in z-domain\n",
    "B = b0*q + b1 # in z-domain\n",
    "B_minus = B\n",
    "B_plus = 1\n",
    "H = B/A\n",
    "\n",
    "\n",
    "Am = q**2 + am1*q + am2\n",
    "\n",
    "#Final value theorem was used to find B_m_bar ==> Gm = Bm/Am = (B^-)*Bm_bar/Am = 1\n",
    "Bm_bar = sp.solve(sp.Eq(B_minus*Bm_b/Am, 1),Bm_b)[0].subs(q,1)\n",
    "Bm = B_minus*Bm_bar\n",
    "\n",
    "# display(Math(\"\\\\bar{B}_m =\"+latex(Bm_bar)))\n",
    "# display(Math(\"B_m =\\\\bar{B}_mB^-=\"+latex(Bm)))"
   ]
  },
  {
   "cell_type": "markdown",
   "id": "34ca221c",
   "metadata": {},
   "source": [
    "To achive unity gain, the final value theorem can implemented on $A_m$ to obtain the value of $B_m$. This is achived by the equation $B_m = A_m(1)q^m$.This way, when k goes to infinity ($q \\rightarrow 1$), $G_m = 1$ and $Deg(B_m) = Deg(B)$. Therfore, if\n",
    "\n",
    "$A_m =\\;${{Am}}\n",
    "\n",
    "then\n",
    "\n",
    "$B_m =\\;${{Bm}}"
   ]
  },
  {
   "cell_type": "code",
   "execution_count": 9,
   "id": "03df301d",
   "metadata": {},
   "outputs": [
    {
     "data": {
      "text/latex": [
       "$\\displaystyle H_m =\\frac{\\left(b_{0} q + b_{1}\\right) \\left(a_{m1} + a_{m2} + 1\\right)}{\\left(b_{0} + b_{1}\\right) \\left(a_{m1} q + a_{m2} + q^{2}\\right)}=\\frac{a_{m1} b_{1} + a_{m2} b_{1} + b_{1} + q \\left(a_{m1} b_{0} + a_{m2} b_{0} + b_{0}\\right)}{a_{m2} b_{0} + a_{m2} b_{1} + q^{2} \\left(b_{0} + b_{1}\\right) + q \\left(a_{m1} b_{0} + a_{m1} b_{1}\\right)}$"
      ],
      "text/plain": [
       "<IPython.core.display.Math object>"
      ]
     },
     "metadata": {},
     "output_type": "display_data"
    }
   ],
   "source": [
    "Hm = collect(simplify(expand(Bm/Am)), q)\n",
    "display(Math(\"H_m =\"+latex(Bm/Am)+\"=\"+latex(Hm)))"
   ]
  },
  {
   "cell_type": "code",
   "execution_count": 10,
   "id": "30d672f5",
   "metadata": {},
   "outputs": [],
   "source": [
    "r0, r1, s0, s1, a0 = sp.symbols('r_0 r_1 s_0 s_1 a_0')\n",
    "\n",
    "A0 = q # might need to select something differnt if too sensitive to noise\n",
    "S = s0*q + s1\n",
    "R = r0*q+ r1\n",
    "R_prime = R\n",
    "T = Bm*A0/B_minus"
   ]
  },
  {
   "cell_type": "markdown",
   "id": "62f8f25e",
   "metadata": {},
   "source": [
    "The control polynomials become\n",
    "\n",
    "$A_0 =\\;${{A0}} (if system is too sensitive to noise, then move this pole farther from imaginary axis)\n",
    "\n",
    "$S =\\;${{S}}\n",
    "\n",
    "$R =R^{'}=\\;${{R}}\n",
    "\n",
    "$T = A_0\\frac{B_m}{B^{-}} =\\;${{T}} "
   ]
  },
  {
   "cell_type": "code",
   "execution_count": 11,
   "id": "5054c6c5",
   "metadata": {},
   "outputs": [
    {
     "data": {
      "text/latex": [
       "$\\displaystyle a_{1} + b_{0} s_{0} + r_{1} = a_{m1}$"
      ],
      "text/plain": [
       "a_{1} + b_{0}⋅s₀ + r₁ = a_{m1}"
      ]
     },
     "metadata": {},
     "output_type": "display_data"
    },
    {
     "data": {
      "text/latex": [
       "$\\displaystyle a_{1} r_{1} + a_{2} + b_{0} s_{1} + b_{1} s_{0} = a_{m2}$"
      ],
      "text/plain": [
       "a_{1}⋅r₁ + a_{2} + b_{0}⋅s₁ + b_{1}⋅s₀ = a_{m2}"
      ]
     },
     "metadata": {},
     "output_type": "display_data"
    },
    {
     "data": {
      "text/latex": [
       "$\\displaystyle a_{2} r_{1} + b_{1} s_{1} = 0$"
      ],
      "text/plain": [
       "a_{2}⋅r₁ + b_{1}⋅s₁ = 0"
      ]
     },
     "metadata": {},
     "output_type": "display_data"
    },
    {
     "data": {
      "text/latex": [
       "$\\displaystyle \\left[\\begin{matrix}1 & b_{0} & 0\\\\a_{1} & b_{1} & b_{0}\\\\a_{2} & 0 & b_{1}\\end{matrix}\\right]\\left[\\begin{matrix}r_{1}\\\\s_{0}\\\\s_{1}\\end{matrix}\\right] = \\left[\\begin{matrix}- a_{1} + a_{m1}\\\\- a_{2} + a_{m2}\\\\0\\end{matrix}\\right]$"
      ],
      "text/plain": [
       "<IPython.core.display.Math object>"
      ]
     },
     "metadata": {},
     "output_type": "display_data"
    },
    {
     "data": {
      "text/latex": [
       "$\\displaystyle \\left[\\begin{matrix}r_{1}\\\\s_{0}\\\\s_{1}\\end{matrix}\\right] = \\left[\\begin{matrix}\\frac{b_{0} b_{1} \\left(- a_{2} + a_{m2}\\right)}{a_{1} b_{0} b_{1} - a_{2} b_{0}^{2} - b_{1}^{2}} - \\frac{b_{1}^{2} \\left(- a_{1} + a_{m1}\\right)}{a_{1} b_{0} b_{1} - a_{2} b_{0}^{2} - b_{1}^{2}}\\\\- \\frac{b_{1} \\left(- a_{2} + a_{m2}\\right)}{a_{1} b_{0} b_{1} - a_{2} b_{0}^{2} - b_{1}^{2}} + \\frac{\\left(- a_{1} + a_{m1}\\right) \\left(a_{1} b_{1} - a_{2} b_{0}\\right)}{a_{1} b_{0} b_{1} - a_{2} b_{0}^{2} - b_{1}^{2}}\\\\- \\frac{a_{2} b_{0} \\left(- a_{2} + a_{m2}\\right)}{a_{1} b_{0} b_{1} - a_{2} b_{0}^{2} - b_{1}^{2}} + \\frac{a_{2} b_{1} \\left(- a_{1} + a_{m1}\\right)}{a_{1} b_{0} b_{1} - a_{2} b_{0}^{2} - b_{1}^{2}}\\end{matrix}\\right]$"
      ],
      "text/plain": [
       "<IPython.core.display.Math object>"
      ]
     },
     "metadata": {},
     "output_type": "display_data"
    }
   ],
   "source": [
    "LHS_coeffs = sp.Poly(A*R_prime + B_minus*S, q).coeffs()[::-1]\n",
    "RHS_coeffs = sp.Poly(expand(A0*Am), q).coeffs()[::-1]\n",
    "\n",
    "eq_3 = sp.Eq(LHS_coeffs[3], RHS_coeffs[2])\n",
    "eq_2 = sp.Eq(LHS_coeffs[2], RHS_coeffs[1])\n",
    "eq_1 = sp.Eq(LHS_coeffs[1], RHS_coeffs[0])\n",
    "eq_0 = sp.Eq(LHS_coeffs[0], 0)\n",
    "\n",
    "r_0 = sp.solve(eq_3, r0)[0]\n",
    "\n",
    "# sub value for r0 into remaining equations\n",
    "eq_2 = eq_2.subs(r0, r_0)\n",
    "eq_1 = eq_1.subs(r0, r_0)\n",
    "eq_0 = eq_0.subs(r0, r_0)\n",
    "\n",
    "display(eq_2)\n",
    "display(eq_1)\n",
    "display(eq_0)\n",
    "\n",
    "# Put equations into matrix form and solve for r1, s0 and s1\n",
    "mat_lhs = sp.Matrix([[1, b0, 0], [a1, b1, b0], [a2, 0, b1]])\n",
    "mat_rhs = sp.Matrix([[am1 - a1], [am2 - a2], [0]])\n",
    "\n",
    "res = mat_lhs.inv()@mat_rhs\n",
    "r_1 = res[0]\n",
    "s_0 = res[1]\n",
    "s_1 = res[2]\n",
    "\n",
    "display(Math(latex(mat_lhs)+latex(sp.Eq(sp.Matrix([[r1], [s0], [s1]]), mat_rhs))))\n",
    "display(Math(latex(sp.Eq(sp.Matrix([[r1], [s0], [s1]]), res))))"
   ]
  },
  {
   "cell_type": "code",
   "execution_count": 12,
   "id": "9d3361d9",
   "metadata": {},
   "outputs": [
    {
     "data": {
      "text/latex": [
       "$\\displaystyle R =\\;\\frac{b_{0} b_{1} \\left(a_{2} - a_{m2}\\right) + b_{1}^{2} \\left(- a_{1} + a_{m1}\\right) + q r_{0} \\left(- a_{1} b_{0} b_{1} + a_{2} b_{0}^{2} + b_{1}^{2}\\right)}{- a_{1} b_{0} b_{1} + a_{2} b_{0}^{2} + b_{1}^{2}}$"
      ],
      "text/plain": [
       "<IPython.core.display.Math object>"
      ]
     },
     "metadata": {},
     "output_type": "display_data"
    },
    {
     "data": {
      "text/latex": [
       "$\\displaystyle S =\\;\\frac{- a_{2} b_{0} \\left(a_{2} - a_{m2}\\right) + a_{2} b_{1} \\left(a_{1} - a_{m1}\\right) - q \\left(b_{1} \\left(a_{2} - a_{m2}\\right) - \\left(a_{1} - a_{m1}\\right) \\left(a_{1} b_{1} - a_{2} b_{0}\\right)\\right)}{- a_{1} b_{0} b_{1} + a_{2} b_{0}^{2} + b_{1}^{2}}$"
      ],
      "text/plain": [
       "<IPython.core.display.Math object>"
      ]
     },
     "metadata": {},
     "output_type": "display_data"
    },
    {
     "data": {
      "text/latex": [
       "$\\displaystyle T =\\;\\frac{q \\left(a_{m1} + a_{m2} + 1\\right)}{b_{0} + b_{1}}$"
      ],
      "text/plain": [
       "<IPython.core.display.Math object>"
      ]
     },
     "metadata": {},
     "output_type": "display_data"
    }
   ],
   "source": [
    "R_ = simplify(R.subs(r1, r_1))\n",
    "S_ = simplify(S.subs([(s0, s_0), (s1, s_1)]))\n",
    "T_ = simplify(T)\n",
    "\n",
    "display(Math(\"R =\\;\"+latex(R_)))\n",
    "display(Math(\"S =\\;\"+latex(S_)))\n",
    "display(Math(\"T =\\;\"+latex(T_)))"
   ]
  },
  {
   "cell_type": "markdown",
   "id": "0f225893",
   "metadata": {},
   "source": [
    "We know that the pulse transfer function is of the form\n",
    "\n",
    "$H(q) = \\;${{H}} \n",
    "\n",
    "Therefore, the measurment model can be found to be"
   ]
  },
  {
   "cell_type": "markdown",
   "id": "8281634c",
   "metadata": {},
   "source": [
    "$y(t+2) = -a_1y(t+1) - a_2y(t) + b_0u(t+1) + b_1u(t)$\n",
    "\n",
    "$\\Rightarrow y(t) = -a_1y(t-1) - a_2y(t-2) + b_0u(t-1) + b_1u(t-2)$\n",
    "\n",
    "Therfore\n",
    "\n",
    "$y(t) = \\phi^T(t)\\theta = [-y(t-1)\\; -y(t-2) \\;\\;u(t-1) \\;\\;u(t-2)][a_1 \\;a_2 \\; b_0 \\; b_1]^T$"
   ]
  },
  {
   "cell_type": "code",
   "execution_count": 13,
   "id": "c18eacc8",
   "metadata": {},
   "outputs": [],
   "source": [
    "TR = simplify(T_/R_)\n",
    "SR = simplify(S_/R_)\n",
    "\n",
    "obj_TR = numden_coeff(TR, q)\n",
    "obj_SR = numden_coeff(SR, q)\n",
    "\n",
    "aTR = obj_TR.lst_denum_coeff\n",
    "bTR = obj_TR.lst_num_coeff\n",
    "\n",
    "aSR = obj_SR.lst_denum_coeff\n",
    "bSR = obj_SR.lst_num_coeff"
   ]
  },
  {
   "cell_type": "markdown",
   "id": "5fe07fa7",
   "metadata": {},
   "source": [
    "For $\\frac{T}{R}$, the coefficients of the numerator and denominator are\n",
    "\n",
    "$\\alpha\\frac{T}{R} =\\;$ {{aTR}} \n",
    "\n",
    "and\n",
    "\n",
    "$\\beta\\frac{T}{R} =\\;$ {{bTR}}\n",
    "\n",
    "while the coefficients of the numerator and denominator for $\\frac{S}{R}$ are\n",
    "\n",
    "$\\alpha\\frac{S}{R} =\\;$ {{aSR}}\n",
    "\n",
    "and\n",
    "\n",
    "$\\beta\\frac{S}{R} =\\;$ {{bSR}}"
   ]
  },
  {
   "cell_type": "code",
   "execution_count": 14,
   "id": "6b314ca3",
   "metadata": {},
   "outputs": [],
   "source": [
    "u_k_1, uc_k, y_k, y_k_1, y_k_2 = sp.symbols('u(k-1) u_{c}(k) y(k) y(k-1) y(k-2)')\n",
    "\n",
    "uk = -u_k_1*aTR[1] + uc_k*bTR[0] - y_k*bSR[0] - y_k_1*bSR[1]"
   ]
  },
  {
   "cell_type": "markdown",
   "id": "f28d22fa",
   "metadata": {},
   "source": [
    "The control equation in terms of the plant and model parameters is\n",
    "\n",
    "$u(t) = \\;${{uk}}"
   ]
  },
  {
   "cell_type": "code",
   "execution_count": 15,
   "id": "8c652a88",
   "metadata": {},
   "outputs": [
    {
     "data": {
      "text/latex": [
       "$\\displaystyle a_1 =-2.06805973953567$"
      ],
      "text/plain": [
       "<IPython.core.display.Math object>"
      ]
     },
     "metadata": {},
     "output_type": "display_data"
    },
    {
     "data": {
      "text/latex": [
       "$\\displaystyle a_2 =1.06805973953567$"
      ],
      "text/plain": [
       "<IPython.core.display.Math object>"
      ]
     },
     "metadata": {},
     "output_type": "display_data"
    },
    {
     "data": {
      "text/latex": [
       "$\\displaystyle b_0 =0.0203365645480186$"
      ],
      "text/plain": [
       "<IPython.core.display.Math object>"
      ]
     },
     "metadata": {},
     "output_type": "display_data"
    },
    {
     "data": {
      "text/latex": [
       "$\\displaystyle b_1 =-0.0210171619433753$"
      ],
      "text/plain": [
       "<IPython.core.display.Math object>"
      ]
     },
     "metadata": {},
     "output_type": "display_data"
    }
   ],
   "source": [
    "zeta_val = 1\n",
    "omega_val = 1\n",
    "T_val = 0.01\n",
    "b_val = 6.58436748684758 \n",
    "a1_val = a1_eq.subs([(b, b_val), (Ts, T_val)])\n",
    "a2_val = a2_eq.subs([(b, b_val), (Ts, T_val)])\n",
    "b0_val = b0_eq.subs([(b, b_val), (Ts, T_val)])\n",
    "b1_val = b1_eq.subs([(b, b_val), (Ts, T_val)])\n",
    "\n",
    "# a1_func = sp.lambdify(T, a1_val)\n",
    "\n",
    "display(Math(\"a_1 =\" + latex(a1_val)))\n",
    "display(Math(\"a_2 =\" + latex(a2_val)))\n",
    "display(Math(\"b_0 =\" + latex(b0_val)))\n",
    "display(Math(\"b_1 =\" + latex(b1_val)))"
   ]
  },
  {
   "cell_type": "code",
   "execution_count": 130,
   "id": "86f98c51",
   "metadata": {},
   "outputs": [
    {
     "data": {
      "text/latex": [
       "$\\displaystyle a_{m1}=-1.9872179797874$"
      ],
      "text/plain": [
       "<IPython.core.display.Math object>"
      ]
     },
     "metadata": {},
     "output_type": "display_data"
    },
    {
     "data": {
      "text/latex": [
       "$\\displaystyle a_{m2}=0.98728157159029$"
      ],
      "text/plain": [
       "<IPython.core.display.Math object>"
      ]
     },
     "metadata": {},
     "output_type": "display_data"
    },
    {
     "data": {
      "text/latex": [
       "$\\displaystyle u_k=- \\frac{a_{2} y(k-1) \\left(- b_{0} \\left(a_{2} - 0.98728157159029\\right) + b_{1} \\left(a_{1} + 1.9872179797874\\right)\\right)}{- a_{1} b_{0} b_{1} + a_{2} b_{0}^{2} + b_{1}^{2}} - \\frac{b_{1} u(k-1) \\left(a_{1} b_{1} - a_{2} b_{0} + 0.98728157159029 b_{0} + 1.9872179797874 b_{1}\\right)}{a_{1} b_{0} b_{1} - a_{2} b_{0}^{2} - b_{1}^{2}} + \\frac{6.35918028921711 \\cdot 10^{-5} u_{c}(k)}{b_{0} + b_{1}} - \\frac{y(k) \\left(a_{1}^{2} b_{1} - a_{1} a_{2} b_{0} + 1.9872179797874 a_{1} b_{1} - 1.9872179797874 a_{2} b_{0} - a_{2} b_{1} + 0.98728157159029 b_{1}\\right)}{- a_{1} b_{0} b_{1} + a_{2} b_{0}^{2} + b_{1}^{2}}$"
      ],
      "text/plain": [
       "<IPython.core.display.Math object>"
      ]
     },
     "metadata": {},
     "output_type": "display_data"
    }
   ],
   "source": [
    "zeta_val = 0.8\n",
    "omega_val = 0.8\n",
    "T_val = 0.01\n",
    "\n",
    "# values for simulation only vvvvvvvvvvvvvvvvvvvv\n",
    "b_val = 6.58436748684758 \n",
    "a1_val = float(a1_eq.subs([(b, b_val), (Ts, T_val)]))\n",
    "a2_val = float(a2_eq.subs([(b, b_val), (Ts, T_val)]))\n",
    "b0_val = float(b0_eq.subs([(b, b_val), (Ts, T_val)]))\n",
    "b1_val = float(b1_eq.subs([(b, b_val), (Ts, T_val)]))\n",
    "# values for simulation only ^^^^^^^^^^^^^^^^^^^^\n",
    "\n",
    "# Create z-domain tf for reference model with true values for zeta, omega and T. \n",
    "# Results will be used to determin true values for am1 and am2\n",
    "Bz, Az = co.tfdata(co.sample_system(co.tf([omega_val**2], [1, 2*zeta_val*omega_val, omega_val**2]),\n",
    "                          Ts=T_val, \n",
    "                          method='zoh'))\n",
    "am1_val = Az[0][0][1]\n",
    "am2_val = Az[0][0][2]\n",
    "\n",
    "# make control equation in terms of a1, a2, b0 and b1 and sub in true vals of am1 and am2\n",
    "uk_subd = uk.subs([(r1, r_1), (s0, s_0), (s1, s_1), (am1, am1_val), (am2, am2_val), (r0, r_0)])\n",
    "uk_func = sp.lambdify([u_k_1, uc_k, y_k, y_k_1, a1, a2, b0, b1], uk_subd) # turn eq into function\n",
    "\n",
    "display(Math(\"a_{m1}=\"+latex(am1_val)))\n",
    "display(Math(\"a_{m2}=\"+latex(am2_val)))\n",
    "display(Math(\"u_k=\"+latex(uk_subd)))"
   ]
  },
  {
   "cell_type": "code",
   "execution_count": 146,
   "id": "d85a3858",
   "metadata": {
    "scrolled": false
   },
   "outputs": [
    {
     "data": {
      "image/png": "[encoded data removed]",
      "text/plain": [
       "<Figure size 1440x720 with 1 Axes>"
      ]
     },
     "metadata": {
      "needs_background": "light"
     },
     "output_type": "display_data"
    },
    {
     "data": {
      "image/png": "[encoded data removed]",
      "text/plain": [
       "<Figure size 1440x720 with 1 Axes>"
      ]
     },
     "metadata": {
      "needs_background": "light"
     },
     "output_type": "display_data"
    },
    {
     "data": {
      "image/png": "[encoded data removed]",
      "text/plain": [
       "<Figure size 1440x720 with 1 Axes>"
      ]
     },
     "metadata": {
      "needs_background": "light"
     },
     "output_type": "display_data"
    }
   ],
   "source": [
    "# Tunable components vvvvvvvvvvvvvvvvvvvvvvvvvvvvvvvv\n",
    "sample_depth = 10000\n",
    "starting_samples = 2\n",
    "\n",
    "# starting estimate for plant parameters\n",
    "est = 0.5\n",
    "\n",
    "lam = 1 # forgeting factor lambda\n",
    "\n",
    "# true plant parameters\n",
    "theta0 = np.array([a1_val, a2_val, b0_val, b1_val]).reshape(-1,1)\n",
    "\n",
    "# Tunable components ^^^^^^^^^^^^^^^^^^^^^^^^^^^^^^^^\n",
    "\n",
    "theta_hat = [np.array([est]*len(theta0)).reshape(-1,1) for _ in range(starting_samples)]\n",
    "\n",
    "# System input TODO*********************************************************\n",
    "sample_range = range(sample_depth)\n",
    "t = [i for i in sample_range]\n",
    "u_c = np.ones(sample_depth)\n",
    "u_c[np.where([m.sin(t[i]*m.pi/1000)<=0 for i in sample_range])] = 0\n",
    "\n",
    "y = [0.1]*starting_samples\n",
    "u = [0.1]*starting_samples\n",
    "\n",
    "I = np.identity(len(theta0))\n",
    "p = 1000*I \n",
    "p_res = []\n",
    "    \n",
    "for k in range(starting_samples ,sample_depth):\n",
    "    phi = np.array([-y[-1], -y[-2], u[-1], u[-2]]).reshape(-1,1)\n",
    "    \n",
    "    y.append(np.reshape(phi.T@theta0, ()))\n",
    "    K = p@phi@inv(lam + phi.T@p@phi)\n",
    "    p = (I - K@phi.T)@p/lam\n",
    "    p_res.append(p)\n",
    "    theta_hat.append(theta_hat[-1] + K*(y[k] - phi.T@theta_hat[-1]))\n",
    "    \n",
    "      \n",
    "    u.append(np.reshape(uk_func(u[k-1], u_c[k], y[k], y[k-1], \n",
    "                                theta_hat[-1][0], theta_hat[-1][1], \n",
    "                                theta_hat[-1][2], theta_hat[-1][3])[0], ()))\n",
    "\n",
    "\n",
    "# ploting of estimated parameters\n",
    "df_theta = pd.DataFrame(np.asarray(theta_hat).reshape(-1,4,), columns=['a1', 'a2', 'b0', 'b1'])\n",
    "theta_hat_ploter(df_theta, theta0, 'Theta_hat Estimates')\n",
    "\n",
    "# ploting of control sig\n",
    "plt.step(t,u)\n",
    "plt.title('Control Input', fontsize=20)\n",
    "plt.ylabel('u(t)', fontsize=18)\n",
    "plt.xlabel('Time Stamps \"t\"', fontsize=18)\n",
    "plt.grid()\n",
    "plt.show()\n",
    "\n",
    "# ploting of input vs output\n",
    "plt.plot(t[-5000:],u_c[-5000:])\n",
    "plt.plot(t[-5000:],y[-5000:])\n",
    "plt.title('u_c(t) Vs y(t)', fontsize=20)\n",
    "plt.ylabel('Magnitude', fontsize=18)\n",
    "plt.xlabel('Time Stamps \"t\"', fontsize=18)\n",
    "plt.show()\n"
   ]
  },
  {
   "cell_type": "code",
   "execution_count": 124,
   "id": "9d2602e5",
   "metadata": {},
   "outputs": [
    {
     "data": {
      "text/latex": [
       "$\\displaystyle 10000$"
      ],
      "text/plain": [
       "10000"
      ]
     },
     "execution_count": 124,
     "metadata": {},
     "output_type": "execute_result"
    }
   ],
   "source": [
    "out = [idx for idx, value in enumerate(p_res) if (np.isnan(value) == True).any()]\n",
    "# p_res[-1][0][0] = 1\n",
    "# p_res[-1]\n",
    "# display((np.isnan(p_res[-1]) == True).any())\n",
    "len(u_c)"
   ]
  }
 ],
 "metadata": {
  "kernelspec": {
   "display_name": "Python 3 (ipykernel)",
   "language": "python",
   "name": "python3"
  },
  "language_info": {
   "codemirror_mode": {
    "name": "ipython",
    "version": 3
   },
   "file_extension": ".py",
   "mimetype": "text/x-python",
   "name": "python",
   "nbconvert_exporter": "python",
   "pygments_lexer": "ipython3",
   "version": "3.9.2"
  }
 },
 "nbformat": 4,
 "nbformat_minor": 5
}
