{
 "cells": [
  {
   "cell_type": "code",
   "execution_count": 2,
   "id": "763b9029",
   "metadata": {},
   "outputs": [],
   "source": [
    "import pandas as pd\n",
    "import numpy as np\n",
    "from numpy.linalg import inv\n",
    "import math as m\n",
    "from math import sqrt\n",
    "import sympy as sp\n",
    "from sympy import collect, simplify, expand, fraction, latex\n",
    "from sympy.integrals import laplace_transform as laplace\n",
    "from sympy.integrals import inverse_laplace_transform as ilaplace\n",
    "from IPython.display import display, Markdown, Math\n",
    "import control as co\n",
    "import seaborn as sns\n",
    "import matplotlib.pyplot as plt\n",
    "from matplotlib import colors as mcolors\n",
    "sp.init_printing(use_latex='mathjax')\n",
    "plt.rcParams['figure.figsize'] = [20, 10]"
   ]
  },
  {
   "cell_type": "code",
   "execution_count": 3,
   "id": "b4891be2",
   "metadata": {},
   "outputs": [],
   "source": [
    "class numden_coeff:\n",
    "    def __init__(self, expr, symb):\n",
    "        self.num, self.denum = fraction(expr)\n",
    "        self.symb = symb\n",
    "        self.common_factor = None\n",
    "        self.lst_denum_coeff = self.build_lst(self.denum)\n",
    "        self.lst_num_coeff = self.build_lst(self.num)\n",
    "        \n",
    "    def build_lst(self, poly):\n",
    "        order = sp.Poly(poly, self.symb).degree()\n",
    "        lst = [expand(poly).coeff(self.symb**i) for i in range((order), 0, -1)]\n",
    "        lst.append(poly.subs(self.symb,0))\n",
    "        if (self.common_factor == None):\n",
    "            self.common_factor = lst[0]\n",
    "            \n",
    "        lst = [simplify(lst[i]/self.common_factor) for i in range(order + 1)]\n",
    "        return lst\n",
    "    \n",
    "    def disp(self):\n",
    "        display(Markdown(r\"Numerator coefficients (\\beta)\"), self.lst_num_coeff)\n",
    "        display(Markdown(r\"Denominator coefficients (alpha)\"), self.lst_denum_coeff)"
   ]
  },
  {
   "cell_type": "code",
   "execution_count": 4,
   "id": "f122fe9a",
   "metadata": {},
   "outputs": [],
   "source": [
    "def tf_to_symbolic_fraction(tf):\n",
    "    x = symbols('x')\n",
    "    num, den = tfdata(tf)\n",
    "    num = num[0][0]\n",
    "    den = den[0][0]\n",
    "    counter = 1\n",
    "    length_num = len(num)\n",
    "    length_den = len(den)\n",
    "\n",
    "    sym_num, sym_den = 0,0\n",
    "\n",
    "    if(length_num == 0):\n",
    "        raise ValueError (\"The fraction num should not be empty\")\n",
    "    elif(length_den == 0 ):\n",
    "        raise ValueError(\"The fraction den should not be empty\")\n",
    "\n",
    "    for i in range(length_num):\n",
    "        sym_num+=num[i]*(x**(length_num - counter))\n",
    "        counter += counter\n",
    "    counter = 1\n",
    "    for i in range(length_den):\n",
    "        sym_den+=den[i]*(x**(length_den - counter))\n",
    "        counter += counter\n",
    "    return sym_num/sym_den"
   ]
  },
  {
   "cell_type": "code",
   "execution_count": 5,
   "id": "217a0bb2",
   "metadata": {},
   "outputs": [
    {
     "data": {
      "text/latex": [
       "$\\displaystyle \\frac{b}{b s + s^{2}}$"
      ],
      "text/plain": [
       "   b    \n",
       "────────\n",
       "       2\n",
       "b⋅s + s "
      ]
     },
     "metadata": {},
     "output_type": "display_data"
    },
    {
     "data": {
      "text/latex": [
       "$\\displaystyle \\frac{1}{s^{2}} + \\frac{1}{b \\left(b + s\\right)} - \\frac{1}{b s}$"
      ],
      "text/plain": [
       "1        1        1 \n",
       "── + ───────── - ───\n",
       " 2   b⋅(b + s)   b⋅s\n",
       "s                   "
      ]
     },
     "metadata": {},
     "output_type": "display_data"
    },
    {
     "data": {
      "text/latex": [
       "$\\displaystyle t - \\frac{1}{b} + \\frac{e^{- b t}}{b}$"
      ],
      "text/plain": [
       "         -b⋅t\n",
       "    1   ℯ    \n",
       "t - ─ + ─────\n",
       "    b     b  "
      ]
     },
     "metadata": {},
     "output_type": "display_data"
    },
    {
     "data": {
      "text/latex": [
       "$\\displaystyle T n - \\frac{1}{b} + \\frac{e^{- T b n}}{b}$"
      ],
      "text/plain": [
       "           -T⋅b⋅n\n",
       "      1   ℯ      \n",
       "T⋅n - ─ + ───────\n",
       "      b      b   "
      ]
     },
     "metadata": {},
     "output_type": "display_data"
    }
   ],
   "source": [
    "a1, a2, b0, b1 = sp.symbols('a_{1} a_{2} b_{0} b_{1}')\n",
    "am1, am2, bm0, bm1 = sp.symbols('a_{m1} a_{m2} b_{m0} b_{m1}')\n",
    "T, t = sp.symbols(\"T t\", positive=True, real=True)\n",
    "n, b, zeta, omega = sp.symbols('n b zeta omega', real=True)\n",
    "s, z, q = sp.symbols(\"s z q\")\n",
    "\n",
    "zeta_val = 1\n",
    "omega_val = 1\n",
    "\n",
    "B = b\n",
    "A = (s**2 + s*b)\n",
    "G = B/A\n",
    "display(G)\n",
    "\n",
    "G_pf = sp.apart(G/s, s)\n",
    "\n",
    "temp = ilaplace(G_pf, s, t)\n",
    "temp_nT = temp.subs(t, T*n)\n",
    "\n",
    "display(G_pf)\n",
    "display(temp)\n",
    "display(temp_nT)"
   ]
  },
  {
   "cell_type": "code",
   "execution_count": 6,
   "id": "909ffb5e",
   "metadata": {},
   "outputs": [
    {
     "data": {
      "text/latex": [
       "$\\displaystyle \\frac{T}{z \\left(1 - \\frac{1}{z}\\right)^{2}} + \\frac{1}{b \\left(1 - \\frac{e^{T b}}{z}\\right)} - \\frac{1}{b \\left(1 - \\frac{1}{z}\\right)}$"
      ],
      "text/plain": [
       "    T             1             1    \n",
       "────────── + ──────────── - ─────────\n",
       "         2     ⎛     T⋅b⎞     ⎛    1⎞\n",
       "  ⎛    1⎞      ⎜    ℯ   ⎟   b⋅⎜1 - ─⎟\n",
       "z⋅⎜1 - ─⎟    b⋅⎜1 - ────⎟     ⎝    z⎠\n",
       "  ⎝    z⎠      ⎝     z  ⎠            "
      ]
     },
     "execution_count": 6,
     "metadata": {},
     "output_type": "execute_result"
    }
   ],
   "source": [
    "temp_z = T*(z**-1)/(1 - z**-1)**2 - 1/((1 - z**-1)*b) + b**-1/(1 - sp.exp(T*b)*z**-1)\n",
    "temp_z"
   ]
  },
  {
   "cell_type": "code",
   "execution_count": 7,
   "id": "96f7be2a",
   "metadata": {},
   "outputs": [
    {
     "data": {
      "text/latex": [
       "$\\displaystyle H_z =\\;\\frac{- T b e^{T b} + z \\left(T b + e^{T b} - 1\\right) - e^{T b} + 1}{b \\left(z^{2} + z \\left(- e^{T b} - 1\\right) + e^{T b}\\right)}$"
      ],
      "text/plain": [
       "<IPython.core.display.Math object>"
      ]
     },
     "metadata": {},
     "output_type": "display_data"
    }
   ],
   "source": [
    "H_z = collect(simplify(expand((1 - z**-1)*temp_z)), z)\n",
    "# B,A = fraction(H_z)\n",
    "\n",
    "display(Math(\"H_z =\\;\"+latex(H_z)))\n",
    "# display(Math(\"B =\\;\"+latex(B)))\n",
    "# display(Math(\"A =\\;\"+latex(A)))"
   ]
  },
  {
   "cell_type": "code",
   "execution_count": 8,
   "id": "2fccd4c8",
   "metadata": {},
   "outputs": [
    {
     "data": {
      "text/latex": [
       "$\\displaystyle \\frac{b_{0} q + b_{1}}{a_{1} q + a_{2} + q^{2}}$"
      ],
      "text/plain": [
       "  b_{0}⋅q + b_{1}   \n",
       "────────────────────\n",
       "                   2\n",
       "a_{1}⋅q + a_{2} + q "
      ]
     },
     "execution_count": 8,
     "metadata": {},
     "output_type": "execute_result"
    }
   ],
   "source": [
    "A = q**2 + a1*q + a2\n",
    "B = b0*q + b1\n",
    "\n",
    "Am = q**2 + am1*q + am2\n",
    "\n",
    "A_pol = sp.Poly(A)\n",
    "B_pol = sp.Poly(B)\n",
    "\n",
    "B_minus = B\n",
    "B_plus = 1\n",
    "H = B/A\n",
    "H"
   ]
  },
  {
   "cell_type": "markdown",
   "id": "4057382d",
   "metadata": {
    "variables": {
     "B": "$\\displaystyle b_{0} q + b_{1}$"
    }
   },
   "source": [
    "$B = B^-=\\;$ {{B}}\n",
    "\n",
    "$B^+=1$"
   ]
  },
  {
   "cell_type": "code",
   "execution_count": 9,
   "id": "2344225b",
   "metadata": {},
   "outputs": [
    {
     "data": {
      "text/latex": [
       "$\\displaystyle \\frac{a_{m1} + a_{m2} + 1}{b_{0} + b_{1}}$"
      ],
      "text/plain": [
       "a_{m1} + a_{m2} + 1\n",
       "───────────────────\n",
       "   b_{0} + b_{1}   "
      ]
     },
     "execution_count": 9,
     "metadata": {},
     "output_type": "execute_result"
    }
   ],
   "source": [
    "Bm_b = sp.Symbol(\"\\\\bar{B}_m\")\n",
    "\n",
    "# Gm = Bm/Am = (B^-)*Bm_bar/Am = 1 [final value theorem]\n",
    "Bm_bar = sp.solve(sp.Eq(B_minus*Bm_b/Am, 1),Bm_b)[0].subs(q,1)\n",
    "Bm_bar"
   ]
  },
  {
   "cell_type": "markdown",
   "id": "6bd61f8f",
   "metadata": {},
   "source": [
    "$$Deg(B^+) = 0$$\n",
    "$$Deg(B^-) = 1$$"
   ]
  },
  {
   "cell_type": "markdown",
   "id": "b2e75207",
   "metadata": {},
   "source": [
    "$$Deg(A) = Deg(A_m) = 2$$"
   ]
  },
  {
   "cell_type": "markdown",
   "id": "2dfeba8b",
   "metadata": {},
   "source": [
    "$$Deg(S) = Deg(R) = Deg(A) - 1 = 2 - 1 = 1$$"
   ]
  },
  {
   "cell_type": "markdown",
   "id": "60a3857d",
   "metadata": {},
   "source": [
    "$$Deg(R^{'}) = Deg(R) - Deg(B^+) = 1 - 0 = 1$$"
   ]
  },
  {
   "cell_type": "markdown",
   "id": "5fc6690a",
   "metadata": {},
   "source": [
    "$$Deg(A_0) = Deg(A) + Deg(R^{'}) - Deg(A_m) = 2 + 1 - 2 = 1$$"
   ]
  },
  {
   "cell_type": "code",
   "execution_count": 10,
   "id": "8f48457f",
   "metadata": {},
   "outputs": [
    {
     "data": {
      "text/latex": [
       "$\\displaystyle \\frac{b_{0} q + b_{1}}{a_{1} q + a_{2} + q^{2}}$"
      ],
      "text/plain": [
       "  b_{0}⋅q + b_{1}   \n",
       "────────────────────\n",
       "                   2\n",
       "a_{1}⋅q + a_{2} + q "
      ]
     },
     "execution_count": 10,
     "metadata": {},
     "output_type": "execute_result"
    }
   ],
   "source": [
    "a1, a2, b0, b1 = sp.symbols('a_{1} a_{2} b_{0} b_{1}')\n",
    "am1, am2, bm0, bm1 = sp.symbols('a_{m1} a_{m2} b_{m0} b_{m1}')\n",
    "r0, r1, s0, s1, a0 = sp.symbols('r_0 r_1 s_0 s_1 a_0')\n",
    "t0 = sp.symbols('t_0')\n",
    "\n",
    "H"
   ]
  },
  {
   "cell_type": "code",
   "execution_count": 11,
   "id": "30d672f5",
   "metadata": {},
   "outputs": [],
   "source": [
    "A0 = q # might need to select something differnt if too sensitive to noise\n",
    "S = s0*q + s1\n",
    "R = r0*q+ r1\n",
    "R_prime = R\n",
    "\n",
    "Bm = B_minus*Bm_bar\n",
    "# T = simplify(A0*Bm/B_minus)\n",
    "T = Bm*A0/B_minus"
   ]
  },
  {
   "cell_type": "markdown",
   "id": "62f8f25e",
   "metadata": {
    "variables": {
     "A0": "$\\displaystyle q$",
     "Am": "$\\displaystyle a_{m1} q + a_{m2} + q^{2}$",
     "Bm": "$\\displaystyle \\frac{\\left(b_{0} q + b_{1}\\right) \\left(a_{m1} + a_{m2} + 1\\right)}{b_{0} + b_{1}}$",
     "R": "$\\displaystyle q r_{0} + r_{1}$",
     "S": "$\\displaystyle q s_{0} + s_{1}$",
     "T": "$\\displaystyle \\frac{q \\left(a_{m1} + a_{m2} + 1\\right)}{b_{0} + b_{1}}$"
    }
   },
   "source": [
    "The control polynomials become\n",
    "\n",
    "$A_0 =\\;${{A0}}\n",
    "\n",
    "$S =\\;${{S}}\n",
    "\n",
    "$R =R^{'}=\\;${{R}}\n",
    "\n",
    "\n",
    "$A_m =\\;${{Am}}\n",
    "\n",
    "Additionally, to achive unity gain, the final value theorem can implemented on $A_m$ to obtain the value of $B_m$. This is achived by the equation $B_m = A_m(1)q^m$.This way, when k goes to infinity ($q \\rightarrow 1$), $G_m = 1$ and $Deg(B_m) = Deg(B)$. Therfore,\n",
    "\n",
    "$B_m =\\;${{Bm}}\n",
    "\n",
    "From this result, $T$ can be calculated\n",
    "\n",
    "$T = A_0\\frac{B_m}{B^{-}} =\\;${{T}} "
   ]
  },
  {
   "cell_type": "code",
   "execution_count": 12,
   "id": "5054c6c5",
   "metadata": {},
   "outputs": [
    {
     "data": {
      "text/latex": [
       "$\\displaystyle a_{1} + b_{0} s_{0} + r_{1} = a_{m1}$"
      ],
      "text/plain": [
       "a_{1} + b_{0}⋅s₀ + r₁ = a_{m1}"
      ]
     },
     "metadata": {},
     "output_type": "display_data"
    },
    {
     "data": {
      "text/latex": [
       "$\\displaystyle a_{1} r_{1} + a_{2} + b_{0} s_{1} + b_{1} s_{0} = a_{m2}$"
      ],
      "text/plain": [
       "a_{1}⋅r₁ + a_{2} + b_{0}⋅s₁ + b_{1}⋅s₀ = a_{m2}"
      ]
     },
     "metadata": {},
     "output_type": "display_data"
    },
    {
     "data": {
      "text/latex": [
       "$\\displaystyle a_{2} r_{1} + b_{1} s_{1} = 0$"
      ],
      "text/plain": [
       "a_{2}⋅r₁ + b_{1}⋅s₁ = 0"
      ]
     },
     "metadata": {},
     "output_type": "display_data"
    },
    {
     "data": {
      "text/latex": [
       "$\\displaystyle \\left[\\begin{matrix}- a_{1} + a_{m1}\\\\- a_{2} + a_{m2}\\\\0\\end{matrix}\\right]$"
      ],
      "text/plain": [
       "⎡-a_{1} + a_{m1}⎤\n",
       "⎢               ⎥\n",
       "⎢-a_{2} + a_{m2}⎥\n",
       "⎢               ⎥\n",
       "⎣       0       ⎦"
      ]
     },
     "metadata": {},
     "output_type": "display_data"
    }
   ],
   "source": [
    "LHS_coeffs = sp.Poly(A*R_prime + B_minus*S, q).coeffs()[::-1]\n",
    "RHS_coeffs = sp.Poly(expand(A0*Am), q).coeffs()[::-1]\n",
    "\n",
    "eq_3 = sp.Eq(LHS_coeffs[3], RHS_coeffs[2])\n",
    "eq_2 = sp.Eq(LHS_coeffs[2], RHS_coeffs[1])\n",
    "eq_1 = sp.Eq(LHS_coeffs[1], RHS_coeffs[0])\n",
    "eq_0 = sp.Eq(LHS_coeffs[0], 0)\n",
    "\n",
    "# display(LHS_coeffs)\n",
    "# display(RHS_coeffs)\n",
    "\n",
    "r_0 = sp.solve(eq_3, r0)[0]\n",
    "\n",
    "eq_2 = eq_2.subs(r0, r_0)\n",
    "eq_1 = eq_1.subs(r0, r_0)\n",
    "eq_0 = eq_0.subs(r0, r_0)\n",
    "\n",
    "display(eq_2)\n",
    "display(eq_1)\n",
    "display(eq_0)\n",
    "\n",
    "mat_lhs = sp.Matrix([[1, b0, 0], [a1, b1, b0], [a2, 0, b1]])\n",
    "mat_rhs = sp.Matrix([[am1 - a1], [am2 - a2], [0]])\n",
    "display(mat_rhs)\n",
    "\n",
    "res = mat_lhs.inv()@mat_rhs\n",
    "r_1 = res[0]\n",
    "s_0 = res[1]\n",
    "s_1 = res[2]"
   ]
  },
  {
   "cell_type": "code",
   "execution_count": 20,
   "id": "9d3361d9",
   "metadata": {},
   "outputs": [
    {
     "data": {
      "text/latex": [
       "$\\displaystyle R =\\;\\frac{b_{0} b_{1} \\left(a_{2} - a_{m2}\\right) + b_{1}^{2} \\left(- a_{1} + a_{m1}\\right) + q r_{0} \\left(- a_{1} b_{0} b_{1} + a_{2} b_{0}^{2} + b_{1}^{2}\\right)}{- a_{1} b_{0} b_{1} + a_{2} b_{0}^{2} + b_{1}^{2}}$"
      ],
      "text/plain": [
       "<IPython.core.display.Math object>"
      ]
     },
     "metadata": {},
     "output_type": "display_data"
    },
    {
     "data": {
      "text/latex": [
       "$\\displaystyle S =\\;\\frac{- a_{2} b_{0} \\left(a_{2} - a_{m2}\\right) + a_{2} b_{1} \\left(a_{1} - a_{m1}\\right) - q \\left(b_{1} \\left(a_{2} - a_{m2}\\right) - \\left(a_{1} - a_{m1}\\right) \\left(a_{1} b_{1} - a_{2} b_{0}\\right)\\right)}{- a_{1} b_{0} b_{1} + a_{2} b_{0}^{2} + b_{1}^{2}}$"
      ],
      "text/plain": [
       "<IPython.core.display.Math object>"
      ]
     },
     "metadata": {},
     "output_type": "display_data"
    },
    {
     "data": {
      "text/latex": [
       "$\\displaystyle T =\\;\\frac{q \\left(a_{m1} + a_{m2} + 1\\right)}{b_{0} + b_{1}}$"
      ],
      "text/plain": [
       "<IPython.core.display.Math object>"
      ]
     },
     "metadata": {},
     "output_type": "display_data"
    }
   ],
   "source": [
    "R_ = simplify(R.subs(r1, r_1))\n",
    "S_ = simplify(S.subs([(s0, s_0), (s1, s_1)]))\n",
    "T_ = simplify(T)\n",
    "\n",
    "display(Math(\"R =\\;\"+latex(R_)))\n",
    "display(Math(\"S =\\;\"+latex(S_)))\n",
    "display(Math(\"T =\\;\"+latex(T_)))"
   ]
  },
  {
   "cell_type": "markdown",
   "id": "0f225893",
   "metadata": {
    "variables": {
     "H": "$\\displaystyle \\frac{b_{0} q + b_{1}}{a_{1} q + a_{2} + q^{2}}$"
    }
   },
   "source": [
    "We know that the pulse transfer function is of the form\n",
    "\n",
    "$H(q) = \\;${{H}} \n",
    "\n",
    "Therefore, the measurment model can be found to be"
   ]
  },
  {
   "cell_type": "markdown",
   "id": "8281634c",
   "metadata": {},
   "source": [
    "$y(t+2) = -a_1y(t+1) - a_2y(t) + b_0u(t+1) + b_1u(t)$\n",
    "\n",
    "$\\Rightarrow y(t) = -a_1y(t-1) - a_2y(t-2) + b_0u(t-1) + b_1u(t-2)$\n",
    "\n",
    "Therfore\n",
    "\n",
    "$y(t) = \\phi^T(t)\\theta = [-y(t-1)\\; -y(t-2) \\;\\;u(t-1) \\;\\;u(t-2)][a_1 \\;a_2 \\; b_0 \\; b_1]^T$"
   ]
  },
  {
   "cell_type": "code",
   "execution_count": 19,
   "id": "c18eacc8",
   "metadata": {},
   "outputs": [],
   "source": [
    "TR = simplify(T_/R_)\n",
    "SR = simplify(S_/R_)\n",
    "\n",
    "obj_TR = numden_coeff(TR, q)\n",
    "obj_SR = numden_coeff(SR, q)\n",
    "\n",
    "aTR = obj_TR.lst_denum_coeff\n",
    "bTR = obj_TR.lst_num_coeff\n",
    "\n",
    "aSR = obj_SR.lst_denum_coeff\n",
    "bSR = obj_SR.lst_num_coeff"
   ]
  },
  {
   "cell_type": "markdown",
   "id": "5fe07fa7",
   "metadata": {
    "variables": {
     "aSR": "$\\displaystyle \\left[ 1, \\  \\frac{b_{1} \\left(b_{0} \\left(a_{2} - a_{m2}\\right) + b_{1} \\left(- a_{1} + a_{m1}\\right)\\right)}{r_{0} \\left(- a_{1} b_{0} b_{1} + a_{2} b_{0}^{2} + b_{1}^{2}\\right)}\\right]$",
     "aTR": "$\\displaystyle \\left[ 1, \\  \\frac{b_{1} \\left(a_{1} b_{1} - a_{2} b_{0} - a_{m1} b_{1} + a_{m2} b_{0}\\right)}{r_{0} \\left(a_{1} b_{0} b_{1} - a_{2} b_{0}^{2} - b_{1}^{2}\\right)}\\right]$",
     "bSR": "$\\displaystyle \\left[ \\frac{a_{1}^{2} b_{1} - a_{1} a_{2} b_{0} - a_{1} a_{m1} b_{1} + a_{2} a_{m1} b_{0} - a_{2} b_{1} + a_{m2} b_{1}}{r_{0} \\left(- a_{1} b_{0} b_{1} + a_{2} b_{0}^{2} + b_{1}^{2}\\right)}, \\  \\frac{a_{2} \\left(- b_{0} \\left(a_{2} - a_{m2}\\right) + b_{1} \\left(a_{1} - a_{m1}\\right)\\right)}{r_{0} \\left(- a_{1} b_{0} b_{1} + a_{2} b_{0}^{2} + b_{1}^{2}\\right)}\\right]$",
     "bTR": "$\\displaystyle \\left[ \\frac{a_{m1} + a_{m2} + 1}{r_{0} \\left(b_{0} + b_{1}\\right)}, \\  0\\right]$"
    }
   },
   "source": [
    "For $\\frac{T}{R}$, the coefficients of the numerator and denominator are\n",
    "\n",
    "$\\alpha\\frac{T}{R} =\\;$ {{aTR}} \n",
    "\n",
    "and\n",
    "\n",
    "$\\beta\\frac{T}{R} =\\;$ {{bTR}}\n",
    "\n",
    "while the coefficients of the numerator and denominator for $\\frac{S}{R}$ are\n",
    "\n",
    "$\\alpha\\frac{S}{R} =\\;$ {{aSR}}\n",
    "\n",
    "and\n",
    "\n",
    "$\\beta\\frac{S}{R} =\\;$ {{bSR}}"
   ]
  },
  {
   "cell_type": "code",
   "execution_count": 25,
   "id": "6b314ca3",
   "metadata": {},
   "outputs": [],
   "source": [
    "u_k_1, uc_k, y_k, y_k_1, y_k_2 = sp.symbols('u(k-1) u_{c}(k) y(k) y(k-1) y(k-2)')\n",
    "\n",
    "uk = -u_k_1*aTR[1] + uc_k*bTR[0] - y_k*bSR[0] - y_k_1*bSR[1]"
   ]
  },
  {
   "cell_type": "markdown",
   "id": "f28d22fa",
   "metadata": {
    "variables": {
     "uk": "$\\displaystyle - \\frac{a_{2} y(k-1) \\left(- b_{0} \\left(a_{2} - a_{m2}\\right) + b_{1} \\left(a_{1} - a_{m1}\\right)\\right)}{r_{0} \\left(- a_{1} b_{0} b_{1} + a_{2} b_{0}^{2} + b_{1}^{2}\\right)} - \\frac{b_{1} u(k-1) \\left(a_{1} b_{1} - a_{2} b_{0} - a_{m1} b_{1} + a_{m2} b_{0}\\right)}{r_{0} \\left(a_{1} b_{0} b_{1} - a_{2} b_{0}^{2} - b_{1}^{2}\\right)} + \\frac{u_{c}(k) \\left(a_{m1} + a_{m2} + 1\\right)}{r_{0} \\left(b_{0} + b_{1}\\right)} - \\frac{y(k) \\left(a_{1}^{2} b_{1} - a_{1} a_{2} b_{0} - a_{1} a_{m1} b_{1} + a_{2} a_{m1} b_{0} - a_{2} b_{1} + a_{m2} b_{1}\\right)}{r_{0} \\left(- a_{1} b_{0} b_{1} + a_{2} b_{0}^{2} + b_{1}^{2}\\right)}$"
    }
   },
   "source": [
    "The control equation in terms of the plant and model parameters is\n",
    "\n",
    "$u(t) = \\;${{uk}}"
   ]
  },
  {
   "cell_type": "code",
   "execution_count": null,
   "id": "86f98c51",
   "metadata": {},
   "outputs": [],
   "source": []
  }
 ],
 "metadata": {
  "kernelspec": {
   "display_name": "Python 3 (ipykernel)",
   "language": "python",
   "name": "python3"
  },
  "language_info": {
   "codemirror_mode": {
    "name": "ipython",
    "version": 3
   },
   "file_extension": ".py",
   "mimetype": "text/x-python",
   "name": "python",
   "nbconvert_exporter": "python",
   "pygments_lexer": "ipython3",
   "version": "3.9.2"
  }
 },
 "nbformat": 4,
 "nbformat_minor": 5
}
