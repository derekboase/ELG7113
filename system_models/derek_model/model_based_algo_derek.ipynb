{
 "cells": [
  {
   "cell_type": "code",
   "execution_count": 1,
   "id": "d9ac2dbe",
   "metadata": {},
   "outputs": [],
   "source": [
    "import control as co\n",
    "import pandas as pd\n",
    "import numpy as np \n",
    "import sympy as sp\n",
    "\n",
    "from sympy.abc import a, b, q, s, z, omega, zeta"
   ]
  },
  {
   "cell_type": "code",
   "execution_count": 2,
   "id": "f6e0026b",
   "metadata": {},
   "outputs": [],
   "source": [
    "ys, vs, Gs, Gz = sp.symbols('y(s),v(s),G(s),G(z)')\n",
    "Ts = sp.symbols('T_s')\n",
    "Ts_val = 0.2 # We can modify the sampling time but it can't get much lower than 0.2s with the maths\n",
    "\n",
    "Gs_eq = sp.Eq(Gs, b/(s*(s + b)))"
   ]
  },
  {
   "cell_type": "markdown",
   "id": "ac7b71b4",
   "metadata": {
    "variables": {
     "Gs_eq": "$\\displaystyle G(s) = \\frac{b}{s \\left(b + s\\right)}$"
    }
   },
   "source": [
    "The model is given by {{Gs_eq}}. To discretize, \n",
    "\n",
    "$ G(z) =  (1-z^{-1})\\mathscr{Z}\\big\\{\\frac{b}{s^2(s+b)}\\big\\} $\n",
    "\n",
    "$ G(z) =  (1-z^{-1})\\mathscr{Z}\\big\\{\\frac{1}{s^2} - \\frac{1}{bs} + \\frac{1}{b(b + s)} \\big\\} $"
   ]
  },
  {
   "cell_type": "markdown",
   "id": "983feb26",
   "metadata": {},
   "source": [
    "$ G(z) =  (1-z^{-1})\\big(\\frac{T_sz}{(z-1)^2} - \\frac{1}{b} \\frac{z}{z-1} + \\frac{1}{b} \\frac{z}{z-e^{-bT_s}}\\big) $"
   ]
  },
  {
   "cell_type": "code",
   "execution_count": 3,
   "id": "d8af643b",
   "metadata": {},
   "outputs": [],
   "source": [
    "Gz_eq_Ts_b = sp.simplify(sp.expand((1-1/z)*(Ts*z/(z-1)**2 - z/(b*(z-1)) + z/(b*(z-sp.exp(-b*Ts))))))\n",
    "\n",
    "num, den = sp.fraction(Gz_eq_Ts_b)\n",
    "den_poly = sp.Poly(den, z)\n",
    "mono_div = den_poly.coeffs()[0]\n",
    "# sub_validation = [(Ts, 0.5), (b, 1)]"
   ]
  },
  {
   "cell_type": "markdown",
   "id": "62925724",
   "metadata": {},
   "source": [
    "## Pulse Function"
   ]
  },
  {
   "cell_type": "code",
   "execution_count": 4,
   "id": "3d90cb95",
   "metadata": {},
   "outputs": [],
   "source": [
    "## Example 3.1: since it has the same structure TF I used it to validate my approach, it's consistent\n",
    "# Ts_val = 0.5\n",
    "# sub_vals = [(Ts, Ts_val), (b, 1)]\n",
    "\n",
    "## This is for our project\n",
    "# sub_vals = [(Ts, Ts_val), (b, 6.58436748684758)] # b here was found based on measured values\n",
    "sub_vals = [(Ts, Ts_val)]\n",
    "\n",
    "num_mono_z = sp.collect(num/mono_div, z).subs(sub_vals) # Probably in the loop it's easier to use Poly and .coeffs()\n",
    "den_mono_z = sp.collect(den/mono_div, z).subs(sub_vals) # Probably in the loop it's easier to use Poly and .coeffs()"
   ]
  },
  {
   "cell_type": "code",
   "execution_count": 5,
   "id": "d509b821",
   "metadata": {},
   "outputs": [
    {
     "data": {
      "text/latex": [
       "$\\displaystyle num = \\frac{\\left(- 0.2 b + z \\left(0.2 b e^{0.2 b} - e^{0.2 b} + 1\\right) + e^{0.2 b} - 1\\right) e^{- 0.2 b}}{b}$"
      ],
      "text/plain": [
       "Eq(num, (-0.2*b + z*(0.2*b*exp(0.2*b) - exp(0.2*b) + 1) + exp(0.2*b) - 1)*exp(-0.2*b)/b)"
      ]
     },
     "metadata": {},
     "output_type": "display_data"
    },
    {
     "data": {
      "text/latex": [
       "$\\displaystyle denum = \\left(z^{2} e^{0.2 b} + z \\left(- e^{0.2 b} - 1\\right) + 1\\right) e^{- 0.2 b}$"
      ],
      "text/plain": [
       "Eq(denum, (z**2*exp(0.2*b) + z*(-exp(0.2*b) - 1) + 1)*exp(-0.2*b))"
      ]
     },
     "metadata": {},
     "output_type": "display_data"
    }
   ],
   "source": [
    "num_sym, denum_sym = sp.symbols('num,denum')\n",
    "display(sp.Eq(num_sym, num_mono_z)) \n",
    "display(sp.Eq(denum_sym, den_mono_z))"
   ]
  },
  {
   "cell_type": "markdown",
   "id": "1b59cff5",
   "metadata": {},
   "source": [
    "## Stability Check"
   ]
  },
  {
   "cell_type": "markdown",
   "id": "c5d85386",
   "metadata": {},
   "source": [
    "This is a sanity check with the nominal values to check the stability of the zeros. Here, the zero is unstable for a nominal value of $ b = 6.58436748684758 $. "
   ]
  },
  {
   "cell_type": "code",
   "execution_count": 6,
   "id": "25b82b79",
   "metadata": {},
   "outputs": [
    {
     "data": {
      "text/plain": [
       "6.58436748684758"
      ]
     },
     "execution_count": 6,
     "metadata": {},
     "output_type": "execute_result"
    }
   ],
   "source": [
    "radius = 38/2000  # 38 mm diameter to radius in m\n",
    "mass = 4/7000  # grams per ball\n",
    "area_ball = np.pi * radius**2\n",
    "volume_ball = 4/3*np.pi*radius**3\n",
    "density = 1.2  # kg/m^3\n",
    "veq = 2.8 # m/s\n",
    "\n",
    "b_nom = 2*9.81*(mass-density*volume_ball)/(mass*veq)\n",
    "b_nom"
   ]
  },
  {
   "cell_type": "markdown",
   "id": "3c31a876",
   "metadata": {},
   "source": [
    "### Nominal Pulse Function"
   ]
  },
  {
   "cell_type": "code",
   "execution_count": 7,
   "id": "a982522a",
   "metadata": {},
   "outputs": [
    {
     "data": {
      "text/latex": [
       "$\\displaystyle \\frac{0.0888233086497573 z + 0.0575823297146081}{1.0 z^{2} - 1.26797180817817 z + 0.267971808178173}$"
      ],
      "text/plain": [
       "(0.0888233086497573*z + 0.0575823297146081)/(1.0*z**2 - 1.26797180817817*z + 0.267971808178173)"
      ]
     },
     "execution_count": 7,
     "metadata": {},
     "output_type": "execute_result"
    }
   ],
   "source": [
    "sub_vals = [(Ts, Ts_val), (b, b_nom)]\n",
    "pulse_nom = num_mono_z.subs(sub_vals)/den_mono_z.subs(sub_vals)\n",
    "pulse_nom"
   ]
  },
  {
   "cell_type": "code",
   "execution_count": 8,
   "id": "6ea51b78",
   "metadata": {},
   "outputs": [],
   "source": [
    "num_mono_poly = sp.Poly(num_mono_z, z)\n",
    "num_coeffs = num_mono_poly.coeffs()\n",
    "nom_zero = (num_coeffs[0]/num_coeffs[1]).subs(b, b_nom) # Value of the zero"
   ]
  },
  {
   "cell_type": "code",
   "execution_count": 9,
   "id": "d73accc5",
   "metadata": {},
   "outputs": [
    {
     "data": {
      "text/plain": [
       "array([1.        , 0.26797181])"
      ]
     },
     "execution_count": 9,
     "metadata": {},
     "output_type": "execute_result"
    }
   ],
   "source": [
    "new_coeffs = []\n",
    "for i in den_poly.coeffs():\n",
    "    new_coeffs.append((i/den_poly.coeffs()[0]).subs(sub_vals))\n",
    "np.roots(new_coeffs)"
   ]
  },
  {
   "cell_type": "markdown",
   "id": "90a8bd27",
   "metadata": {},
   "source": [
    "## Control Parameter Derivation"
   ]
  },
  {
   "cell_type": "markdown",
   "id": "82c9c8ea",
   "metadata": {},
   "source": [
    "Given that the zeros are unstable, the parameters are derived without zero cancelation.  \n",
    "\n",
    "Here we know from the compatability conditions that, \n",
    "\n",
    "$ \\text{degA}_m = \\text{degA} = 2 $\n",
    "\n",
    "$ \\text{degB}_m = \\text{degB} = 1 $"
   ]
  },
  {
   "cell_type": "markdown",
   "id": "5068498b",
   "metadata": {},
   "source": [
    "Since the zeros in $ B $ are unstable then $ B^+ = 1 $ and $ B^- = B = b_0q + b_1 $\n",
    "\n",
    "Then, \n",
    "\n",
    "$ \\text{degA}_o = \\text{degA} - \\text{degB}^+ - 1 = 2 - 0 - 1 = 1 $"
   ]
  },
  {
   "cell_type": "markdown",
   "id": "2693aeba",
   "metadata": {},
   "source": [
    "Using the Diophantine equation we get, \n",
    "\n",
    "$ AR + BS = A_oA_m $\n",
    "\n",
    "Let $ A_o = q + a_0$\n",
    "\n",
    "Since the process is second order, then, \n",
    "\n",
    "$ \\text{degR} = \\text{degS} = \\text{degT} = 1 $, \n",
    "\n",
    "with R being monic. "
   ]
  },
  {
   "cell_type": "markdown",
   "id": "dd3dc339",
   "metadata": {},
   "source": [
    "### Process values"
   ]
  },
  {
   "cell_type": "code",
   "execution_count": 10,
   "id": "98d0ac92",
   "metadata": {},
   "outputs": [],
   "source": [
    "am1, am2, bm0, bm1 = sp.symbols('a_{m_1},a_{m_2},b_{m_0},b_{m_1}')\n",
    "ao, a1, a2, b0, b1 = sp.symbols('a_o,a_1,a_2,b_0,b_1')"
   ]
  },
  {
   "cell_type": "code",
   "execution_count": 11,
   "id": "87a8ae9a",
   "metadata": {},
   "outputs": [
    {
     "data": {
      "text/latex": [
       "$\\displaystyle \\frac{b_{0} q + b_{1}}{a_{1} q + a_{2} + q^{2}}$"
      ],
      "text/plain": [
       "(b_0*q + b_1)/(a_1*q + a_2 + q**2)"
      ]
     },
     "metadata": {},
     "output_type": "display_data"
    }
   ],
   "source": [
    "A = den_mono_z.subs(z, q)\n",
    "B = num_mono_z.subs(z, q)\n",
    "_A = q**2 + a1*q + a2\n",
    "_B = b0*q + b1\n",
    "process = _B/_A\n",
    "display(process)"
   ]
  },
  {
   "cell_type": "markdown",
   "id": "c2186837",
   "metadata": {},
   "source": [
    "### Model values"
   ]
  },
  {
   "cell_type": "code",
   "execution_count": 12,
   "id": "ebd560a6",
   "metadata": {},
   "outputs": [],
   "source": [
    "wn = 1\n",
    "damp = 0.7\n",
    "poles = co.sample_system(co.tf([1], [1, 2*0.7, 1]), Ts=0.5, method='zoh').pole()\n",
    "co_mo = sp.Poly(sp.expand((q + poles[0])*(q + poles[1]))).coeffs()\n",
    "Am = co_mo[0]*q**2 + co_mo[1]*q + co_mo[2]\n",
    "Bm = (Am/B).subs(q, 1)*B\n",
    "_Am = q**2 + am1*q + am2\n",
    "_Bm = sp.simplify(sp.expand((_Am/_B).subs(q, 1)*_B))\n",
    "_Ao = q + ao"
   ]
  },
  {
   "cell_type": "markdown",
   "id": "381e745b",
   "metadata": {},
   "source": [
    "### Control Parameters"
   ]
  },
  {
   "cell_type": "code",
   "execution_count": 13,
   "id": "f419b4ef",
   "metadata": {},
   "outputs": [],
   "source": [
    "r0, s0, s1, t0, t1 = sp.symbols('r_0,s_0,s_1,t_0,t_1')\n",
    "_R = q + r0\n",
    "_S = s0*q + s1\n",
    "_T = t0*q + t1"
   ]
  },
  {
   "cell_type": "markdown",
   "id": "7f670757",
   "metadata": {},
   "source": [
    "Diophantine equation: "
   ]
  },
  {
   "cell_type": "code",
   "execution_count": 39,
   "id": "1050dbcb",
   "metadata": {},
   "outputs": [
    {
     "data": {
      "text/latex": [
       "$\\displaystyle \\frac{- a_{0} a_{m_1} b_{0} b_{1} + a_{0} a_{m_2} b_{0}^{2} + a_{0} b_{1}^{2} - a_{1} b_{1}^{2} + a_{2} b_{0} b_{1} + a_{m_1} b_{1}^{2} - a_{m_2} b_{0} b_{1}}{- a_{1} b_{0} b_{1} + a_{2} b_{0}^{2} + b_{1}^{2}}$"
      ],
      "text/plain": [
       "(-a_0*a_{m_1}*b_0*b_1 + a_0*a_{m_2}*b_0**2 + a_0*b_1**2 - a_1*b_1**2 + a_2*b_0*b_1 + a_{m_1}*b_1**2 - a_{m_2}*b_0*b_1)/(-a_1*b_0*b_1 + a_2*b_0**2 + b_1**2)"
      ]
     },
     "execution_count": 39,
     "metadata": {},
     "output_type": "execute_result"
    }
   ],
   "source": [
    "diophantine = sp.Eq(sp.collect(sp.simplify(sp.expand(_A*_R + _B*_S)), q), \n",
    "                    sp.collect(sp.expand(_Ao*_Am), q))\n",
    "# display(sp.simplify(sp.expand(diophantine.subs(q, -b1/b0))))\n",
    "sp.solve(sp.simplify(sp.expand(diophantine.subs(q, -b1/b0))), r0)[0]"
   ]
  },
  {
   "cell_type": "code",
   "execution_count": 27,
   "id": "576fc426",
   "metadata": {},
   "outputs": [],
   "source": []
  },
  {
   "cell_type": "code",
   "execution_count": null,
   "id": "35f43bf3",
   "metadata": {},
   "outputs": [],
   "source": []
  },
  {
   "cell_type": "code",
   "execution_count": null,
   "id": "2ce6a343",
   "metadata": {},
   "outputs": [],
   "source": []
  },
  {
   "cell_type": "code",
   "execution_count": null,
   "id": "d3c3c13d",
   "metadata": {},
   "outputs": [],
   "source": []
  },
  {
   "cell_type": "code",
   "execution_count": null,
   "id": "6e323cd5",
   "metadata": {},
   "outputs": [],
   "source": []
  },
  {
   "cell_type": "code",
   "execution_count": null,
   "id": "cbf61aae",
   "metadata": {},
   "outputs": [],
   "source": []
  },
  {
   "cell_type": "code",
   "execution_count": null,
   "id": "e58830c3",
   "metadata": {},
   "outputs": [],
   "source": []
  }
 ],
 "metadata": {
  "kernelspec": {
   "display_name": "Python 3 (ipykernel)",
   "language": "python",
   "name": "python3"
  },
  "language_info": {
   "codemirror_mode": {
    "name": "ipython",
    "version": 3
   },
   "file_extension": ".py",
   "mimetype": "text/x-python",
   "name": "python",
   "nbconvert_exporter": "python",
   "pygments_lexer": "ipython3",
   "version": "3.8.10"
  }
 },
 "nbformat": 4,
 "nbformat_minor": 5
}
