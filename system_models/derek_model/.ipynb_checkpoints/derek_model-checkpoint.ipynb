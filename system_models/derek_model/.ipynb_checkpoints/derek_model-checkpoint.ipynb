{
 "cells": [
  {
   "cell_type": "code",
   "execution_count": 1,
   "id": "5736e979",
   "metadata": {},
   "outputs": [],
   "source": [
    "import control as co\n",
    "import numpy as np\n",
    "import sympy as sp"
   ]
  },
  {
   "cell_type": "markdown",
   "id": "ef7ae257",
   "metadata": {},
   "source": [
    "# Constant Declaration"
   ]
  },
  {
   "cell_type": "code",
   "execution_count": 2,
   "id": "c5885b65",
   "metadata": {},
   "outputs": [],
   "source": [
    "radius = 38/2000  # 38 mm diameter to radius in m\n",
    "mass = 4/7000  # grams per ball\n",
    "area_ball = np.pi * radius**2\n",
    "volume_ball = 4/3*np.pi*radius**3\n",
    "density = 1.2  # kg/m^3"
   ]
  },
  {
   "cell_type": "markdown",
   "id": "cac5e98b",
   "metadata": {},
   "source": [
    "To investigate the kinematics of the ball, we consider three forces that influence the motion:"
   ]
  },
  {
   "cell_type": "code",
   "execution_count": 3,
   "id": "16b07a51",
   "metadata": {},
   "outputs": [
    {
     "ename": "NameError",
     "evalue": "name 'vf' is not defined",
     "output_type": "error",
     "traceback": [
      "\u001b[1;31m---------------------------------------------------------------------------\u001b[0m",
      "\u001b[1;31mNameError\u001b[0m                                 Traceback (most recent call last)",
      "\u001b[1;32m<ipython-input-3-3b353b8f485f>\u001b[0m in \u001b[0;36m<module>\u001b[1;34m\u001b[0m\n\u001b[1;32m----> 1\u001b[1;33m \u001b[1;33m(\u001b[0m\u001b[0mvf\u001b[0m \u001b[1;33m-\u001b[0m \u001b[0mydot\u001b[0m\u001b[1;33m)\u001b[0m \u001b[1;33m**\u001b[0m \u001b[1;36m2\u001b[0m\u001b[1;33m\u001b[0m\u001b[1;33m\u001b[0m\u001b[0m\n\u001b[0m",
      "\u001b[1;31mNameError\u001b[0m: name 'vf' is not defined"
     ]
    }
   ],
   "source": [
    "(vf - ydot) ** 2"
   ]
  },
  {
   "cell_type": "code",
   "execution_count": null,
   "id": "3f883738",
   "metadata": {},
   "outputs": [],
   "source": [
    "(vf - ydot) ** 3/sp.abs(vf - ydot)"
   ]
  },
  {
   "cell_type": "code",
   "execution_count": null,
   "id": "a4e604a6",
   "metadata": {},
   "outputs": [],
   "source": [
    "Fb, Fd, Fw = sp.symbols('F_buoy,F_drag,F_weight')\n",
    "ball_acc = Fb + Fd - Fw\n",
    "ball_acc"
   ]
  },
  {
   "cell_type": "markdown",
   "id": "39d210d4",
   "metadata": {},
   "source": [
    "Here,\n",
    "$$F_{buoy} = \\rho g V_b$$\n",
    "\n",
    "$$F_{drag} = 1/2C_d \\rho A(v_f(t) - \\dot{y}(t))^2 = \\kappa(v_f(D) - \\dot{y}(t))^2$$\n",
    "\n",
    "$$F_{weight} = mg$$\n",
    "\n",
    "Then, \n",
    "\n",
    "$$m\\ddot{y}(t) = \\rho g V_b + \\kappa(v_f(D) - \\dot{y}(t))^2 - mg$$\n",
    "\n",
    "The acceleration of the ball can then be expressed in terms of the velocity of the ball, $\\dot{y}(t)$ and the airspeed of the fan $v_f(D)$\n",
    "\n",
    "\\begin{equation}\\label{eq:eq_7}\n",
    "    \\ddot{y}(t) = \\frac{\\rho g V_b}{m} + \\frac{\\kappa(v_f(D) - \\dot{y}(t))^2}{m} - g\n",
    "\\end{equation}"
   ]
  },
  {
   "cell_type": "markdown",
   "id": "2142728a",
   "metadata": {},
   "source": [
    "Solving for g under equilibrium conditions and defining the airspeed as $v_{eq} = v_f - \\dot{y}(t) = v_f$ we get, \n",
    "\n",
    "$$g = \\frac{\\kappa}{m-\\rho V_b}v_{eq}^2$$"
   ]
  },
  {
   "cell_type": "markdown",
   "id": "b82f280f",
   "metadata": {},
   "source": [
    "Putting this result into the previous equation for the acceleration yeilds, \n",
    "\n",
    "$$\\ddot{y}(t) = g\\frac{m-\\rho V_b}{m}\\Big[\\Big(\\frac{v_f(D) - \\dot{y}(t)}{v_{eq}} \\Big)^2 - 1\\Big]$$\n",
    "\n",
    "Since the term, $g\\frac{m-\\rho V_b}{m}$ is assumed constant, let it be represented by $M$, we simplify the equation above to become, \n",
    "\n",
    "$$\\ddot{y}(t) = M\\Big[\\Big(\\frac{v_f(D) - \\dot{y}(t)}{v_{eq}} \\Big)^2 - 1\\Big]= \\frac{M}{v_{eq}^2}\\big(v_f(D)^2 - 2v_f(D)\\dot{y}(t) + \\dot{y}(t)^2 - v_{eq}^2\\big) = \\frac{M}{v_{eq}^2}\\big(v_f(D)^2 - 2v_f(D)\\dot{y}(t) + \\dot{y}(t)^2\\big) - M$$"
   ]
  },
  {
   "cell_type": "code",
   "execution_count": null,
   "id": "9c5e8c91",
   "metadata": {},
   "outputs": [],
   "source": []
  },
  {
   "cell_type": "code",
   "execution_count": null,
   "id": "e839f4a3",
   "metadata": {},
   "outputs": [],
   "source": []
  },
  {
   "cell_type": "markdown",
   "id": "6abd713e",
   "metadata": {},
   "source": []
  },
  {
   "cell_type": "code",
   "execution_count": null,
   "id": "4b557a9d",
   "metadata": {},
   "outputs": [],
   "source": []
  },
  {
   "cell_type": "code",
   "execution_count": null,
   "id": "5292929f",
   "metadata": {},
   "outputs": [],
   "source": []
  }
 ],
 "metadata": {
  "kernelspec": {
   "display_name": "Python 3",
   "language": "python",
   "name": "python3"
  },
  "language_info": {
   "codemirror_mode": {
    "name": "ipython",
    "version": 3
   },
   "file_extension": ".py",
   "mimetype": "text/x-python",
   "name": "python",
   "nbconvert_exporter": "python",
   "pygments_lexer": "ipython3",
   "version": "3.8.8"
  }
 },
 "nbformat": 4,
 "nbformat_minor": 5
}
