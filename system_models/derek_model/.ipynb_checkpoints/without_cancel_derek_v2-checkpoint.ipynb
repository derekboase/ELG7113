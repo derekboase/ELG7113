{
 "cells": [
  {
   "cell_type": "code",
   "execution_count": 1,
   "id": "d9ac2dbe",
   "metadata": {},
   "outputs": [],
   "source": [
    "import matplotlib.pyplot as plt\n",
    "import control as co\n",
    "import pandas as pd\n",
    "import numpy as np \n",
    "import sympy as sp\n",
    "import time \n",
    "\n",
    "from sympy.abc import a, b, q, s, z, omega, zeta\n",
    "from numpy.linalg import inv"
   ]
  },
  {
   "cell_type": "code",
   "execution_count": 2,
   "id": "f6e0026b",
   "metadata": {},
   "outputs": [],
   "source": [
    "u, uc, vs, y, ys, Gs, Hz, Hq = sp.symbols('u(k),u_c{(k)},v(s),y(k),y(s),G(s),H(z),H(q)')\n",
    "Ts = sp.symbols('T_s')\n",
    "\n",
    "am1, am2, bm0, bm1 = sp.symbols('a_{m_1},a_{m_2},b_{m_0},b_{m_1}')\n",
    "ao, a1, a2, b0, b1 = sp.symbols('a_o,a_1,a_2,b_0,b_1')\n",
    "r0, s0, s1, t0, t1 = sp.symbols('r_0,s_0,s_1,t_0,t_1')\n",
    "\n",
    "Gs_eq = sp.Eq(Gs, b/(s*(s + b)))"
   ]
  },
  {
   "cell_type": "markdown",
   "id": "ac7b71b4",
   "metadata": {
    "variables": {
     "Gs_eq": "$\\displaystyle G(s) = \\frac{b}{s \\left(b + s\\right)}$"
    }
   },
   "source": [
    "The model is given by {{Gs_eq}}. To discretize, \n",
    "\n",
    "$ G(z) =  (1-z^{-1})\\mathscr{Z}\\big\\{\\frac{b}{s^2(s+b)}\\big\\} $\n",
    "\n",
    "$ G(z) =  (1-z^{-1})\\mathscr{Z}\\big\\{\\frac{1}{s^2} - \\frac{1}{bs} + \\frac{1}{b(b + s)} \\big\\} $"
   ]
  },
  {
   "cell_type": "markdown",
   "id": "983feb26",
   "metadata": {},
   "source": [
    "$ G(z) =  (1-z^{-1})\\Big(\\frac{T_sz}{(z-1)^2} - \\frac{1}{b} \\frac{z}{z-1} + \\frac{1}{b} \\frac{z}{z-e^{-bT_s}}\\Big) $"
   ]
  },
  {
   "cell_type": "code",
   "execution_count": 3,
   "id": "d8af643b",
   "metadata": {},
   "outputs": [
    {
     "data": {
      "text/latex": [
       "$\\displaystyle H(z) = \\frac{- T_{s} b + z \\left(T_{s} b e^{T_{s} b} - e^{T_{s} b} + 1\\right) + e^{T_{s} b} - 1}{b \\left(z^{2} e^{T_{s} b} + z \\left(- e^{T_{s} b} - 1\\right) + 1\\right)}$"
      ],
      "text/plain": [
       "Eq(H(z), (-T_s*b + z*(T_s*b*exp(T_s*b) - exp(T_s*b) + 1) + exp(T_s*b) - 1)/(b*(z**2*exp(T_s*b) + z*(-exp(T_s*b) - 1) + 1)))"
      ]
     },
     "execution_count": 3,
     "metadata": {},
     "output_type": "execute_result"
    }
   ],
   "source": [
    "Gz_eq_Ts_b = sp.simplify(sp.expand((1-1/z)*(Ts*z/(z-1)**2 - z/(b*(z-1)) + z/(b*(z-sp.exp(-b*Ts))))))\n",
    "\n",
    "num, den = sp.fraction(Gz_eq_Ts_b)\n",
    "den_poly = sp.Poly(den, z)\n",
    "mono_div = den_poly.coeffs()[0]\n",
    "sp.Eq(Hz, sp.collect(sp.simplify(Gz_eq_Ts_b), z))"
   ]
  },
  {
   "cell_type": "markdown",
   "id": "62925724",
   "metadata": {},
   "source": [
    "## Pulse Function"
   ]
  },
  {
   "cell_type": "code",
   "execution_count": 4,
   "id": "25b82b79",
   "metadata": {},
   "outputs": [],
   "source": [
    "radius = 38/2000  # 38 mm diameter to radius in m\n",
    "mass = 4/7000  # grams per ball\n",
    "area_ball = np.pi * radius**2\n",
    "volume_ball = 4/3*np.pi*radius**3\n",
    "density = 1.2  # kg/m^3\n",
    "veq = 2.8 # m/s\n",
    "\n",
    "Ts_val = 0.045\n",
    "b_nom = 2*9.81*(mass-density*volume_ball)/(mass*veq)"
   ]
  },
  {
   "cell_type": "code",
   "execution_count": 5,
   "id": "3d90cb95",
   "metadata": {},
   "outputs": [
    {
     "data": {
      "text/latex": [
       "$\\displaystyle H(q) = \\frac{0.00605425460876089 z + 0.00548523487796945}{1.0 z^{2} - 1.74356690029488 z + 0.743566900294881}$"
      ],
      "text/plain": [
       "Eq(H(q), (0.00605425460876089*z + 0.00548523487796945)/(1.0*z**2 - 1.74356690029488*z + 0.743566900294881))"
      ]
     },
     "execution_count": 5,
     "metadata": {},
     "output_type": "execute_result"
    }
   ],
   "source": [
    "## Example 3.1: since it has the same structure TF I used it to validate my approach, it's consistent\n",
    "# sub_vals = [(Ts, 0.5), (b, 1)]\n",
    "\n",
    "## This is for our project\n",
    "sub_vals = [(Ts, Ts_val), (b, b_nom)]\n",
    "\n",
    "num_mono_z = sp.collect(num/mono_div, z).subs(sub_vals) \n",
    "den_mono_z = sp.collect(den/mono_div, z).subs(sub_vals) \n",
    "\n",
    "Hq_eq = sp.Eq(Hq, num_mono_z/den_mono_z)\n",
    "Hq_eq\n",
    "# np.roots(sp.Poly(num_mono_z).coeffs())"
   ]
  },
  {
   "cell_type": "code",
   "execution_count": 6,
   "id": "7a396941",
   "metadata": {},
   "outputs": [
    {
     "data": {
      "text/plain": [
       "[-1.74356690029488,\n",
       " 0.743566900294881,\n",
       " 0.00605425460876089,\n",
       " 0.00548523487796945]"
      ]
     },
     "metadata": {},
     "output_type": "display_data"
    }
   ],
   "source": [
    "n_coeffs_nom, d_coeffs_nom = sp.fraction(Hq_eq.rhs)\n",
    "pulse_coeffs = sp.Poly(d_coeffs_nom).coeffs()[1:]\n",
    "for bi in sp.Poly(n_coeffs_nom).coeffs():\n",
    "    pulse_coeffs.append(bi)\n",
    "    \n",
    "zeros = np.roots(sp.Poly(n_coeffs_nom).coeffs())\n",
    "poles = np.roots(sp.Poly(d_coeffs_nom).coeffs())\n",
    "display(pulse_coeffs)"
   ]
  },
  {
   "cell_type": "markdown",
   "id": "1b59cff5",
   "metadata": {
    "variables": {
     "poles[0]": "0.9999999999999999",
     "poles[1]": "0.7435669002948814",
     "zeros[0]": "-0.9060132472843097"
    }
   },
   "source": [
    "This is a sanity check with the nominal values to check the stability of the zeros. Here, the zero is unstable for a nominal value of $ b = $ {{zeros[0]}} and the poles are {{poles[0]}} and {{poles[1]}}. "
   ]
  },
  {
   "cell_type": "markdown",
   "id": "90a8bd27",
   "metadata": {},
   "source": [
    "## Control Parameter Derivation"
   ]
  },
  {
   "cell_type": "markdown",
   "id": "82c9c8ea",
   "metadata": {},
   "source": [
    "Given that the zeros are unstable, the parameters are derived without zero cancelation.  \n",
    "\n",
    "Here we know from the compatability conditions that, \n",
    "\n",
    "$ \\text{degA}_m = \\text{degA} = 2 $\n",
    "\n",
    "$ \\text{degB}_m = \\text{degB} = 1 $"
   ]
  },
  {
   "cell_type": "markdown",
   "id": "5068498b",
   "metadata": {},
   "source": [
    "Since the zeros in $ B $ are unstable then $ B^+ = 1 $ and $ B^- = B = b_0q + b_1 $\n",
    "\n",
    "Then, \n",
    "\n",
    "$ \\text{degA}_o = \\text{degA} - \\text{degB}^+ - 1 = 2 - 0 - 1 = 1 $"
   ]
  },
  {
   "cell_type": "markdown",
   "id": "2693aeba",
   "metadata": {},
   "source": [
    "Using the Diophantine equation we get, \n",
    "\n",
    "$ AR + BS = A_oA_m $\n",
    "\n",
    "Let $ A_o = q + a_0$\n",
    "\n",
    "Since the process is second order, then, \n",
    "\n",
    "$ \\text{degR} = \\text{degS} = \\text{degT} = 1 $, \n",
    "\n",
    "with R being monic. "
   ]
  },
  {
   "cell_type": "markdown",
   "id": "381e745b",
   "metadata": {},
   "source": [
    "### Control Parameters"
   ]
  },
  {
   "cell_type": "code",
   "execution_count": 7,
   "id": "f419b4ef",
   "metadata": {},
   "outputs": [],
   "source": [
    "# Process Values\n",
    "_A = q**2 + a1*q + a2\n",
    "_B = b0*q + b1\n",
    "\n",
    "# Model Values\n",
    "_Am = q**2 + am1*q + am2\n",
    "_beta = (_Am/_B).subs(q, 1)\n",
    "_Bm = sp.simplify(sp.expand(_beta*_B))\n",
    "_Ao = q + ao\n",
    "\n",
    "# Control Values\n",
    "_R = q + r0\n",
    "_S = s0*q + s1\n",
    "_T = t0*q + t1"
   ]
  },
  {
   "cell_type": "markdown",
   "id": "7f670757",
   "metadata": {},
   "source": [
    "Diophantine equation: "
   ]
  },
  {
   "cell_type": "code",
   "execution_count": 8,
   "id": "1050dbcb",
   "metadata": {},
   "outputs": [],
   "source": [
    "diophantine = sp.Eq((_A*_R + _B*_S), (_Ao*_Am))\n",
    "dio_LHS_coeffs = sp.Poly((_A*_R + _B*_S), q).coeffs()\n",
    "dio_RHS_coeffs = sp.Poly(_Ao*_Am, q).coeffs()"
   ]
  },
  {
   "cell_type": "code",
   "execution_count": 9,
   "id": "c0075d36",
   "metadata": {},
   "outputs": [
    {
     "data": {
      "text/latex": [
       "$\\displaystyle \\left(q + r_{0}\\right) \\left(a_{1} q + a_{2} + q^{2}\\right) + \\left(b_{0} q + b_{1}\\right) \\left(q s_{0} + s_{1}\\right) = \\left(a_{o} + q\\right) \\left(a_{m_1} q + a_{m_2} + q^{2}\\right)$"
      ],
      "text/plain": [
       "Eq((q + r_0)*(a_1*q + a_2 + q**2) + (b_0*q + b_1)*(q*s_0 + s_1), (a_o + q)*(a_{m_1}*q + a_{m_2} + q**2))"
      ]
     },
     "execution_count": 9,
     "metadata": {},
     "output_type": "execute_result"
    }
   ],
   "source": [
    "diophantine"
   ]
  },
  {
   "cell_type": "markdown",
   "id": "b4177e9b",
   "metadata": {},
   "source": [
    "#### Finding $r_0$"
   ]
  },
  {
   "cell_type": "code",
   "execution_count": 10,
   "id": "8e48e624",
   "metadata": {},
   "outputs": [
    {
     "data": {
      "text/latex": [
       "$\\displaystyle \\frac{- a_{1} b_{1}^{2} + a_{2} b_{0} b_{1} - a_{o} a_{m_1} b_{0} b_{1} + a_{o} a_{m_2} b_{0}^{2} + a_{o} b_{1}^{2} + a_{m_1} b_{1}^{2} - a_{m_2} b_{0} b_{1}}{- a_{1} b_{0} b_{1} + a_{2} b_{0}^{2} + b_{1}^{2}}$"
      ],
      "text/plain": [
       "(-a_1*b_1**2 + a_2*b_0*b_1 - a_o*a_{m_1}*b_0*b_1 + a_o*a_{m_2}*b_0**2 + a_o*b_1**2 + a_{m_1}*b_1**2 - a_{m_2}*b_0*b_1)/(-a_1*b_0*b_1 + a_2*b_0**2 + b_1**2)"
      ]
     },
     "execution_count": 10,
     "metadata": {},
     "output_type": "execute_result"
    }
   ],
   "source": [
    "_s0 = sp.solve(dio_LHS_coeffs[1] - dio_RHS_coeffs[1], s0)[0] \n",
    "_s1 = sp.solve((dio_LHS_coeffs[2] - dio_RHS_coeffs[2]).subs(s0, _s0), s1)[0]\n",
    "_r0 = sp.solve((dio_LHS_coeffs[3] - dio_RHS_coeffs[3]).subs(s1, _s1), r0)[0]\n",
    "_r0"
   ]
  },
  {
   "cell_type": "markdown",
   "id": "9fd07d26",
   "metadata": {},
   "source": [
    "#### Finding $s_0$"
   ]
  },
  {
   "cell_type": "code",
   "execution_count": 11,
   "id": "43e9359b",
   "metadata": {},
   "outputs": [
    {
     "data": {
      "text/latex": [
       "$\\displaystyle \\frac{a_{1}^{2} b_{1} - a_{1} a_{2} b_{0} - a_{1} a_{o} b_{1} - a_{1} a_{m_1} b_{1} + a_{2} a_{o} b_{0} + a_{2} a_{m_1} b_{0} - a_{2} b_{1} + a_{o} a_{m_1} b_{1} - a_{o} a_{m_2} b_{0} + a_{m_2} b_{1}}{- a_{1} b_{0} b_{1} + a_{2} b_{0}^{2} + b_{1}^{2}}$"
      ],
      "text/plain": [
       "(a_1**2*b_1 - a_1*a_2*b_0 - a_1*a_o*b_1 - a_1*a_{m_1}*b_1 + a_2*a_o*b_0 + a_2*a_{m_1}*b_0 - a_2*b_1 + a_o*a_{m_1}*b_1 - a_o*a_{m_2}*b_0 + a_{m_2}*b_1)/(-a_1*b_0*b_1 + a_2*b_0**2 + b_1**2)"
      ]
     },
     "execution_count": 11,
     "metadata": {},
     "output_type": "execute_result"
    }
   ],
   "source": [
    "_s0 = sp.solve((dio_LHS_coeffs[1] - dio_RHS_coeffs[1]).subs(r0, _r0), s0)[0] \n",
    "_s0"
   ]
  },
  {
   "cell_type": "markdown",
   "id": "990f3bd7",
   "metadata": {},
   "source": [
    "#### Finding $s_1$"
   ]
  },
  {
   "cell_type": "code",
   "execution_count": 12,
   "id": "e58830c3",
   "metadata": {},
   "outputs": [
    {
     "data": {
      "text/latex": [
       "$\\displaystyle \\frac{a_{1} a_{2} b_{1} - a_{1} a_{o} a_{m_2} b_{0} - a_{2}^{2} b_{0} + a_{2} a_{o} a_{m_1} b_{0} - a_{2} a_{o} b_{1} - a_{2} a_{m_1} b_{1} + a_{2} a_{m_2} b_{0} + a_{o} a_{m_2} b_{1}}{- a_{1} b_{0} b_{1} + a_{2} b_{0}^{2} + b_{1}^{2}}$"
      ],
      "text/plain": [
       "(a_1*a_2*b_1 - a_1*a_o*a_{m_2}*b_0 - a_2**2*b_0 + a_2*a_o*a_{m_1}*b_0 - a_2*a_o*b_1 - a_2*a_{m_1}*b_1 + a_2*a_{m_2}*b_0 + a_o*a_{m_2}*b_1)/(-a_1*b_0*b_1 + a_2*b_0**2 + b_1**2)"
      ]
     },
     "execution_count": 12,
     "metadata": {},
     "output_type": "execute_result"
    }
   ],
   "source": [
    "_s1 = sp.solve((dio_LHS_coeffs[2] - dio_RHS_coeffs[2]).subs([(s0, _s0), (r0, _r0)]), s1)[0]\n",
    "_s1"
   ]
  },
  {
   "cell_type": "markdown",
   "id": "9015a819",
   "metadata": {},
   "source": [
    "#### Finding T"
   ]
  },
  {
   "cell_type": "code",
   "execution_count": 13,
   "id": "fb6d93c1",
   "metadata": {},
   "outputs": [
    {
     "data": {
      "text/latex": [
       "$\\displaystyle t_{0} = \\frac{a_{m_1} + a_{m_2} + 1}{b_{0} + b_{1}}$"
      ],
      "text/plain": [
       "Eq(t_0, (a_{m_1} + a_{m_2} + 1)/(b_0 + b_1))"
      ]
     },
     "metadata": {},
     "output_type": "display_data"
    },
    {
     "data": {
      "text/latex": [
       "$\\displaystyle t_{1} = \\frac{a_{o} a_{m_1} + a_{o} a_{m_2} + a_{o}}{b_{0} + b_{1}}$"
      ],
      "text/plain": [
       "Eq(t_1, (a_o*a_{m_1} + a_o*a_{m_2} + a_o)/(b_0 + b_1))"
      ]
     },
     "metadata": {},
     "output_type": "display_data"
    }
   ],
   "source": [
    "T = sp.collect(sp.simplify(sp.expand(_Bm/_B*_Ao)), q)\n",
    "num_T, den_T = sp.fraction(T)\n",
    "num_T_coeffs = sp.Poly(num_T, q).coeffs()\n",
    "_t0 = num_T_coeffs[0]/den_T\n",
    "_t1 = num_T_coeffs[1]/den_T\n",
    "display(sp.Eq(t0, _t0))\n",
    "display(sp.Eq(t1, _t1))"
   ]
  },
  {
   "cell_type": "markdown",
   "id": "c1ee6b31",
   "metadata": {},
   "source": [
    "### Control Action"
   ]
  },
  {
   "cell_type": "code",
   "execution_count": 14,
   "id": "4705ac7f",
   "metadata": {},
   "outputs": [
    {
     "data": {
      "text/latex": [
       "$\\displaystyle u(k) = - r_{0} u(k-1) - s_{0} y(k) - s_{1} y(k-1) + t_{0} u_c{(k)} + t_{1} u_c{(k-1)}$"
      ],
      "text/plain": [
       "Eq(u(k), -r_0*u(k-1) - s_0*y(k) - s_1*y(k-1) + t_0*u_c{(k)} + t_1*u_c{(k-1)})"
      ]
     },
     "execution_count": 14,
     "metadata": {},
     "output_type": "execute_result"
    }
   ],
   "source": [
    "uk1,  uck1, yk1 = sp.symbols('u(k-1),u_c{(k-1)},y(k-1)')\n",
    "control_action = (sp.expand(sp.Eq((_R*u)/q, (_T*uc - _S*y)/q)))\n",
    "control_action\n",
    "control_subs = [(1/q*u, uk1), (1/q*uc, uck1), (1/q*y, yk1)]\n",
    "control_action_sol = sp.Eq(u, sp.solve(control_action.subs(control_subs), u)[0])\n",
    "control_action_sol"
   ]
  },
  {
   "cell_type": "markdown",
   "id": "4ef1d7f9",
   "metadata": {},
   "source": [
    "## Simulation"
   ]
  },
  {
   "cell_type": "markdown",
   "id": "363f7174",
   "metadata": {},
   "source": [
    "### Process Deivation\n",
    "\n",
    "$ y(k) = -a_1y(k-1) - a_2y(k-2) + b_0u(k-1) + b_1u(k-2) = \\phi(t-1)^T\\theta $\n",
    "\n",
    "where, \n",
    "\n",
    "$ \\phi(t-1) = \\big[-y(k-1)\\ -y(k-2)\\ u(k-1)\\ u(k-2)\\big]^T $\n",
    "\n",
    "and \n",
    "\n",
    "$ \\theta = \\big[a_1\\ a_2\\ b_0\\ b_1\\big]^T $"
   ]
  },
  {
   "cell_type": "code",
   "execution_count": 15,
   "id": "822f3d9e",
   "metadata": {},
   "outputs": [],
   "source": [
    "final_time = 90\n",
    "t = np.arange(0, final_time + Ts_val, Ts_val)\n",
    "def reference_signal(end_time=final_time, Ts_func=Ts_val, lower_set=0.25, upper_set=0.15, period=30):\n",
    "    uc_func = []\n",
    "    time = np.arange(0, end_time + Ts_func, Ts_func)\n",
    "    for _t in time:\n",
    "        rat = 2*np.pi/period\n",
    "        if np.sin(rat*_t) >= 0:\n",
    "            uc_func.append(upper_set)\n",
    "        else:\n",
    "            uc_func.append(lower_set)\n",
    "    return np.array(uc_func, float)\n",
    "uc_val = reference_signal()\n",
    "# plt.plot(np.arange(0, 60 + Ts_val, Ts_val), uc)\n",
    "# plt.show()"
   ]
  },
  {
   "cell_type": "code",
   "execution_count": 16,
   "id": "64461f81",
   "metadata": {},
   "outputs": [],
   "source": [
    "omega_n = 0.7\n",
    "zeta = 1\n",
    "Bmz_tf, Amz_tf = co.tfdata(co.sample_system(co.tf([1], [1, 2*zeta*omega_n, omega_n**2]), method='zoh', Ts=Ts_val))\n",
    "AM1 = Amz_tf[0][0][1]\n",
    "AM2 = Amz_tf[0][0][2]\n",
    "A0 = 0.5\n",
    "T0_num = AM1 + AM2 + 1\n",
    "T1_num = A0*(T0_num)\n",
    "lam = 1\n",
    "initial_P_weights = [1000]*4\n",
    "# initial_P_weights = [1000, 100, 10, 10]\n",
    "theta = np.array(pulse_coeffs, float).reshape(4, -1)\n",
    "\n",
    "# display([AM1, AM2])\n",
    "# display(pulse_coeffs)\n",
    "# np.roots([1, AM1, AM2])"
   ]
  },
  {
   "cell_type": "code",
   "execution_count": 17,
   "id": "366d3736",
   "metadata": {},
   "outputs": [
    {
     "data": {
      "text/plain": [
       "109.92933533233384"
      ]
     },
     "execution_count": 17,
     "metadata": {},
     "output_type": "execute_result"
    }
   ],
   "source": [
    "    # Estimates k = 0\n",
    "time_ns = time.time_ns()    \n",
    "# theta_hat = np.array(pulse_coeffs, float).reshape(4, -1) # a1, a2, b0, b1 THIS WILL BE USED FOR THE REAL CONTROL \n",
    "theta_hat = np.array([-1.1, 0.25, 0.1, 0.05], float).reshape(4, -1)\n",
    "# theta_hat = np.array([0.0, 0.0, 0.5, 0.5], float).reshape(4, -1)\n",
    "theta_arr = theta_hat\n",
    "P = np.diag(initial_P_weights)\n",
    "phi = np.zeros((4,1))\n",
    "\n",
    "    # Measurements and control parameters k = 0\n",
    "y_measure = (phi.T@theta).reshape(-1,) \n",
    "# y_measure = (phi.T@theta + np.random.normal(0, 0.001)).reshape(-1,) \n",
    "\n",
    "a1, a2, b0, b1 = theta_hat[0], theta_hat[1], theta_hat[2], theta_hat[3]\n",
    "den_rs = ((-a1*b0*b1) + (a2*b0**2) + b1**2)   \n",
    "den_t = b0 + b1\n",
    "r0_val = 1/den_rs*((A0*AM2)*b0**2 + (-a1 + A0 + AM1)*b1**2 + (a2 - A0*AM1 - AM2)*b0*b1)\n",
    "s0_val = 1/den_rs*((-a1*a2 + a2*(A0 + AM1) - A0*AM2)*b0 + (a1**2 - a1*(A0 + AM1) - a2 + A0*AM1 + AM2)*b1)\n",
    "s1_val = 1/den_rs*((-a2**2 + A0*(a2*AM1 - a1*AM2) + a2*AM2)*b0 + (a2*(a1 - A0 - AM1) + A0*AM2)*b1)\n",
    "t0_val = T0_num/den_t\n",
    "t1_val = T1_num/den_t\n",
    "\n",
    "M = np.array([r0_val, s0_val, s1_val, t0_val, t1_val], float).reshape(-1, 1)\n",
    "N = np.array([0, -y_measure[0], 0, uc_val[0], 0], float).reshape(M.shape)\n",
    "u_val = (N.T@M).reshape(-1, )\n",
    "\n",
    "    # Estimates k = 1\n",
    "phi = np.array([-y_measure[0], 0, u_val[0], 0], float).reshape(-1,1) # phi of 0\n",
    "K = P@phi@inv(lam + phi.T@P@phi)\n",
    "theta_hat = theta_hat + K@(phi.T@theta - phi.T@theta_hat)\n",
    "theta_arr = np.concatenate((theta_arr, \n",
    "                            theta_hat.reshape(-1, 1)), axis=1)\n",
    "P = (np.eye(len(phi)) - K@phi.T) @P/lam\n",
    "\n",
    "    # Measurements and control parameters k = 1\n",
    "y_measure = np.concatenate((y_measure,\n",
    "                            (phi.T@theta).reshape(-1,)))   \n",
    "# y_measure = np.concatenate((y_measure,\n",
    "#                             (phi.T@theta + np.random.normal(0, 0.001)).reshape(-1,)))      \n",
    "\n",
    "a1, a2, b0, b1 = theta_hat[0], theta_hat[1], theta_hat[2], theta_hat[3]\n",
    "den_rs = ((-a1*b0*b1) + (a2*b0**2) + b1**2)   \n",
    "den_t = b0 + b1\n",
    "r0_val = 1/den_rs*((A0*AM2)*b0**2 + (-a1 + A0 + AM1)*b1**2 + (a2 - A0*AM1 - AM2)*b0*b1)\n",
    "s0_val = 1/den_rs*((-a1*a2 + a2*(A0 + AM1) - A0*AM2)*b0 + (a1**2 - a1*(A0 + AM1) - a2 + A0*AM1 + AM2)*b1)\n",
    "s1_val = 1/den_rs*((-a2**2 + A0*(a2*AM1 - a1*AM2) + a2*AM2)*b0 + (a2*(a1 - A0 - AM1) + A0*AM2)*b1)\n",
    "t0_val = T0_num/den_t\n",
    "t1_val = T1_num/den_t\n",
    "\n",
    "M = np.array([r0_val, s0_val, s1_val, t0_val, t1_val], float).reshape(-1, 1)\n",
    "N = np.array([-u_val[0], -y_measure[1], -y_measure[0], uc_val[1], uc_val[0]],float).reshape(M.shape)\n",
    "u_val = np.concatenate((u_val, \n",
    "                        (N.T@M).reshape(-1,)))\n",
    "\n",
    "for k in range(2, len(t)):\n",
    "        phi = np.array([-y_measure[k-1], -y_measure[k-2], u_val[k-1], u_val[k-2]], float).reshape(-1,1)\n",
    "        K = P@phi@inv(lam + phi.T@P@phi)\n",
    "        theta_hat = theta_hat + K@(phi.T@theta - phi.T@theta_hat)\n",
    "        theta_arr = np.concatenate((theta_arr, \n",
    "                                    theta_hat.reshape(-1, 1)), axis=1)\n",
    "        P = (np.eye(len(phi)) - K@phi.T)@P/lam\n",
    "\n",
    "            # Measurements and control parameters k = 2\n",
    "#         y_measure = np.concatenate((y_measure,\n",
    "#                             (phi.T@theta).reshape(-1,)))   \n",
    "        y_measure = np.concatenate((y_measure,\n",
    "                                    (phi.T@theta + np.random.normal(0, 0.001)).reshape(-1,)))    \n",
    "\n",
    "        a1, a2, b0, b1 = theta_hat[0], theta_hat[1], theta_hat[2], theta_hat[3]\n",
    "        den_rs = ((-a1*b0*b1) + (a2*b0**2) + b1**2)   \n",
    "        den_t = b0 + b1\n",
    "        r0_val = 1/den_rs*((A0*AM2)*b0**2 + (-a1 + A0 + AM1)*b1**2 + (a2 - A0*AM1 - AM2)*b0*b1)\n",
    "        s0_val = 1/den_rs*((-a1*a2 + a2*(A0 + AM1) - A0*AM2)*b0 + (a1**2 - a1*(A0 + AM1) - a2 + A0*AM1 + AM2)*b1)\n",
    "        s1_val = 1/den_rs*((-a2**2 + A0*(a2*AM1 - a1*AM2) + a2*AM2)*b0 + (a2*(a1 - A0 - AM1) + A0*AM2)*b1)\n",
    "        t0_val = T0_num/den_t\n",
    "        t1_val = T1_num/den_t\n",
    "\n",
    "        M = np.array([r0_val, s0_val, s1_val, t0_val, t1_val], float).reshape(-1, 1)\n",
    "        N = np.array([-u_val[k-1], -y_measure[k], -y_measure[k-1], uc_val[k], uc_val[k-1]]).reshape(M.shape)\n",
    "        u_val = np.concatenate((u_val, \n",
    "                                (N.T@M).reshape(-1,)))\n",
    "(time.time_ns() - time_ns)*1e-9/len(t)*1e6"
   ]
  },
  {
   "cell_type": "code",
   "execution_count": 18,
   "id": "f501c6e6",
   "metadata": {},
   "outputs": [
    {
     "data": {
      "text/plain": [
       "array([[-1.34766099],\n",
       "       [ 0.34672347],\n",
       "       [ 0.01912216],\n",
       "       [ 0.0112392 ]])"
      ]
     },
     "execution_count": 18,
     "metadata": {},
     "output_type": "execute_result"
    }
   ],
   "source": [
    "theta_hat"
   ]
  },
  {
   "cell_type": "code",
   "execution_count": 19,
   "id": "5c82e632",
   "metadata": {},
   "outputs": [
    {
     "data": {
      "text/plain": [
       "array([[-1.7435669 ],\n",
       "       [ 0.7435669 ],\n",
       "       [ 0.00605425],\n",
       "       [ 0.00548523]])"
      ]
     },
     "execution_count": 19,
     "metadata": {},
     "output_type": "execute_result"
    }
   ],
   "source": [
    "theta"
   ]
  },
  {
   "cell_type": "code",
   "execution_count": 20,
   "id": "e3d0f49b",
   "metadata": {},
   "outputs": [
    {
     "data": {
      "text/plain": [
       "array([1842.51009007])"
      ]
     },
     "execution_count": 20,
     "metadata": {},
     "output_type": "execute_result"
    }
   ],
   "source": [
    "1/den_rs"
   ]
  },
  {
   "cell_type": "code",
   "execution_count": 21,
   "id": "815911b8",
   "metadata": {},
   "outputs": [
    {
     "data": {
      "image/png": "[encoded data removed]",
      "text/plain": [
       "<Figure size 432x288 with 1 Axes>"
      ]
     },
     "metadata": {
      "needs_background": "light"
     },
     "output_type": "display_data"
    },
    {
     "data": {
      "image/png": "[encoded data removed]",
      "text/plain": [
       "<Figure size 432x288 with 1 Axes>"
      ]
     },
     "metadata": {
      "needs_background": "light"
     },
     "output_type": "display_data"
    },
    {
     "data": {
      "image/png": "[encoded data removed]",
      "text/plain": [
       "<Figure size 432x288 with 1 Axes>"
      ]
     },
     "metadata": {
      "needs_background": "light"
     },
     "output_type": "display_data"
    }
   ],
   "source": [
    "for row in range(len(theta_arr)):\n",
    "    plt.plot(t, theta_arr[row,:])\n",
    "plt.show()\n",
    "\n",
    "et = len(t)\n",
    "plt.plot(t[0:et], y_measure[0:et])\n",
    "plt.plot(t[0:et], uc_val[0:et])\n",
    "plt.show()\n",
    "plt.step(t[0:et], u_val[0:et])\n",
    "plt.show()"
   ]
  },
  {
   "cell_type": "code",
   "execution_count": null,
   "id": "9748e521",
   "metadata": {},
   "outputs": [],
   "source": []
  },
  {
   "cell_type": "code",
   "execution_count": 22,
   "id": "ac822936",
   "metadata": {},
   "outputs": [
    {
     "ename": "NameError",
     "evalue": "name 'A' is not defined",
     "output_type": "error",
     "traceback": [
      "\u001b[1;31m---------------------------------------------------------------------------\u001b[0m",
      "\u001b[1;31mNameError\u001b[0m                                 Traceback (most recent call last)",
      "\u001b[1;32m~\\AppData\\Local\\Temp/ipykernel_12944/3448076053.py\u001b[0m in \u001b[0;36m<module>\u001b[1;34m\u001b[0m\n\u001b[1;32m----> 1\u001b[1;33m \u001b[0mpulse_coeffs\u001b[0m \u001b[1;33m=\u001b[0m \u001b[0mA\u001b[0m\u001b[1;33m[\u001b[0m\u001b[1;36m0\u001b[0m\u001b[1;33m]\u001b[0m\u001b[1;33m[\u001b[0m\u001b[1;36m0\u001b[0m\u001b[1;33m]\u001b[0m\u001b[1;33m[\u001b[0m\u001b[1;36m1\u001b[0m\u001b[1;33m:\u001b[0m\u001b[1;33m]\u001b[0m\u001b[1;33m.\u001b[0m\u001b[0mtolist\u001b[0m\u001b[1;33m(\u001b[0m\u001b[1;33m)\u001b[0m\u001b[1;33m\u001b[0m\u001b[1;33m\u001b[0m\u001b[0m\n\u001b[0m\u001b[0;32m      2\u001b[0m \u001b[1;32mfor\u001b[0m \u001b[0mBi\u001b[0m \u001b[1;32min\u001b[0m \u001b[0mB\u001b[0m\u001b[1;33m[\u001b[0m\u001b[1;36m0\u001b[0m\u001b[1;33m]\u001b[0m\u001b[1;33m[\u001b[0m\u001b[1;36m0\u001b[0m\u001b[1;33m]\u001b[0m\u001b[1;33m:\u001b[0m\u001b[1;33m\u001b[0m\u001b[1;33m\u001b[0m\u001b[0m\n\u001b[0;32m      3\u001b[0m     \u001b[0mpulse_coeffs\u001b[0m\u001b[1;33m.\u001b[0m\u001b[0mappend\u001b[0m\u001b[1;33m(\u001b[0m\u001b[0mBi\u001b[0m\u001b[1;33m)\u001b[0m\u001b[1;33m\u001b[0m\u001b[1;33m\u001b[0m\u001b[0m\n\u001b[0;32m      4\u001b[0m \u001b[0mpulse_coeffs\u001b[0m\u001b[1;33m\u001b[0m\u001b[1;33m\u001b[0m\u001b[0m\n",
      "\u001b[1;31mNameError\u001b[0m: name 'A' is not defined"
     ]
    }
   ],
   "source": [
    "pulse_coeffs = A[0][0][1:].tolist()\n",
    "for Bi in B[0][0]:\n",
    "    pulse_coeffs.append(Bi)\n",
    "pulse_coeffs"
   ]
  },
  {
   "cell_type": "code",
   "execution_count": null,
   "id": "aa58bf1a",
   "metadata": {},
   "outputs": [],
   "source": [
    "B, A = co.tfdata(co.sample_system(co.tf([b_nom], [1, b_nom, 0]), method='zoh', Ts=Ts_val))"
   ]
  },
  {
   "cell_type": "code",
   "execution_count": null,
   "id": "606e4d40",
   "metadata": {},
   "outputs": [],
   "source": []
  },
  {
   "cell_type": "code",
   "execution_count": null,
   "id": "526f37b9",
   "metadata": {},
   "outputs": [],
   "source": []
  },
  {
   "cell_type": "code",
   "execution_count": null,
   "id": "a006a704",
   "metadata": {},
   "outputs": [],
   "source": []
  }
 ],
 "metadata": {
  "kernelspec": {
   "display_name": "Python 3 (ipykernel)",
   "language": "python",
   "name": "python3"
  },
  "language_info": {
   "codemirror_mode": {
    "name": "ipython",
    "version": 3
   },
   "file_extension": ".py",
   "mimetype": "text/x-python",
   "name": "python",
   "nbconvert_exporter": "python",
   "pygments_lexer": "ipython3",
   "version": "3.8.10"
  }
 },
 "nbformat": 4,
 "nbformat_minor": 5
}
