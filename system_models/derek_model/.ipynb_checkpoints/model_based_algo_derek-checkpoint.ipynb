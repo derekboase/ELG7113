{
 "cells": [
  {
   "cell_type": "code",
   "execution_count": 1,
   "id": "d9ac2dbe",
   "metadata": {},
   "outputs": [],
   "source": [
    "import matplotlib.pyplot as plt\n",
    "import control as co\n",
    "import pandas as pd\n",
    "import numpy as np \n",
    "import sympy as sp\n",
    "import time \n",
    "\n",
    "from sympy.abc import a, b, q, s, z, omega, zeta\n",
    "from numpy.linalg import inv"
   ]
  },
  {
   "cell_type": "code",
   "execution_count": 2,
   "id": "f6e0026b",
   "metadata": {},
   "outputs": [],
   "source": [
    "u, uc, vs, y, ys, Gs, Gz, Hq = sp.symbols('u(k),u_c{(k)},v(s),y(k),y(s),G(s),G(z),H(q)')\n",
    "Ts = sp.symbols('T_s')\n",
    "\n",
    "am1, am2, bm0, bm1 = sp.symbols('a_{m_1},a_{m_2},b_{m_0},b_{m_1}')\n",
    "ao, a1, a2, b0, b1 = sp.symbols('a_o,a_1,a_2,b_0,b_1')\n",
    "r0, s0, s1, t0, t1 = sp.symbols('r_0,s_0,s_1,t_0,t_1')\n",
    "\n",
    "Ts_val = 0.2 # We can modify the sampling time but it can't get much lower than 0.2s with the maths\n",
    "\n",
    "Gs_eq = sp.Eq(Gs, b/(s*(s + b)))"
   ]
  },
  {
   "cell_type": "markdown",
   "id": "ac7b71b4",
   "metadata": {
    "variables": {
     "Gs_eq": "$\\displaystyle G(s) = \\frac{b}{s \\left(b + s\\right)}$"
    }
   },
   "source": [
    "The model is given by {{Gs_eq}}. To discretize, \n",
    "\n",
    "$ G(z) =  (1-z^{-1})\\mathscr{Z}\\big\\{\\frac{b}{s^2(s+b)}\\big\\} $\n",
    "\n",
    "$ G(z) =  (1-z^{-1})\\mathscr{Z}\\big\\{\\frac{1}{s^2} - \\frac{1}{bs} + \\frac{1}{b(b + s)} \\big\\} $"
   ]
  },
  {
   "cell_type": "markdown",
   "id": "983feb26",
   "metadata": {},
   "source": [
    "$ G(z) =  (1-z^{-1})\\big(\\frac{T_sz}{(z-1)^2} - \\frac{1}{b} \\frac{z}{z-1} + \\frac{1}{b} \\frac{z}{z-e^{-bT_s}}\\big) $"
   ]
  },
  {
   "cell_type": "code",
   "execution_count": 3,
   "id": "d8af643b",
   "metadata": {},
   "outputs": [],
   "source": [
    "Gz_eq_Ts_b = sp.simplify(sp.expand((1-1/z)*(Ts*z/(z-1)**2 - z/(b*(z-1)) + z/(b*(z-sp.exp(-b*Ts))))))\n",
    "\n",
    "num, den = sp.fraction(Gz_eq_Ts_b)\n",
    "den_poly = sp.Poly(den, z)\n",
    "mono_div = den_poly.coeffs()[0]\n",
    "# sub_validation = [(Ts, 0.5), (b, 1)]"
   ]
  },
  {
   "cell_type": "markdown",
   "id": "62925724",
   "metadata": {},
   "source": [
    "## Pulse Function"
   ]
  },
  {
   "cell_type": "code",
   "execution_count": 4,
   "id": "3d90cb95",
   "metadata": {},
   "outputs": [],
   "source": [
    "## Example 3.1: since it has the same structure TF I used it to validate my approach, it's consistent\n",
    "# Ts_val = 0.5\n",
    "# sub_vals = [(Ts, Ts_val), (b, 1)]\n",
    "\n",
    "## This is for our project\n",
    "# sub_vals = [(Ts, Ts_val), (b, 6.58436748684758)] # b here was found based on measured values\n",
    "sub_vals = [(Ts, Ts_val)]\n",
    "\n",
    "num_mono_z = sp.collect(num/mono_div, z).subs(sub_vals) # Probably in the loop it's easier to use Poly and .coeffs()\n",
    "den_mono_z = sp.collect(den/mono_div, z).subs(sub_vals) # Probably in the loop it's easier to use Poly and .coeffs()"
   ]
  },
  {
   "cell_type": "code",
   "execution_count": 5,
   "id": "d509b821",
   "metadata": {},
   "outputs": [
    {
     "data": {
      "text/latex": [
       "$\\displaystyle num = \\frac{\\left(- 0.2 b + z \\left(0.2 b e^{0.2 b} - e^{0.2 b} + 1\\right) + e^{0.2 b} - 1\\right) e^{- 0.2 b}}{b}$"
      ],
      "text/plain": [
       "Eq(num, (-0.2*b + z*(0.2*b*exp(0.2*b) - exp(0.2*b) + 1) + exp(0.2*b) - 1)*exp(-0.2*b)/b)"
      ]
     },
     "metadata": {},
     "output_type": "display_data"
    },
    {
     "data": {
      "text/latex": [
       "$\\displaystyle denum = \\left(z^{2} e^{0.2 b} + z \\left(- e^{0.2 b} - 1\\right) + 1\\right) e^{- 0.2 b}$"
      ],
      "text/plain": [
       "Eq(denum, (z**2*exp(0.2*b) + z*(-exp(0.2*b) - 1) + 1)*exp(-0.2*b))"
      ]
     },
     "metadata": {},
     "output_type": "display_data"
    }
   ],
   "source": [
    "num_sym, denum_sym = sp.symbols('num,denum')\n",
    "display(sp.Eq(num_sym, num_mono_z)) \n",
    "display(sp.Eq(denum_sym, den_mono_z))"
   ]
  },
  {
   "cell_type": "markdown",
   "id": "1b59cff5",
   "metadata": {},
   "source": [
    "## Stability Check"
   ]
  },
  {
   "cell_type": "markdown",
   "id": "c5d85386",
   "metadata": {},
   "source": [
    "This is a sanity check with the nominal values to check the stability of the zeros. Here, the zero is unstable for a nominal value of $ b = 6.58436748684758 $. "
   ]
  },
  {
   "cell_type": "code",
   "execution_count": 6,
   "id": "25b82b79",
   "metadata": {},
   "outputs": [],
   "source": [
    "radius = 38/2000  # 38 mm diameter to radius in m\n",
    "mass = 4/7000  # grams per ball\n",
    "area_ball = np.pi * radius**2\n",
    "volume_ball = 4/3*np.pi*radius**3\n",
    "density = 1.2  # kg/m^3\n",
    "veq = 2.8 # m/s\n",
    "\n",
    "b_nom = 2*9.81*(mass-density*volume_ball)/(mass*veq)"
   ]
  },
  {
   "cell_type": "markdown",
   "id": "3c31a876",
   "metadata": {},
   "source": [
    "### Nominal Pulse Function"
   ]
  },
  {
   "cell_type": "code",
   "execution_count": 7,
   "id": "a982522a",
   "metadata": {},
   "outputs": [
    {
     "data": {
      "text/latex": [
       "$\\displaystyle \\frac{0.0888233086497573 z + 0.0575823297146081}{1.0 z^{2} - 1.26797180817817 z + 0.267971808178173}$"
      ],
      "text/plain": [
       "(0.0888233086497573*z + 0.0575823297146081)/(1.0*z**2 - 1.26797180817817*z + 0.267971808178173)"
      ]
     },
     "execution_count": 7,
     "metadata": {},
     "output_type": "execute_result"
    }
   ],
   "source": [
    "sub_vals = [(Ts, Ts_val), (b, b_nom)]\n",
    "pulse_nom = num_mono_z.subs(sub_vals)/den_mono_z.subs(sub_vals)\n",
    "pulse_nom"
   ]
  },
  {
   "cell_type": "code",
   "execution_count": 8,
   "id": "6ea51b78",
   "metadata": {},
   "outputs": [],
   "source": [
    "num_mono_poly = sp.Poly(num_mono_z.subs(b, b_nom), z)\n",
    "num_coeffs = num_mono_poly.coeffs()\n",
    "nom_zero = (num_coeffs[0]/num_coeffs[1]).subs(b, b_nom) # Value of the zero"
   ]
  },
  {
   "cell_type": "code",
   "execution_count": 9,
   "id": "d73accc5",
   "metadata": {},
   "outputs": [],
   "source": [
    "new_coeffs = []\n",
    "for i in den_poly.coeffs():\n",
    "    new_coeffs.append((i/den_poly.coeffs()[0]).subs(sub_vals))\n",
    "# np.roots(new_coeffs) # Marginally stable"
   ]
  },
  {
   "cell_type": "code",
   "execution_count": 10,
   "id": "4a33ba90",
   "metadata": {},
   "outputs": [
    {
     "data": {
      "text/plain": [
       "[0.0888233086497573, 0.0575823297146081]"
      ]
     },
     "metadata": {},
     "output_type": "display_data"
    },
    {
     "data": {
      "text/plain": [
       "[1, -1.26797180817817, 0.267971808178173]"
      ]
     },
     "metadata": {},
     "output_type": "display_data"
    }
   ],
   "source": [
    "num_pulse_nom = num_mono_poly.coeffs()\n",
    "den_pulse_nom = new_coeffs\n",
    "display(num_pulse_nom)\n",
    "display(den_pulse_nom)\n",
    "pulse_coeffs = den_pulse_nom[1:]\n",
    "for n in num_pulse_nom:\n",
    "    pulse_coeffs.append(n)"
   ]
  },
  {
   "cell_type": "markdown",
   "id": "90a8bd27",
   "metadata": {},
   "source": [
    "## Control Parameter Derivation"
   ]
  },
  {
   "cell_type": "markdown",
   "id": "82c9c8ea",
   "metadata": {},
   "source": [
    "Given that the zeros are unstable, the parameters are derived without zero cancelation.  \n",
    "\n",
    "Here we know from the compatability conditions that, \n",
    "\n",
    "$ \\text{degA}_m = \\text{degA} = 2 $\n",
    "\n",
    "$ \\text{degB}_m = \\text{degB} = 1 $"
   ]
  },
  {
   "cell_type": "markdown",
   "id": "5068498b",
   "metadata": {},
   "source": [
    "Since the zeros in $ B $ are unstable then $ B^+ = 1 $ and $ B^- = B = b_0q + b_1 $\n",
    "\n",
    "Then, \n",
    "\n",
    "$ \\text{degA}_o = \\text{degA} - \\text{degB}^+ - 1 = 2 - 0 - 1 = 1 $"
   ]
  },
  {
   "cell_type": "markdown",
   "id": "2693aeba",
   "metadata": {},
   "source": [
    "Using the Diophantine equation we get, \n",
    "\n",
    "$ AR + BS = A_oA_m $\n",
    "\n",
    "Let $ A_o = q + a_0$\n",
    "\n",
    "Since the process is second order, then, \n",
    "\n",
    "$ \\text{degR} = \\text{degS} = \\text{degT} = 1 $, \n",
    "\n",
    "with R being monic. "
   ]
  },
  {
   "cell_type": "markdown",
   "id": "dd3dc339",
   "metadata": {},
   "source": [
    "### Process values"
   ]
  },
  {
   "cell_type": "code",
   "execution_count": 11,
   "id": "87a8ae9a",
   "metadata": {},
   "outputs": [],
   "source": [
    "A = den_mono_z.subs(z, q)\n",
    "B = num_mono_z.subs(z, q)\n",
    "_A = q**2 + a1*q + a2\n",
    "_B = b0*q + b1\n",
    "process = _B/_A\n",
    "# display(process)"
   ]
  },
  {
   "cell_type": "markdown",
   "id": "c2186837",
   "metadata": {},
   "source": [
    "### Model values"
   ]
  },
  {
   "cell_type": "code",
   "execution_count": 12,
   "id": "ebd560a6",
   "metadata": {},
   "outputs": [],
   "source": [
    "wn = 1\n",
    "damp = 0.7\n",
    "poles = co.sample_system(co.tf([1], [1, 2*0.7, 1]), Ts=0.5, method='zoh').pole()\n",
    "co_mo = sp.Poly(sp.expand((q + poles[0])*(q + poles[1]))).coeffs()\n",
    "Am = co_mo[0]*q**2 + co_mo[1]*q + co_mo[2]\n",
    "Bm = (Am/B).subs(q, 1)*B\n",
    "_Am = q**2 + am1*q + am2\n",
    "_beta = (_Am/_B).subs(q, 1)\n",
    "_Bm = sp.simplify(sp.expand(_beta*_B))\n",
    "_Ao = q + ao\n",
    "# _Ao = q\n",
    "# Bm.subs(b, b_nom)"
   ]
  },
  {
   "cell_type": "markdown",
   "id": "381e745b",
   "metadata": {},
   "source": [
    "### Control Parameters"
   ]
  },
  {
   "cell_type": "code",
   "execution_count": 13,
   "id": "f419b4ef",
   "metadata": {},
   "outputs": [],
   "source": [
    "_R = q + r0\n",
    "_S = s0*q + s1\n",
    "_T = t0*q + t1"
   ]
  },
  {
   "cell_type": "markdown",
   "id": "7f670757",
   "metadata": {},
   "source": [
    "Diophantine equation: "
   ]
  },
  {
   "cell_type": "code",
   "execution_count": 14,
   "id": "1050dbcb",
   "metadata": {},
   "outputs": [],
   "source": [
    "# diophantine = sp.Eq(sp.collect(sp.simplify(sp.expand(_A*_R + _B*_S)), q), \n",
    "#                     sp.collect(sp.expand(_Ao*_Am), q))\n",
    "diophantine = sp.Eq((_A*_R + _B*_S), (_Ao*_Am))\n",
    "dio_LHS_coeffs = sp.Poly((_A*_R + _B*_S), q).coeffs()\n",
    "dio_RHS_coeffs = sp.Poly(_Ao*_Am, q).coeffs()"
   ]
  },
  {
   "cell_type": "code",
   "execution_count": 15,
   "id": "c0075d36",
   "metadata": {},
   "outputs": [
    {
     "data": {
      "text/latex": [
       "$\\displaystyle \\left(q + r_{0}\\right) \\left(a_{1} q + a_{2} + q^{2}\\right) + \\left(b_{0} q + b_{1}\\right) \\left(q s_{0} + s_{1}\\right) = \\left(a_{o} + q\\right) \\left(a_{m_1} q + a_{m_2} + q^{2}\\right)$"
      ],
      "text/plain": [
       "Eq((q + r_0)*(a_1*q + a_2 + q**2) + (b_0*q + b_1)*(q*s_0 + s_1), (a_o + q)*(a_{m_1}*q + a_{m_2} + q**2))"
      ]
     },
     "execution_count": 15,
     "metadata": {},
     "output_type": "execute_result"
    }
   ],
   "source": [
    "diophantine"
   ]
  },
  {
   "cell_type": "code",
   "execution_count": 16,
   "id": "63e1eece",
   "metadata": {},
   "outputs": [],
   "source": [
    "# for i in range(len(dio_LHS_coeffs)):\n",
    "#     print(f'i = {s**(3 - i)}\\nLHS = ')\n",
    "#     display(dio_LHS_coeffs[i])\n",
    "#     print('RHS = ')\n",
    "#     display(dio_RHS_coeffs[i])\n",
    "#     print('\\n\\n')"
   ]
  },
  {
   "cell_type": "markdown",
   "id": "b4177e9b",
   "metadata": {},
   "source": [
    "#### Finding $r_0$"
   ]
  },
  {
   "cell_type": "code",
   "execution_count": 17,
   "id": "8e48e624",
   "metadata": {},
   "outputs": [
    {
     "data": {
      "text/latex": [
       "$\\displaystyle \\frac{- a_{1} b_{1}^{2} + a_{2} b_{0} b_{1} - a_{o} a_{m_1} b_{0} b_{1} + a_{o} a_{m_2} b_{0}^{2} + a_{o} b_{1}^{2} + a_{m_1} b_{1}^{2} - a_{m_2} b_{0} b_{1}}{- a_{1} b_{0} b_{1} + a_{2} b_{0}^{2} + b_{1}^{2}}$"
      ],
      "text/plain": [
       "(-a_1*b_1**2 + a_2*b_0*b_1 - a_o*a_{m_1}*b_0*b_1 + a_o*a_{m_2}*b_0**2 + a_o*b_1**2 + a_{m_1}*b_1**2 - a_{m_2}*b_0*b_1)/(-a_1*b_0*b_1 + a_2*b_0**2 + b_1**2)"
      ]
     },
     "execution_count": 17,
     "metadata": {},
     "output_type": "execute_result"
    }
   ],
   "source": [
    "_s0 = sp.solve(dio_LHS_coeffs[1] - dio_RHS_coeffs[1], s0)[0] \n",
    "_s1 = sp.solve((dio_LHS_coeffs[2] - dio_RHS_coeffs[2]).subs(s0, _s0), s1)[0]\n",
    "_r0 = sp.solve((dio_LHS_coeffs[3] - dio_RHS_coeffs[3]).subs(s1, _s1), r0)[0]\n",
    "_r0"
   ]
  },
  {
   "cell_type": "markdown",
   "id": "9fd07d26",
   "metadata": {},
   "source": [
    "#### Finding $s_0$"
   ]
  },
  {
   "cell_type": "code",
   "execution_count": 18,
   "id": "43e9359b",
   "metadata": {},
   "outputs": [
    {
     "data": {
      "text/latex": [
       "$\\displaystyle \\frac{a_{1}^{2} b_{1} - a_{1} a_{2} b_{0} - a_{1} a_{o} b_{1} - a_{1} a_{m_1} b_{1} + a_{2} a_{o} b_{0} + a_{2} a_{m_1} b_{0} - a_{2} b_{1} + a_{o} a_{m_1} b_{1} - a_{o} a_{m_2} b_{0} + a_{m_2} b_{1}}{- a_{1} b_{0} b_{1} + a_{2} b_{0}^{2} + b_{1}^{2}}$"
      ],
      "text/plain": [
       "(a_1**2*b_1 - a_1*a_2*b_0 - a_1*a_o*b_1 - a_1*a_{m_1}*b_1 + a_2*a_o*b_0 + a_2*a_{m_1}*b_0 - a_2*b_1 + a_o*a_{m_1}*b_1 - a_o*a_{m_2}*b_0 + a_{m_2}*b_1)/(-a_1*b_0*b_1 + a_2*b_0**2 + b_1**2)"
      ]
     },
     "execution_count": 18,
     "metadata": {},
     "output_type": "execute_result"
    }
   ],
   "source": [
    "_s0 = sp.solve((dio_LHS_coeffs[1] - dio_RHS_coeffs[1]).subs(r0, _r0), s0)[0] \n",
    "_s0"
   ]
  },
  {
   "cell_type": "markdown",
   "id": "990f3bd7",
   "metadata": {},
   "source": [
    "#### Finding $s_1$"
   ]
  },
  {
   "cell_type": "code",
   "execution_count": 19,
   "id": "e58830c3",
   "metadata": {},
   "outputs": [
    {
     "data": {
      "text/latex": [
       "$\\displaystyle \\frac{a_{1} a_{2} b_{1} - a_{1} a_{o} a_{m_2} b_{0} - a_{2}^{2} b_{0} + a_{2} a_{o} a_{m_1} b_{0} - a_{2} a_{o} b_{1} - a_{2} a_{m_1} b_{1} + a_{2} a_{m_2} b_{0} + a_{o} a_{m_2} b_{1}}{- a_{1} b_{0} b_{1} + a_{2} b_{0}^{2} + b_{1}^{2}}$"
      ],
      "text/plain": [
       "(a_1*a_2*b_1 - a_1*a_o*a_{m_2}*b_0 - a_2**2*b_0 + a_2*a_o*a_{m_1}*b_0 - a_2*a_o*b_1 - a_2*a_{m_1}*b_1 + a_2*a_{m_2}*b_0 + a_o*a_{m_2}*b_1)/(-a_1*b_0*b_1 + a_2*b_0**2 + b_1**2)"
      ]
     },
     "execution_count": 19,
     "metadata": {},
     "output_type": "execute_result"
    }
   ],
   "source": [
    "_s1 = sp.solve((dio_LHS_coeffs[2] - dio_RHS_coeffs[2]).subs([(s0, _s0), (r0, _r0)]), s1)[0]\n",
    "_s1"
   ]
  },
  {
   "cell_type": "markdown",
   "id": "9015a819",
   "metadata": {},
   "source": [
    "#### Finding T"
   ]
  },
  {
   "cell_type": "code",
   "execution_count": 20,
   "id": "fb6d93c1",
   "metadata": {},
   "outputs": [],
   "source": [
    "T = sp.collect(sp.simplify(sp.expand(_Bm/_B*_Ao)), q)\n",
    "num_T, den_T = sp.fraction(T)\n",
    "num_T_coeffs = sp.Poly(num_T, q).coeffs()\n",
    "_t0 = num_T_coeffs[0]/den_T\n",
    "_t1 = num_T_coeffs[1]/den_T"
   ]
  },
  {
   "cell_type": "code",
   "execution_count": 21,
   "id": "c14a773d",
   "metadata": {},
   "outputs": [
    {
     "data": {
      "text/latex": [
       "$\\displaystyle \\frac{a_{m_1} + a_{m_2} + 1}{b_{0} + b_{1}}$"
      ],
      "text/plain": [
       "(a_{m_1} + a_{m_2} + 1)/(b_0 + b_1)"
      ]
     },
     "execution_count": 21,
     "metadata": {},
     "output_type": "execute_result"
    }
   ],
   "source": [
    "_t0"
   ]
  },
  {
   "cell_type": "code",
   "execution_count": 22,
   "id": "2fc10296",
   "metadata": {},
   "outputs": [
    {
     "data": {
      "text/latex": [
       "$\\displaystyle \\frac{a_{o} a_{m_1} + a_{o} a_{m_2} + a_{o}}{b_{0} + b_{1}}$"
      ],
      "text/plain": [
       "(a_o*a_{m_1} + a_o*a_{m_2} + a_o)/(b_0 + b_1)"
      ]
     },
     "execution_count": 22,
     "metadata": {},
     "output_type": "execute_result"
    }
   ],
   "source": [
    "_t1"
   ]
  },
  {
   "cell_type": "code",
   "execution_count": 23,
   "id": "84dcf42b",
   "metadata": {},
   "outputs": [
    {
     "data": {
      "text/latex": [
       "$\\displaystyle \\frac{a_{o} a_{m_1} + a_{o} a_{m_2} + a_{o} + q \\left(a_{m_1} + a_{m_2} + 1\\right)}{b_{0} + b_{1}}$"
      ],
      "text/plain": [
       "(a_o*a_{m_1} + a_o*a_{m_2} + a_o + q*(a_{m_1} + a_{m_2} + 1))/(b_0 + b_1)"
      ]
     },
     "execution_count": 23,
     "metadata": {},
     "output_type": "execute_result"
    }
   ],
   "source": [
    "T"
   ]
  },
  {
   "cell_type": "markdown",
   "id": "c1ee6b31",
   "metadata": {},
   "source": [
    "### Control Action"
   ]
  },
  {
   "cell_type": "code",
   "execution_count": 24,
   "id": "4705ac7f",
   "metadata": {},
   "outputs": [
    {
     "data": {
      "text/latex": [
       "$\\displaystyle u(k) = - r_{0} u(k-1) - s_{0} y(k) - s_{1} y(k-1) + t_{0} u_c{(k)} + t_{1} u_c{(k-1)}$"
      ],
      "text/plain": [
       "Eq(u(k), -r_0*u(k-1) - s_0*y(k) - s_1*y(k-1) + t_0*u_c{(k)} + t_1*u_c{(k-1)})"
      ]
     },
     "execution_count": 24,
     "metadata": {},
     "output_type": "execute_result"
    }
   ],
   "source": [
    "uk1,  uck1, yk1 = sp.symbols('u(k-1),u_c{(k-1)},y(k-1)')\n",
    "control_action = (sp.expand(sp.Eq((_R*u)/q, (_T*uc - _S*y)/q)))\n",
    "control_action\n",
    "control_subs = [(1/q*u, uk1), (1/q*uc, uck1), (1/q*y, yk1)]\n",
    "control_action_sol = sp.Eq(u, sp.solve(control_action.subs(control_subs), u)[0])\n",
    "control_action_sol"
   ]
  },
  {
   "cell_type": "code",
   "execution_count": 25,
   "id": "e05711dd",
   "metadata": {},
   "outputs": [
    {
     "data": {
      "text/latex": [
       "$\\displaystyle q t_{0} + t_{1}$"
      ],
      "text/plain": [
       "q*t_0 + t_1"
      ]
     },
     "execution_count": 25,
     "metadata": {},
     "output_type": "execute_result"
    }
   ],
   "source": [
    "_T"
   ]
  },
  {
   "cell_type": "code",
   "execution_count": 26,
   "id": "30491a2e",
   "metadata": {},
   "outputs": [
    {
     "data": {
      "text/latex": [
       "$\\displaystyle q + r_{0}$"
      ],
      "text/plain": [
       "q + r_0"
      ]
     },
     "execution_count": 26,
     "metadata": {},
     "output_type": "execute_result"
    }
   ],
   "source": [
    "_R"
   ]
  },
  {
   "cell_type": "code",
   "execution_count": null,
   "id": "88419b25",
   "metadata": {},
   "outputs": [],
   "source": []
  },
  {
   "cell_type": "markdown",
   "id": "4ef1d7f9",
   "metadata": {},
   "source": [
    "## Simulation"
   ]
  },
  {
   "cell_type": "markdown",
   "id": "363f7174",
   "metadata": {},
   "source": [
    "### Process Deivation\n",
    "\n",
    "$ y(k) = -a_1y(k-1) - a_2y(k-2) + b_0u(k-1) + b_1u(k-2) = \\phi(t-1)^T\\theta $\n",
    "\n",
    "where, \n",
    "\n",
    "$ \\phi(t-1) = \\big[-y(k-1)\\ -y(k-2)\\ u(k-1)\\ u(k-2)\\big]^T $\n",
    "\n",
    "and \n",
    "\n",
    "$ \\theta = \\big[a_1\\ a_2\\ b_0\\ b_1\\big]^T $"
   ]
  },
  {
   "cell_type": "markdown",
   "id": "35dbec96",
   "metadata": {},
   "source": [
    "### Model Derivation\n",
    "$ y_m(k) = -a_{m_1}y_m(k-1) - a_{m_2}y(k-2) + b_{m_0}u_c(k-1) + b_{m_1}u_c(k-2) = \\phi_m(t-1)^T\\vartheta$\n",
    "\n",
    "where the parameters are defined as shown below,"
   ]
  },
  {
   "cell_type": "code",
   "execution_count": 452,
   "id": "64461f81",
   "metadata": {},
   "outputs": [],
   "source": [
    "omega_n = np.sqrt(2)/8\n",
    "zeta = 1\n",
    "AM1 = 2*zeta*omega_n\n",
    "AM2 = omega_n\n",
    "A0 = 0.01\n",
    "T0_num = AM1 + AM2 + 1\n",
    "T1_num = A0*(T0_num)\n",
    "lam = 1\n",
    "# initial_P_weights = [1000]*4\n",
    "initial_P_weights = [1000, 100, 10, 10]\n",
    "theta = np.array(pulse_coeffs, float).reshape(4, -1)"
   ]
  },
  {
   "cell_type": "code",
   "execution_count": 453,
   "id": "1ade0a0b",
   "metadata": {},
   "outputs": [],
   "source": [
    "# model_vals = [(am1, AM1), (am2, AM2), (ao, A0)]\n",
    "# _r0_func = sp.lambdify([a1, a2, b0, b1], _r0.subs(model_vals))\n",
    "# print(_r0_func(-1.26797181, 0.26797181, 0.08882331, 0.05758233))\n",
    "\n",
    "# _s0_func = sp.lambdify([a1, a2, b0, b1], _s0.subs(model_vals))\n",
    "# print(_s0_func(-1.26797181, 0.26797181, 0.08882331, 0.05758233))\n",
    "\n",
    "# _s1_func = sp.lambdify([a1, a2, b0, b1], _s1.subs(model_vals))\n",
    "# print(_s1_func(-1.26797181, 0.26797181, 0.08882331, 0.05758233))\n",
    "\n",
    "# _t0_func = sp.lambdify([a1, a2, b0, b1], _t0.subs(model_vals))\n",
    "# print(_t0_func(-1.26797181, 0.26797181, 0.08882331, 0.05758233))\n",
    "\n",
    "# _t1_func = sp.lambdify([a1, a2, b0, b1], _t1.subs(model_vals))\n",
    "# print(_t1_func(-1.26797181, 0.26797181, 0.08882331, 0.05758233))"
   ]
  },
  {
   "cell_type": "code",
   "execution_count": 454,
   "id": "822f3d9e",
   "metadata": {},
   "outputs": [],
   "source": [
    "final_time = 60\n",
    "t = np.arange(0, final_time + Ts_val, Ts_val)\n",
    "def reference_signal(end_time=final_time, Ts_func=Ts_val, lower_set=0.10, upper_set=0.20, period=20):\n",
    "    uc_func = []\n",
    "    time = np.arange(0, end_time + Ts_func, Ts_func)\n",
    "    for _t in time:\n",
    "        rat = 2*np.pi/period\n",
    "        if np.sin(rat*_t) >= 0:\n",
    "            uc_func.append(upper_set)\n",
    "        else:\n",
    "            uc_func.append(lower_set)\n",
    "    return np.array(uc_func, float)\n",
    "uc_val = reference_signal()\n",
    "# plt.plot(np.arange(0, 60 + Ts_val, Ts_val), uc)\n",
    "# plt.show()"
   ]
  },
  {
   "cell_type": "code",
   "execution_count": 455,
   "id": "108c7386",
   "metadata": {},
   "outputs": [
    {
     "data": {
      "text/plain": [
       "[-1.26797180817817, 0.267971808178173, 0.0888233086497573, 0.0575823297146081]"
      ]
     },
     "execution_count": 455,
     "metadata": {},
     "output_type": "execute_result"
    }
   ],
   "source": [
    "pulse_coeffs"
   ]
  },
  {
   "cell_type": "code",
   "execution_count": 456,
   "id": "366d3736",
   "metadata": {},
   "outputs": [],
   "source": [
    "    # Estimates k = 0\n",
    "# theta_hat = np.array(pulse_coeffs, float).reshape(4, -1) # a1, a2, b0, b1 THIS WILL BE USED FOR THE REAL CONTROL \n",
    "theta_hat = np.array([-1.1, 0.25, 0.1, 0.05], float).reshape(4, -1)\n",
    "theta_arr = theta_hat\n",
    "P = np.diag(initial_P_weights)\n",
    "phi = np.zeros((4,1))\n",
    "\n",
    "    # Measurements and control parameters k = 0\n",
    "y_measure = (phi.T@theta).reshape(-1,) \n",
    "\n",
    "a1, a2, b0, b1 = theta_hat[0], theta_hat[1], theta_hat[2], theta_hat[3]\n",
    "den_rs = ((-a1*b0*b1) + (a2*b0**2) + b1**2)   \n",
    "den_t = b0 + b1\n",
    "r0_val = 1/den_rs*((A0*AM2)*b0**2 + (-a1 + A0 + AM1)*b1**2 + (a2 - A0*AM1 - AM2)*b0*b1)\n",
    "s0_val = 1/den_rs*((-a1*a2 + a2*(A0 + AM1) - A0*AM2)*b0 + (a1**2 - a1*(A0 + AM1) - a2 + A0*AM1 + AM2)*b1)\n",
    "s1_val = 1/den_rs*((-a2**2 + A0*(a2*AM1 - a1*AM2) + a2*AM2)*b0 + (a2*(a1 - A0 - AM1) + A0*AM2)*b1)\n",
    "t0_val = T0_num/den_t\n",
    "t1_val = T1_num/den_t\n",
    "\n",
    "M = np.array([r0_val, s0_val, s1_val, t0_val, t1_val], float).reshape(-1, 1)\n",
    "N = np.array([0, -y_measure[0], 0, uc_val[0], 0], float).reshape(M.shape)\n",
    "u_val = (N.T@M).reshape(-1,)\n",
    "\n",
    "    # Estimates k = 1\n",
    "phi = np.array([-y_measure[0], 0, u_val[0], 0], float).reshape(-1,1) # phi of 0\n",
    "K = P@phi@inv(lam + phi.T@P@phi)\n",
    "theta_hat = theta_hat + K@(phi.T@theta - phi.T@theta_hat)\n",
    "theta_arr = np.concatenate((theta_arr, \n",
    "                            theta_hat.reshape(-1, 1)), axis=1)\n",
    "P = (np.eye(len(phi)) - K@phi.T) @P/lam\n",
    "\n",
    "    # Measurements and control parameters k = 1\n",
    "y_measure = np.concatenate((y_measure,\n",
    "                            (phi.T@theta).reshape(-1,)))   \n",
    "\n",
    "a1, a2, b0, b1 = theta_hat[0], theta_hat[1], theta_hat[2], theta_hat[3]\n",
    "den_rs = ((-a1*b0*b1) + (a2*b0**2) + b1**2)   \n",
    "den_t = b0 + b1\n",
    "r0_val = 1/den_rs*((A0*AM2)*b0**2 + (-a1 + A0 + AM1)*b1**2 + (a2 - A0*AM1 - AM2)*b0*b1)\n",
    "s0_val = 1/den_rs*((-a1*a2 + a2*(A0 + AM1) - A0*AM2)*b0 + (a1**2 - a1*(A0 + AM1) - a2 + A0*AM1 + AM2)*b1)\n",
    "s1_val = 1/den_rs*((-a2**2 + A0*(a2*AM1 - a1*AM2) + a2*AM2)*b0 + (a2*(a1 - A0 - AM1) + A0*AM2)*b1)\n",
    "t0_val = T0_num/den_t\n",
    "t1_val = T1_num/den_t\n",
    "\n",
    "M = np.array([r0_val, s0_val, s1_val, t0_val, t1_val], float).reshape(-1, 1)\n",
    "N = np.array([-u_val[0], -y_measure[1], -y_measure[0], uc_val[1], uc_val[0]],float).reshape(M.shape)\n",
    "u_val = np.concatenate((u_val, \n",
    "                        (N.T@M).reshape(-1,)))\n",
    "\n",
    "for k in range(2, len(t)):\n",
    "        phi = np.array([-y_measure[k-1], -y_measure[k-2], u_val[k-1], u_val[k-2]], float).reshape(-1,1)\n",
    "        K = P@phi@inv(lam + phi.T@P@phi)\n",
    "        theta_hat = theta_hat + K@(phi.T@theta - phi.T@theta_hat)\n",
    "        theta_arr = np.concatenate((theta_arr, \n",
    "                                    theta_hat.reshape(-1, 1)), axis=1)\n",
    "        P = (np.eye(len(phi)) - K@phi.T)@P/lam\n",
    "\n",
    "            # Measurements and control parameters k = 2\n",
    "        y_measure = np.concatenate((y_measure,\n",
    "                                    (phi.T@theta).reshape(-1,)))  \n",
    "\n",
    "        a1, a2, b0, b1 = theta_hat[0], theta_hat[1], theta_hat[2], theta_hat[3]\n",
    "        den_rs = ((-a1*b0*b1) + (a2*b0**2) + b1**2)   \n",
    "        den_t = b0 + b1\n",
    "        r0_val = 1/den_rs*((A0*AM2)*b0**2 + (-a1 + A0 + AM1)*b1**2 + (a2 - A0*AM1 - AM2)*b0*b1)\n",
    "        s0_val = 1/den_rs*((-a1*a2 + a2*(A0 + AM1) - A0*AM2)*b0 + (a1**2 - a1*(A0 + AM1) - a2 + A0*AM1 + AM2)*b1)\n",
    "        s1_val = 1/den_rs*((-a2**2 + A0*(a2*AM1 - a1*AM2) + a2*AM2)*b0 + (a2*(a1 - A0 - AM1) + A0*AM2)*b1)\n",
    "        t0_val = T0_num/den_t\n",
    "        t1_val = T1_num/den_t\n",
    "\n",
    "        M = np.array([r0_val, s0_val, s1_val, t0_val, t1_val], float).reshape(-1, 1)\n",
    "        N = np.array([-u_val[k-1], -y_measure[k], -y_measure[k-1], uc_val[k], uc_val[k-1]]).reshape(M.shape)\n",
    "        u_val = np.concatenate((u_val, \n",
    "                                (N.T@M).reshape(-1,)))"
   ]
  },
  {
   "cell_type": "code",
   "execution_count": 457,
   "id": "f501c6e6",
   "metadata": {},
   "outputs": [
    {
     "data": {
      "text/plain": [
       "array([[-1.26346685],\n",
       "       [ 0.26345921],\n",
       "       [ 0.08879918],\n",
       "       [ 0.05776674]])"
      ]
     },
     "execution_count": 457,
     "metadata": {},
     "output_type": "execute_result"
    }
   ],
   "source": [
    "theta_hat"
   ]
  },
  {
   "cell_type": "code",
   "execution_count": 458,
   "id": "5c82e632",
   "metadata": {},
   "outputs": [
    {
     "data": {
      "text/plain": [
       "array([[-1.26797181],\n",
       "       [ 0.26797181],\n",
       "       [ 0.08882331],\n",
       "       [ 0.05758233]])"
      ]
     },
     "execution_count": 458,
     "metadata": {},
     "output_type": "execute_result"
    }
   ],
   "source": [
    "theta"
   ]
  },
  {
   "cell_type": "code",
   "execution_count": 459,
   "id": "1ecc97ca",
   "metadata": {},
   "outputs": [
    {
     "data": {
      "image/png": "[encoded data removed]",
      "text/plain": [
       "<Figure size 432x288 with 1 Axes>"
      ]
     },
     "metadata": {
      "needs_background": "light"
     },
     "output_type": "display_data"
    }
   ],
   "source": [
    "for row in range(len(theta_arr)):\n",
    "    plt.plot(t, theta_arr[row,:])"
   ]
  },
  {
   "cell_type": "code",
   "execution_count": 460,
   "id": "cd63e879",
   "metadata": {},
   "outputs": [
    {
     "data": {
      "image/png": "[encoded data removed]",
      "text/plain": [
       "<Figure size 432x288 with 1 Axes>"
      ]
     },
     "metadata": {
      "needs_background": "light"
     },
     "output_type": "display_data"
    },
    {
     "data": {
      "image/png": "[encoded data removed]",
      "text/plain": [
       "<Figure size 432x288 with 1 Axes>"
      ]
     },
     "metadata": {
      "needs_background": "light"
     },
     "output_type": "display_data"
    }
   ],
   "source": [
    "et = len(t)\n",
    "plt.plot(t[0:et], y_measure[0:et])\n",
    "plt.plot(t[0:et], uc_val[0:et])\n",
    "plt.show()\n",
    "plt.plot(t[0:et], u_val[0:et])\n",
    "plt.show()"
   ]
  },
  {
   "cell_type": "code",
   "execution_count": null,
   "id": "9748e521",
   "metadata": {},
   "outputs": [],
   "source": []
  },
  {
   "cell_type": "code",
   "execution_count": null,
   "id": "aa58bf1a",
   "metadata": {},
   "outputs": [],
   "source": []
  },
  {
   "cell_type": "code",
   "execution_count": null,
   "id": "ac822936",
   "metadata": {},
   "outputs": [],
   "source": []
  },
  {
   "cell_type": "code",
   "execution_count": null,
   "id": "4fe8da19",
   "metadata": {},
   "outputs": [],
   "source": []
  },
  {
   "cell_type": "code",
   "execution_count": null,
   "id": "606e4d40",
   "metadata": {},
   "outputs": [],
   "source": []
  },
  {
   "cell_type": "code",
   "execution_count": null,
   "id": "526f37b9",
   "metadata": {},
   "outputs": [],
   "source": []
  },
  {
   "cell_type": "code",
   "execution_count": null,
   "id": "a006a704",
   "metadata": {},
   "outputs": [],
   "source": []
  }
 ],
 "metadata": {
  "kernelspec": {
   "display_name": "Python 3 (ipykernel)",
   "language": "python",
   "name": "python3"
  },
  "language_info": {
   "codemirror_mode": {
    "name": "ipython",
    "version": 3
   },
   "file_extension": ".py",
   "mimetype": "text/x-python",
   "name": "python",
   "nbconvert_exporter": "python",
   "pygments_lexer": "ipython3",
   "version": "3.8.10"
  }
 },
 "nbformat": 4,
 "nbformat_minor": 5
}
