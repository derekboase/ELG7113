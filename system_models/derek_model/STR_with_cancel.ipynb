{
 "cells": [
  {
   "cell_type": "code",
   "execution_count": 1,
   "id": "d9ac2dbe",
   "metadata": {},
   "outputs": [],
   "source": [
    "import matplotlib.pyplot as plt\n",
    "import control as co\n",
    "import pandas as pd\n",
    "import numpy as np \n",
    "import sympy as sp\n",
    "import time \n",
    "\n",
    "from sympy.abc import a, b, q, s, z, omega, zeta\n",
    "from numpy.linalg import inv"
   ]
  },
  {
   "cell_type": "code",
   "execution_count": 2,
   "id": "f6e0026b",
   "metadata": {},
   "outputs": [],
   "source": [
    "u, uc, vs, y, ys, Gs, Hz, Hq = sp.symbols('u(k),u_c{(k)},v(s),y(k),y(s),G(s),H(z),H(q)')\n",
    "Ts = sp.symbols('T_s')\n",
    "\n",
    "am1, am2, bm0, bm1 = sp.symbols('a_{m_1},a_{m_2},b_{m_0},b_{m_1}')\n",
    "ao, a1, a2, b0, b1 = sp.symbols('a_o,a_1,a_2,b_0,b_1')\n",
    "r0, s0, s1, t0, t1 = sp.symbols('r_0,s_0,s_1,t_0,t_1')\n",
    "\n",
    "Gs_eq = sp.Eq(Gs, b/(s*(s + b)))"
   ]
  },
  {
   "cell_type": "markdown",
   "id": "ac7b71b4",
   "metadata": {
    "variables": {
     "Gs_eq": "$\\displaystyle G(s) = \\frac{b}{s \\left(b + s\\right)}$"
    }
   },
   "source": [
    "The model is given by {{Gs_eq}}. To discretize, \n",
    "\n",
    "$ G(z) =  (1-z^{-1})\\mathscr{Z}\\big\\{\\frac{b}{s^2(s+b)}\\big\\} $\n",
    "\n",
    "$ G(z) =  (1-z^{-1})\\mathscr{Z}\\big\\{\\frac{1}{s^2} - \\frac{1}{bs} + \\frac{1}{b(b + s)} \\big\\} $"
   ]
  },
  {
   "cell_type": "markdown",
   "id": "983feb26",
   "metadata": {},
   "source": [
    "$ G(z) =  (1-z^{-1})\\Big(\\frac{T_sz}{(z-1)^2} - \\frac{1}{b} \\frac{z}{z-1} + \\frac{1}{b} \\frac{z}{z-e^{-bT_s}}\\Big) $"
   ]
  },
  {
   "cell_type": "code",
   "execution_count": 3,
   "id": "d8af643b",
   "metadata": {},
   "outputs": [
    {
     "data": {
      "text/latex": [
       "$\\displaystyle H(z) = \\frac{- T_{s} b + z \\left(T_{s} b e^{T_{s} b} - e^{T_{s} b} + 1\\right) + e^{T_{s} b} - 1}{b \\left(z^{2} e^{T_{s} b} + z \\left(- e^{T_{s} b} - 1\\right) + 1\\right)}$"
      ],
      "text/plain": [
       "Eq(H(z), (-T_s*b + z*(T_s*b*exp(T_s*b) - exp(T_s*b) + 1) + exp(T_s*b) - 1)/(b*(z**2*exp(T_s*b) + z*(-exp(T_s*b) - 1) + 1)))"
      ]
     },
     "execution_count": 3,
     "metadata": {},
     "output_type": "execute_result"
    }
   ],
   "source": [
    "Gz_eq_Ts_b = sp.simplify(sp.expand((1-1/z)*(Ts*z/(z-1)**2 - z/(b*(z-1)) + z/(b*(z-sp.exp(-b*Ts))))))\n",
    "\n",
    "num, den = sp.fraction(Gz_eq_Ts_b)\n",
    "den_poly = sp.Poly(den, z)\n",
    "mono_div = den_poly.coeffs()[0]\n",
    "sp.Eq(Hz, sp.collect(sp.simplify(Gz_eq_Ts_b), z))"
   ]
  },
  {
   "cell_type": "markdown",
   "id": "62925724",
   "metadata": {},
   "source": [
    "## Pulse Function"
   ]
  },
  {
   "cell_type": "code",
   "execution_count": 4,
   "id": "25b82b79",
   "metadata": {},
   "outputs": [],
   "source": [
    "radius = 38/2000  # 38 mm diameter to radius in m\n",
    "mass = 4/7000  # grams per ball\n",
    "area_ball = np.pi * radius**2\n",
    "volume_ball = 4/3*np.pi*radius**3\n",
    "density = 1.2  # kg/m^3\n",
    "veq = 2.8 # m/s\n",
    "\n",
    "Ts_val = 0.2\n",
    "b_nom = 2*9.81*(mass-density*volume_ball)/(mass*veq)"
   ]
  },
  {
   "cell_type": "code",
   "execution_count": 5,
   "id": "3d90cb95",
   "metadata": {},
   "outputs": [
    {
     "data": {
      "text/latex": [
       "$\\displaystyle H(q) = \\frac{0.0888233086497573 z + 0.0575823297146081}{1.0 z^{2} - 1.26797180817817 z + 0.267971808178173}$"
      ],
      "text/plain": [
       "Eq(H(q), (0.0888233086497573*z + 0.0575823297146081)/(1.0*z**2 - 1.26797180817817*z + 0.267971808178173))"
      ]
     },
     "execution_count": 5,
     "metadata": {},
     "output_type": "execute_result"
    }
   ],
   "source": [
    "## Example 3.1: since it has the same structure TF I used it to validate my approach, it's consistent\n",
    "# sub_vals = [(Ts, Ts_val), (b, 1)]\n",
    "\n",
    "## This is for our project\n",
    "sub_vals = [(Ts, Ts_val), (b, b_nom)]\n",
    "\n",
    "num_mono_z = sp.collect(num/mono_div, z).subs(sub_vals) \n",
    "den_mono_z = sp.collect(den/mono_div, z).subs(sub_vals) \n",
    "\n",
    "Hq_eq = sp.Eq(Hq, num_mono_z/den_mono_z)\n",
    "Hq_eq\n",
    "# np.roots(sp.Poly(num_mono_z).coeffs())"
   ]
  },
  {
   "cell_type": "code",
   "execution_count": 6,
   "id": "7a396941",
   "metadata": {},
   "outputs": [
    {
     "data": {
      "text/plain": [
       "-0.6482794954381095"
      ]
     },
     "execution_count": 6,
     "metadata": {},
     "output_type": "execute_result"
    }
   ],
   "source": [
    "n_coeffs_nom, d_coeffs_nom = sp.fraction(Hq_eq.rhs)\n",
    "pulse_coeffs = sp.Poly(d_coeffs_nom).coeffs()[1:]\n",
    "for bi in sp.Poly(n_coeffs_nom).coeffs():\n",
    "    pulse_coeffs.append(bi)\n",
    "    \n",
    "zeros = np.roots(sp.Poly(n_coeffs_nom).coeffs())\n",
    "poles = np.roots(sp.Poly(d_coeffs_nom).coeffs())\n",
    "zeros[0]"
   ]
  },
  {
   "cell_type": "markdown",
   "id": "1b59cff5",
   "metadata": {
    "variables": {
     "poles[0]": "1.0",
     "poles[1]": "0.26797180817817307",
     "zeros[0]": "-0.6482794954381095"
    }
   },
   "source": [
    "This is a sanity check with the nominal values to check the stability of the zeros. Here, the zero is unstable for a nominal value of $ b = $ {{zeros[0]}} and the poles are {{poles[0]}} and {{poles[1]}}. "
   ]
  },
  {
   "cell_type": "markdown",
   "id": "90a8bd27",
   "metadata": {},
   "source": [
    "## Control Parameter Derivation"
   ]
  },
  {
   "cell_type": "markdown",
   "id": "82c9c8ea",
   "metadata": {},
   "source": [
    "Given that the zeros are unstable, the parameters are derived without zero cancelation.  \n",
    "\n",
    "Here we know from the compatability conditions that, \n",
    "\n",
    "$ \\text{degA}_m = \\text{degA} = 2 $\n",
    "\n",
    "$ \\text{degB}_m = \\text{degB} = 1 $"
   ]
  },
  {
   "cell_type": "markdown",
   "id": "5068498b",
   "metadata": {},
   "source": [
    "Since the zeros in $ B $ are stable then $ B^+ = q + \\frac{b_1}{b_0} $ and $ B^- = b_0  $\n",
    "\n",
    "Then, \n",
    "\n",
    "$ \\text{degA}_o = \\text{degA} - \\text{degB}^+ - 1 = 2 - 1 - 1 = 0 $"
   ]
  },
  {
   "cell_type": "markdown",
   "id": "2693aeba",
   "metadata": {},
   "source": [
    "Using the Diophantine equation we get, \n",
    "\n",
    "$ AR' + b_0S = A_oA_m $\n",
    "\n",
    "Let $ A_o = 1$\n",
    "\n",
    "Since the process is second order, then, \n",
    "\n",
    "$ \\text{degR} = \\text{degS} = \\text{degT} = 1 $, \n",
    "\n",
    "with R being monic. "
   ]
  },
  {
   "cell_type": "markdown",
   "id": "381e745b",
   "metadata": {},
   "source": [
    "### Control Parameters"
   ]
  },
  {
   "cell_type": "code",
   "execution_count": 7,
   "id": "f419b4ef",
   "metadata": {},
   "outputs": [],
   "source": [
    "# Process Values\n",
    "_A = q**2 + a1*q + a2\n",
    "_B = b0*q + b1\n",
    "_Bplus = q + b1/b0\n",
    "_Bminus = b0\n",
    "\n",
    "# Model Values\n",
    "_Am = q**2 + am1*q + am2\n",
    "_Bm = _Am.subs(q, 1)*q\n",
    "_Ao = ao\n",
    "\n",
    "# Control Values\n",
    "_R = q + r0\n",
    "_S = s0*q + s1\n",
    "_T = t0*q "
   ]
  },
  {
   "cell_type": "markdown",
   "id": "7f670757",
   "metadata": {},
   "source": [
    "Diophantine equation: "
   ]
  },
  {
   "cell_type": "code",
   "execution_count": 8,
   "id": "1050dbcb",
   "metadata": {},
   "outputs": [],
   "source": [
    "diophantine = sp.Eq((_A*1 + b0*_S), (_Ao*_Am))\n",
    "dio_LHS_coeffs = sp.Poly(diophantine.lhs, q).coeffs()\n",
    "dio_RHS_coeffs = sp.Poly(diophantine.rhs, q).coeffs()"
   ]
  },
  {
   "cell_type": "code",
   "execution_count": 9,
   "id": "c0075d36",
   "metadata": {},
   "outputs": [],
   "source": [
    "# for i in range(len(dio_LHS_coeffs)):\n",
    "#     display([dio_LHS_coeffs[i], dio_RHS_coeffs[i]])"
   ]
  },
  {
   "cell_type": "markdown",
   "id": "9fd07d26",
   "metadata": {},
   "source": [
    "#### Finding $s_0$"
   ]
  },
  {
   "cell_type": "code",
   "execution_count": 10,
   "id": "43e9359b",
   "metadata": {},
   "outputs": [
    {
     "data": {
      "text/latex": [
       "$\\displaystyle s_{0} = \\frac{- a_{1} + a_{o} a_{m_1}}{b_{0}}$"
      ],
      "text/plain": [
       "Eq(s_0, (-a_1 + a_o*a_{m_1})/b_0)"
      ]
     },
     "execution_count": 10,
     "metadata": {},
     "output_type": "execute_result"
    }
   ],
   "source": [
    "_s0 = sp.solve(dio_LHS_coeffs[1] - dio_RHS_coeffs[1], s0)[0] \n",
    "sp.Eq(s0, _s0)"
   ]
  },
  {
   "cell_type": "markdown",
   "id": "990f3bd7",
   "metadata": {},
   "source": [
    "#### Finding $s_1$"
   ]
  },
  {
   "cell_type": "code",
   "execution_count": 11,
   "id": "e58830c3",
   "metadata": {},
   "outputs": [
    {
     "data": {
      "text/latex": [
       "$\\displaystyle s_{1} = \\frac{- a_{2} + a_{o} a_{m_2}}{b_{0}}$"
      ],
      "text/plain": [
       "Eq(s_1, (-a_2 + a_o*a_{m_2})/b_0)"
      ]
     },
     "execution_count": 11,
     "metadata": {},
     "output_type": "execute_result"
    }
   ],
   "source": [
    "_s1 = sp.solve(dio_LHS_coeffs[2] - dio_RHS_coeffs[2], s1)[0]\n",
    "sp.Eq(s1, _s1)"
   ]
  },
  {
   "cell_type": "markdown",
   "id": "9015a819",
   "metadata": {},
   "source": [
    "#### Finding T"
   ]
  },
  {
   "cell_type": "code",
   "execution_count": 12,
   "id": "fb6d93c1",
   "metadata": {},
   "outputs": [
    {
     "data": {
      "text/latex": [
       "$\\displaystyle \\frac{a_{o} q \\left(a_{m_1} + a_{m_2} + 1\\right)}{b_{0}}$"
      ],
      "text/plain": [
       "a_o*q*(a_{m_1} + a_{m_2} + 1)/b_0"
      ]
     },
     "execution_count": 12,
     "metadata": {},
     "output_type": "execute_result"
    }
   ],
   "source": [
    "_t0 = _Ao*_Bm/b0\n",
    "_t0"
   ]
  },
  {
   "cell_type": "code",
   "execution_count": 13,
   "id": "68e33ad5",
   "metadata": {},
   "outputs": [
    {
     "data": {
      "text/latex": [
       "$\\displaystyle q + \\frac{b_{1}}{b_{0}}$"
      ],
      "text/plain": [
       "q + b_1/b_0"
      ]
     },
     "metadata": {},
     "output_type": "display_data"
    },
    {
     "data": {
      "text/latex": [
       "$\\displaystyle \\frac{q \\left(- a_{1} + a_{o} a_{m_1}\\right)}{b_{0}} + \\frac{- a_{2} + a_{o} a_{m_2}}{b_{0}}$"
      ],
      "text/plain": [
       "q*(-a_1 + a_o*a_{m_1})/b_0 + (-a_2 + a_o*a_{m_2})/b_0"
      ]
     },
     "metadata": {},
     "output_type": "display_data"
    },
    {
     "data": {
      "text/latex": [
       "$\\displaystyle \\frac{a_{o} q \\left(a_{m_1} + a_{m_2} + 1\\right)}{b_{0}}$"
      ],
      "text/plain": [
       "a_o*q*(a_{m_1} + a_{m_2} + 1)/b_0"
      ]
     },
     "metadata": {},
     "output_type": "display_data"
    }
   ],
   "source": [
    "R = _Bplus\n",
    "S = _s0*q + _s1\n",
    "T = _Ao*_Bm/_Bminus\n",
    "\n",
    "display(R)\n",
    "display(S)\n",
    "display(T)"
   ]
  },
  {
   "cell_type": "markdown",
   "id": "c1ee6b31",
   "metadata": {},
   "source": [
    "### Control Action"
   ]
  },
  {
   "cell_type": "code",
   "execution_count": 14,
   "id": "4705ac7f",
   "metadata": {},
   "outputs": [
    {
     "data": {
      "text/latex": [
       "$\\displaystyle u(k) = - \\frac{b_{1} u(k-1)}{b_{0}} + \\frac{q u_c{(k)} \\left(a_{m_1} + a_{m_2} + 1\\right)}{b_{0}} - \\frac{y(k) \\left(- a_{1} + a_{m_1}\\right)}{b_{0}} - \\frac{y(k-1) \\left(- a_{2} + a_{m_2}\\right)}{b_{0}}$"
      ],
      "text/plain": [
       "Eq(u(k), -b_1*u(k-1)/b_0 + q*u_c{(k)}*(a_{m_1} + a_{m_2} + 1)/b_0 - y(k)*(-a_1 + a_{m_1})/b_0 - y(k-1)*(-a_2 + a_{m_2})/b_0)"
      ]
     },
     "execution_count": 14,
     "metadata": {},
     "output_type": "execute_result"
    }
   ],
   "source": [
    "uk1,  uck1, yk1 = sp.symbols('u(k-1),u_c{(k-1)},y(k-1)')\n",
    "control_action = (sp.expand(sp.Eq((_R*u)/q, (_T*uc - _S*y)/q)))\n",
    "control_action\n",
    "control_subs = [(1/q*u, uk1), (1/q*uc, uck1), (1/q*y, yk1)]\n",
    "control_action_sol = sp.Eq(u, sp.solve(control_action.subs(control_subs), u)[0])\n",
    "control_action_sol.subs([(r0, b1/b0),\n",
    "                         (s0, _s0),\n",
    "                         (s1, _s1), \n",
    "                         (t0, _t0), \n",
    "                         (ao, 1)])"
   ]
  },
  {
   "cell_type": "markdown",
   "id": "4ef1d7f9",
   "metadata": {},
   "source": [
    "## Simulation"
   ]
  },
  {
   "cell_type": "markdown",
   "id": "363f7174",
   "metadata": {},
   "source": [
    "### Process Deivation\n",
    "\n",
    "$ y(k) = -a_1y(k-1) - a_2y(k-2) + b_0u(k-1) + b_1u(k-2) = \\phi(t-1)^T\\theta $\n",
    "\n",
    "where, \n",
    "\n",
    "$ \\phi(t-1) = \\big[-y(k-1)\\ -y(k-2)\\ u(k-1)\\ u(k-2)\\big]^T $\n",
    "\n",
    "and \n",
    "\n",
    "$ \\theta = \\big[a_1\\ a_2\\ b_0\\ b_1\\big]^T $"
   ]
  },
  {
   "cell_type": "code",
   "execution_count": 15,
   "id": "822f3d9e",
   "metadata": {},
   "outputs": [],
   "source": [
    "final_time = 90\n",
    "t = np.arange(0, final_time + Ts_val, Ts_val)\n",
    "def reference_signal(end_time=final_time, Ts_func=Ts_val, lower_set=0.2, upper_set=0.1, period=30):\n",
    "    uc_func = []\n",
    "    time = np.arange(0, end_time + Ts_func, Ts_func)\n",
    "    for _t in time:\n",
    "        rat = 2*np.pi/period\n",
    "        if np.sin(rat*_t) >= 0:\n",
    "            uc_func.append(upper_set)\n",
    "        else:\n",
    "            uc_func.append(lower_set)\n",
    "    return np.array(uc_func, float)\n",
    "uc_val = reference_signal()\n",
    "# plt.plot(np.arange(0, 60 + Ts_val, Ts_val), uc)\n",
    "# plt.show()"
   ]
  },
  {
   "cell_type": "code",
   "execution_count": 16,
   "id": "64461f81",
   "metadata": {},
   "outputs": [],
   "source": [
    "omega_n = 1\n",
    "zeta = 1\n",
    "std = 0\n",
    "# std = 0.001\n",
    "Bmz_tf, Amz_tf = co.tfdata(co.sample_system(co.tf([1], [1, 2*zeta*omega_n, omega_n**2]), method='zoh', Ts=Ts_val))\n",
    "AM1 = Amz_tf[0][0][1]\n",
    "AM2 = Amz_tf[0][0][2]\n",
    "# AM1 = 2*zeta*omega_n\n",
    "# AM2 = omega_n**2\n",
    "AM_SUM = 1 + AM1 + AM2\n",
    "A0 = np.array([1])\n",
    "lam = 0.98\n",
    "initial_P_weights = [10000]*4\n",
    "# initial_P_weights = [100, 100, 10, 10]\n",
    "theta = np.array(pulse_coeffs, float).reshape(4, -1)"
   ]
  },
  {
   "cell_type": "code",
   "execution_count": 17,
   "id": "366d3736",
   "metadata": {},
   "outputs": [
    {
     "data": {
      "text/plain": [
       "67.62372505543237"
      ]
     },
     "execution_count": 17,
     "metadata": {},
     "output_type": "execute_result"
    }
   ],
   "source": [
    "    # Estimates k = 0\n",
    "time_ns = time.time_ns()\n",
    "theta_hat = np.array([-0.5, 0.5, 0.25, 0.25], float).reshape(4, -1) # 0: a1 1: a2 2: b0 3: b1 \n",
    "# theta_hat = np.array([-0.5, 0.5, 0.5, 0.5], float).reshape(4, -1)\n",
    "# theta_hat = np.ones((4,1), float)\n",
    "theta_arr = theta_hat\n",
    "P = np.diag(initial_P_weights)\n",
    "phi = np.zeros((4,1))\n",
    "\n",
    "y_measure = (phi.T@theta + np.random.normal(0, std)).reshape(-1,) \n",
    "\n",
    "r0_est = theta_hat[3]\n",
    "s0_est = A0*AM1 - theta_hat[0]\n",
    "s1_est = A0*AM2 - theta_hat[1]\n",
    "t0_est = A0*AM_SUM\n",
    "\n",
    "M = np.array([r0_est, s0_est, s1_est, t0_est], float).reshape(-1, 1)\n",
    "N = np.array([0, -y_measure[0], 0, uc_val[0]], float).reshape(M.shape)\n",
    "u_val = 1/theta[2]*(N.T@M).reshape(-1,)\n",
    "\n",
    "    # Estimates k = 1\n",
    "phi = np.array([-y_measure[0], 0, u_val[0], 0], float).reshape(-1,1) # phi of 0\n",
    "K = P@phi@inv(lam + phi.T@P@phi)\n",
    "y_measure = np.concatenate((y_measure,\n",
    "                            (phi.T@theta + np.random.normal(0, std)).reshape(-1,))) \n",
    "theta_hat = theta_hat + K@(y_measure[-1] - phi.T@theta_hat)\n",
    "theta_arr = np.concatenate((theta_arr, \n",
    "                            theta_hat.reshape(-1, 1)), axis=1)\n",
    "P = (np.eye(len(phi)) - K@phi.T) @P/lam  \n",
    "\n",
    "r0_est = theta_hat[3]\n",
    "s0_est = A0*AM1 - theta_hat[0]\n",
    "s1_est = A0*AM2 - theta_hat[1]\n",
    "t0_est = A0*AM_SUM\n",
    "\n",
    "M = np.array([r0_est, s0_est, s1_est, t0_est], float).reshape(-1, 1)\n",
    "N = np.array([-u_val[0], -y_measure[1], -y_measure[0], uc_val[1]],float).reshape(M.shape)\n",
    "u_val = np.concatenate((u_val, \n",
    "                        1/theta[2]*(N.T@M).reshape(-1,)))\n",
    "\n",
    "for k in range(2, len(t)):\n",
    "        phi = np.array([-y_measure[k-1], -y_measure[k-2], u_val[k-1], u_val[k-2]], float).reshape(-1,1)\n",
    "        K = P@phi@inv(lam + phi.T@P@phi)\n",
    "        y_measure = np.concatenate((y_measure,\n",
    "                                    (phi.T@theta + np.random.normal(0, std)).reshape(-1,)))    \n",
    "        theta_hat = theta_hat + K@(y_measure[-1] - phi.T@theta_hat)\n",
    "        theta_arr = np.concatenate((theta_arr, \n",
    "                                    theta_hat.reshape(-1, 1)), axis=1)\n",
    "        P = (np.eye(len(phi)) - K@phi.T)@P/lam\n",
    "\n",
    "        r0_est = theta_hat[3]\n",
    "        s0_est = A0*AM1 - theta_hat[0]\n",
    "        s1_est = A0*AM2 - theta_hat[1]\n",
    "        t0_est = A0*AM_SUM\n",
    "\n",
    "        M = np.array([r0_est, s0_est, s1_est, t0_est], float).reshape(-1, 1)\n",
    "        N = np.array([-u_val[k-1], -y_measure[k], -y_measure[k-1], uc_val[k]]).reshape(M.shape)\n",
    "        u_val = np.concatenate((u_val, \n",
    "                                1/theta[2]*(N.T@M).reshape(-1,)))\n",
    "(time.time_ns() - time_ns)*1e-9/len(t)*1e6"
   ]
  },
  {
   "cell_type": "code",
   "execution_count": 18,
   "id": "1ecc97ca",
   "metadata": {},
   "outputs": [
    {
     "data": {
      "image/png": "[encoded data removed]",
      "text/plain": [
       "<Figure size 432x288 with 1 Axes>"
      ]
     },
     "metadata": {
      "needs_background": "light"
     },
     "output_type": "display_data"
    },
    {
     "data": {
      "image/png": "[encoded data removed]",
      "text/plain": [
       "<Figure size 432x288 with 1 Axes>"
      ]
     },
     "metadata": {
      "needs_background": "light"
     },
     "output_type": "display_data"
    },
    {
     "data": {
      "image/png": "[encoded data removed]",
      "text/plain": [
       "<Figure size 432x288 with 1 Axes>"
      ]
     },
     "metadata": {
      "needs_background": "light"
     },
     "output_type": "display_data"
    }
   ],
   "source": [
    "filepath = 'C:/Users/dboas065/University of Ottawa/ELG7113/system_models/derek_model/with_pictures/'\n",
    "colors = ['blue', 'orange', 'red', 'green']\n",
    "for row in range(len(theta_arr)):\n",
    "    plt.plot(t, theta_arr[row,:])\n",
    "    plt.hlines(theta[row][0], 0, t[len(t) - 1], colors=colors[row], linestyles='--')\n",
    "plt.title('Parameter Adaptation vs. Time, t')\n",
    "plt.xlabel('Time, t (sec)')\n",
    "plt.ylabel('Parameter Values')\n",
    "plt.legend(['$a_1$', '$a_2$', '$b_0$','$b_1$'])\n",
    "plt.tight_layout()\n",
    "# plt.savefig(filepath+'adaptation.pdf', format='pdf')\n",
    "plt.savefig(filepath+'adaptation_noise.pdf', format='pdf')\n",
    "plt.show()\n",
    "\n",
    "st = 0\n",
    "et = len(t)\n",
    "\n",
    "plt.plot(t[st:et], y_measure[st:et])\n",
    "plt.plot(t[st:et], uc_val[st:et])\n",
    "plt.title('System Response vs. Time, t')\n",
    "plt.xlabel('Time, t (sec)')\n",
    "plt.ylabel('Height from Bottom, h (m)')\n",
    "plt.legend(['$y(t)$', '$u_c(t)$'])\n",
    "plt.tight_layout()\n",
    "# plt.savefig(filepath+'output.pdf', format='pdf')\n",
    "plt.savefig(filepath+'output_noise.pdf', format='pdf')\n",
    "plt.show()\n",
    "\n",
    "plt.step(t[st:et], u_val[st:et])\n",
    "plt.title('Input, $v_f(t) - v_{eq}$ vs. Time, t')\n",
    "plt.xlabel('Time, t (sec)')\n",
    "plt.ylabel('Air Speed, $v_f(t) - v_{eq}$ ($m/s^2$)')\n",
    "plt.legend(['$u(t)$'])\n",
    "plt.tight_layout()\n",
    "# plt.savefig(filepath+'input.pdf', format='pdf')\n",
    "plt.savefig(filepath+'input_noise.pdf', format='pdf')\n",
    "plt.show()"
   ]
  },
  {
   "cell_type": "code",
   "execution_count": null,
   "id": "606e4d40",
   "metadata": {},
   "outputs": [],
   "source": []
  },
  {
   "cell_type": "code",
   "execution_count": null,
   "id": "526f37b9",
   "metadata": {},
   "outputs": [],
   "source": []
  },
  {
   "cell_type": "code",
   "execution_count": null,
   "id": "a006a704",
   "metadata": {},
   "outputs": [],
   "source": []
  }
 ],
 "metadata": {
  "kernelspec": {
   "display_name": "Python 3 (ipykernel)",
   "language": "python",
   "name": "python3"
  },
  "language_info": {
   "codemirror_mode": {
    "name": "ipython",
    "version": 3
   },
   "file_extension": ".py",
   "mimetype": "text/x-python",
   "name": "python",
   "nbconvert_exporter": "python",
   "pygments_lexer": "ipython3",
   "version": "3.8.10"
  }
 },
 "nbformat": 4,
 "nbformat_minor": 5
}
