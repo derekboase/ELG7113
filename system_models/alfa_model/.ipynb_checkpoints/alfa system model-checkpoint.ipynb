{
 "cells": [
  {
   "cell_type": "code",
   "execution_count": 43,
   "metadata": {},
   "outputs": [],
   "source": [
    "import sympy as sp\n",
    "import numpy as np\n",
    "g, m , rho, Vb, veq = sp.symbols('g m rho V_b V_eq')\n",
    "\n",
    "v, vc, y, ym, th, th1, th2, B, p, a, b, e, gamma = sp.symbols('v v_c y y_m theta theta_1 theta_2 B p a b e gamma')\n",
    "u, uc, zeta, omega = sp.symbols('u u_c zeta omega')"
   ]
  },
  {
   "cell_type": "code",
   "execution_count": 24,
   "metadata": {},
   "outputs": [],
   "source": [
    "Y_vc = (b*th1)*vc/(p**2-a*p-b*th2)\n",
    "Ym_vc = B*vc/(p**2+p*B)\n",
    "error = Y_vc-Ym_vc\n",
    "\n",
    "vc_Y = (p**2-a*p-b*th2)*y/(b*th1)"
   ]
  },
  {
   "cell_type": "code",
   "execution_count": 26,
   "metadata": {},
   "outputs": [],
   "source": [
    "e_d_th1 = sp.diff(error, th1).simplify()\n",
    "e_d_th2 = sp.diff(error, th2).subs(vc, vc_Y).simplify()"
   ]
  },
  {
   "cell_type": "code",
   "execution_count": 29,
   "metadata": {},
   "outputs": [],
   "source": [
    "th1_p1 = -gamma*e*e_d_th1\n",
    "th2_p1 = -gamma*e*e_d_th2"
   ]
  },
  {
   "cell_type": "code",
   "execution_count": 30,
   "metadata": {},
   "outputs": [
    {
     "data": {
      "text/latex": [
       "$\\displaystyle - \\frac{b e \\gamma v_{c}}{- a p - b \\theta_{2} + p^{2}}$"
      ],
      "text/plain": [
       "-b*e*gamma*v_c/(-a*p - b*theta_2 + p**2)"
      ]
     },
     "execution_count": 30,
     "metadata": {},
     "output_type": "execute_result"
    }
   ],
   "source": [
    "th1_p1"
   ]
  },
  {
   "cell_type": "code",
   "execution_count": 32,
   "metadata": {},
   "outputs": [
    {
     "data": {
      "text/latex": [
       "$\\displaystyle - \\frac{b e \\gamma y}{- a p - b \\theta_{2} + p^{2}}$"
      ],
      "text/plain": [
       "-b*e*gamma*y/(-a*p - b*theta_2 + p**2)"
      ]
     },
     "execution_count": 32,
     "metadata": {},
     "output_type": "execute_result"
    }
   ],
   "source": [
    "th2_p1"
   ]
  },
  {
   "cell_type": "code",
   "execution_count": 33,
   "metadata": {},
   "outputs": [
    {
     "data": {
      "text/latex": [
       "$\\displaystyle \\frac{b y}{- a p - b \\theta_{2} + p^{2}}$"
      ],
      "text/plain": [
       "b*y/(-a*p - b*theta_2 + p**2)"
      ]
     },
     "execution_count": 33,
     "metadata": {},
     "output_type": "execute_result"
    }
   ],
   "source": [
    "e_d_th2"
   ]
  },
  {
   "cell_type": "code",
   "execution_count": 44,
   "metadata": {},
   "outputs": [],
   "source": [
    "Y_uc = -b*th*uc/(p**2+b*p-b*th)\n",
    "Ym_uc = omega*uc/(p**2+zeta*p+omega)"
   ]
  },
  {
   "cell_type": "code",
   "execution_count": 47,
   "metadata": {},
   "outputs": [],
   "source": [
    "error = Y_uc - Ym_uc\n",
    "e_d_th = sp.diff(error, th)"
   ]
  },
  {
   "cell_type": "code",
   "execution_count": 49,
   "metadata": {},
   "outputs": [
    {
     "data": {
      "text/latex": [
       "$\\displaystyle - \\frac{b p u_{c} \\left(b + p\\right)}{\\left(b p - b \\theta + p^{2}\\right)^{2}}$"
      ],
      "text/plain": [
       "-b*p*u_c*(b + p)/(b*p - b*theta + p**2)**2"
      ]
     },
     "execution_count": 49,
     "metadata": {},
     "output_type": "execute_result"
    }
   ],
   "source": [
    "e_d_th.simplify()"
   ]
  },
  {
   "cell_type": "code",
   "execution_count": 71,
   "metadata": {},
   "outputs": [],
   "source": [
    "#global variables\n",
    "OMEGA = 1\n",
    "ZETA = 1\n",
    "B = 1 \n",
    "DT = 1\n",
    "GAMMA = 1\n",
    "\n",
    "def MRAS_Control(y_i, y_p1_i, uc_i, u_i, ym_p1_i, ym_i, theta_i, theta_p1_i, theta_p2_i):\n",
    "    u_o = theta_i*(y_i-uc_i)\n",
    "    \n",
    "    ym_p2_o = OMEGA*uc_i - ZETA*ym_p1_i - OMEGA*ym_i\n",
    "    ym_p1_o = ym_p1_i + DT*ym_p2_o\n",
    "    ym_o = ym_i + DT*ym_p1_o\n",
    "    \n",
    "    y_p2_o = B*u_i - B*y_p1_i\n",
    "    y_p1_o = y_p1_i + DT*y_p2_o\n",
    "    y_o = y_i + DT*y_p1_o\n",
    "    \n",
    "    error = y_o - ym_o\n",
    "    \n",
    "    theta_p3_o = -(GAMMA*error/theta_i)*(B*y_o+y_p1_o) - B*theta_p2_i + B*theta_i*theta_p1_i\n",
    "    theta_p2_o = theta_p2_i + DT*theta_p3_o\n",
    "    theta_p1_o = theta_p1_i + DT*theta_p2_o\n",
    "    theta_o = theta_i + DT*theta_p1_o\n",
    "    \n",
    "    result_dict = {\"ym_p1\": ym_p1_o,\n",
    "                   \"ym\": ym_o,\n",
    "                   \"y_p2\": y_p2_o,\n",
    "                   \"y_p1\": y_p1_o,\n",
    "                   \"y\": y_o,\n",
    "                   \"y_p1\": y_p1_o,\n",
    "                   \"theta_p3\": theta_p3_o,\n",
    "                   \"theta_p2\": theta_p2_o,\n",
    "                   \"theta_p1\": theta_p1_o,\n",
    "                   \"theta\": theta_o\n",
    "                  }\n",
    "    return result_dict\n"
   ]
  },
  {
   "cell_type": "code",
   "execution_count": 94,
   "metadata": {},
   "outputs": [],
   "source": [
    "#using example from lecture\n",
    "\n",
    "import matplotlib.pyplot as plt\n",
    "\n",
    "#params\n",
    "a = 1\n",
    "b = 0.5\n",
    "am = 2\n",
    "bm = 2\n",
    "\n",
    "maxt = 300\n",
    "ts = 0.1\n",
    "n_steps = int(maxt/ts)\n",
    "\n",
    "def u_signal(t):\n",
    "    function_val = np.sin(np.pi*t/15)\n",
    "    if function_val >= 0:\n",
    "        result = 1\n",
    "    else:\n",
    "        result = -1\n",
    "    return result\n",
    "\n",
    "uc = []\n",
    "for i in range(int(maxt/ts)+1):\n",
    "  uc.append(u_signal(i*ts))\n",
    "\n",
    "\n",
    "gamma = 1\n",
    "\n",
    "theta1_actual = bm/b\n",
    "theta2_actual = (am-a)/b\n",
    "\n",
    "theta1_actuals = n_steps*[theta1_actual]\n",
    "theta2_actuals = n_steps*[theta2_actual]\n",
    "\n",
    "\n",
    "theta1 = [0.1]\n",
    "theta2 = [0.1]\n",
    "theta1_p1 = [0]\n",
    "theta2_p1 = [0]\n",
    "theta1_p2 = [0]\n",
    "theta2_p2 = [0]\n",
    "\n",
    "y = [0]\n",
    "ym = [0]\n",
    "y_p1 = [0]\n",
    "ym_p1 = [0]\n",
    "y_p2 = [0]\n",
    "ym_p2 = [0]\n",
    "\n",
    "u = []\n",
    "\n",
    "i = 0\n",
    "tc= []\n",
    "\n",
    "def MRAS_Control(theta1_i, theta1_p1_i, theta1_p2_i,\n",
    "                 theta2_i, theta2_p1_i, theta2_p2_i,\n",
    "                u_i, uc_i, y_i, y_p1_i,\n",
    "                ym_i, ym_p1_i):\n",
    "    u_o = theta1_i*uc_i - theta2_i*y_i\n",
    "    \n",
    "    #y\n",
    "    y_p1_o = -a*y_i + b*u_i\n",
    "    y_o = y_i + ts*y_p1_o\n",
    "    \n",
    "    #ym\n",
    "    ym_p1_o = -am*ym_i + bm*uc_i\n",
    "    ym_o = ym_i + ts*ym_p1_o\n",
    "    \n",
    "    #error\n",
    "    error = y_o - ym_o\n",
    "    \n",
    "    #theta1\n",
    "    theta1_p2_o = -am*theta1_p1_i - gamma*am*uc_i*error\n",
    "    theta1_p1_o = theta1_p1_i + ts*theta1_p2_o\n",
    "    theta1_o = theta1_i + ts*theta1_p1_o\n",
    "    \n",
    "    #theta2\n",
    "    theta2_p2_o = -am*theta2_p1_i + gamma*am*y_o*error\n",
    "    theta2_p1_o = theta2_p1_i + ts*theta2_p2_o\n",
    "    theta2_o = theta2_i + ts*theta2_p1_o\n",
    "    \n",
    "    \n",
    "    result_dict = {\"ym_p1\": ym_p1_o,\n",
    "                   \"ym\": ym_o,\n",
    "                   \"y_p1\": y_p1_o,\n",
    "                   \"y\": y_o,\n",
    "                   \"y_p1\": y_p1_o,\n",
    "                   \"theta1_p2\": theta1_p2_o,\n",
    "                   \"theta1_p1\": theta1_p1_o,\n",
    "                   \"theta1\": theta1_o,\n",
    "                   \"theta2_p2\": theta2_p2_o,\n",
    "                   \"theta2_p1\": theta2_p1_o,\n",
    "                   \"theta2\": theta2_o,\n",
    "                   \"u\":u_o,\n",
    "                  }\n",
    "    return result_dict\n",
    "\n",
    "theta1_i = 0.1\n",
    "theta1_p1_i = 0\n",
    "theta1_p2_i = 0\n",
    "        \n",
    "theta2_i  = 0.1\n",
    "theta2_p1_i = 0\n",
    "theta2_p2_i = 0\n",
    "u_i = 0\n",
    "uc_i = uc[0]\n",
    "y_i = 0\n",
    "y_p1_i = 0\n",
    "ym_i = 0\n",
    "ym_p1_i = 0\n",
    "\n",
    "y_list = []\n",
    "ym_list = []\n",
    "u_list = []\n",
    "tc= []\n",
    "for k in range(n_steps):\n",
    "    MRAS_values = MRAS_Control(theta1_i, theta1_p1_i, theta1_p2_i,\n",
    "                 theta2_i, theta2_p1_i, theta2_p2_i,\n",
    "                u_i, uc_i, y_i, y_p1_i,\n",
    "                ym_i, ym_p1_i)\n",
    "    \n",
    "    theta1_i = MRAS_values[\"theta1\"]\n",
    "    theta1_p1_i = MRAS_values[\"theta1_p1\"]\n",
    "    theta1_p2_i = MRAS_values[\"theta1_p2\"]\n",
    "        \n",
    "    theta2_i  = MRAS_values[\"theta2\"]\n",
    "    theta2_p1_i = MRAS_values[\"theta2_p1\"]\n",
    "    theta2_p2_i = MRAS_values[\"theta2_p2\"]\n",
    "    u_i = MRAS_values[\"u\"]\n",
    "    uc_i = uc[k]\n",
    "    y_i = MRAS_values[\"y\"]\n",
    "    y_p1_i = MRAS_values[\"y_p1\"]\n",
    "    ym_i = MRAS_values[\"ym\"]\n",
    "    ym_p1_i = MRAS_values[\"ym_p1\"]\n",
    "    \n",
    "    y_list.append(y_i)\n",
    "    u_list.append(u_i)\n",
    "    ym_list.append(ym_i)\n",
    "    \n",
    "    tc.append(i)\n",
    "    i = i+1\n",
    "    \n",
    "start_idx = 0\n",
    "end_idx = int(maxt/ts)"
   ]
  },
  {
   "cell_type": "code",
   "execution_count": null,
   "metadata": {},
   "outputs": [],
   "source": []
  },
  {
   "cell_type": "code",
   "execution_count": 96,
   "metadata": {},
   "outputs": [
    {
     "data": {
      "text/plain": [
       "<matplotlib.legend.Legend at 0x24aa4e02520>"
      ]
     },
     "execution_count": 96,
     "metadata": {},
     "output_type": "execute_result"
    },
    {
     "data": {
      "image/png": "[encoded data removed]",
      "text/plain": [
       "<Figure size 432x288 with 1 Axes>"
      ]
     },
     "metadata": {
      "needs_background": "light"
     },
     "output_type": "display_data"
    }
   ],
   "source": [
    "#plt.step(tc[start_idx:end_idx], u_list[start_idx:end_idx], label = \"input signal\")\n",
    "plt.plot(tc[start_idx:end_idx], y_list[start_idx:end_idx], label = \"y\")\n",
    "plt.plot(tc[start_idx:end_idx], ym_list[start_idx:end_idx], label = \"ym\")\n",
    "\n",
    "plt.xlabel(\"timestep\")\n",
    "plt.ylabel(\"parameter\")\n",
    "plt.legend()"
   ]
  },
  {
   "cell_type": "code",
   "execution_count": null,
   "metadata": {},
   "outputs": [],
   "source": []
  }
 ],
 "metadata": {
  "kernelspec": {
   "display_name": "Python 3",
   "language": "python",
   "name": "python3"
  },
  "language_info": {
   "codemirror_mode": {
    "name": "ipython",
    "version": 3
   },
   "file_extension": ".py",
   "mimetype": "text/x-python",
   "name": "python",
   "nbconvert_exporter": "python",
   "pygments_lexer": "ipython3",
   "version": "3.8.3"
  }
 },
 "nbformat": 4,
 "nbformat_minor": 4
}
