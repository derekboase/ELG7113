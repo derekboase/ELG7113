{
 "cells": [
  {
   "cell_type": "code",
   "execution_count": 1,
   "metadata": {},
   "outputs": [],
   "source": [
    "import sympy as sp\n",
    "import numpy as np\n",
    "import matplotlib.pyplot as plt\n",
    "\n",
    "g, m , rho, Vb, veq = sp.symbols('g m rho V_b V_eq')\n",
    "\n",
    "v, vc, y, ym, th, th1, th2, B, p, a, b, e, gamma = sp.symbols('v v_c y y_m theta theta_1 theta_2 B p a b e gamma')\n",
    "u, uc, zeta, omega = sp.symbols('u u_c zeta omega')"
   ]
  },
  {
   "cell_type": "code",
   "execution_count": 16,
   "metadata": {},
   "outputs": [],
   "source": [
    "y_u = B*u/(p**2+p*B)\n",
    "ym_uc = (omega**2)*uc/(p**2+2*zeta*omega*p+omega**2)\n",
    "\n",
    "u_u = th1*(y-uc)-th2*p*y\n",
    "\n",
    "y_uc = -B*th1*uc/(p**2+p*(B+B*th2)-B*th1)\n",
    "error = y_uc - ym_uc\n",
    "\n",
    "uc_y = (p**2+p*(B+B*th2)-B*th1)*y/(-B*th1)\n",
    "uc_ym = (p**2+2*zeta*omega*p+omega**2)*ym/(omega**2)\n"
   ]
  },
  {
   "cell_type": "code",
   "execution_count": 30,
   "metadata": {},
   "outputs": [
    {
     "data": {
      "text/latex": [
       "$\\displaystyle - \\frac{B p u_{c} \\left(B \\left(\\theta_{2} + 1\\right) + p\\right)}{\\left(B p \\left(\\theta_{2} + 1\\right) - B \\theta_{1} + p^{2}\\right)^{2}}$"
      ],
      "text/plain": [
       "-B*p*u_c*(B*(theta_2 + 1) + p)/(B*p*(theta_2 + 1) - B*theta_1 + p**2)**2"
      ]
     },
     "execution_count": 30,
     "metadata": {},
     "output_type": "execute_result"
    }
   ],
   "source": [
    "de_th1 = sp.diff(error,th1).simplify()\n",
    "de_th1"
   ]
  },
  {
   "cell_type": "code",
   "execution_count": 21,
   "metadata": {},
   "outputs": [
    {
     "data": {
      "text/latex": [
       "$\\displaystyle \\frac{B^{2} p \\theta_{1} u_{c}}{\\left(B p \\left(\\theta_{2} + 1\\right) - B \\theta_{1} + p^{2}\\right)^{2}}$"
      ],
      "text/plain": [
       "B**2*p*theta_1*u_c/(B*p*(theta_2 + 1) - B*theta_1 + p**2)**2"
      ]
     },
     "execution_count": 21,
     "metadata": {},
     "output_type": "execute_result"
    }
   ],
   "source": [
    "de_th2 = sp.diff(error,th2).simplify()\n",
    "de_th2"
   ]
  },
  {
   "cell_type": "code",
   "execution_count": 25,
   "metadata": {},
   "outputs": [
    {
     "data": {
      "text/latex": [
       "$\\displaystyle \\frac{p y \\left(B \\left(\\theta_{2} + 1\\right) + p\\right)}{\\theta_{1} \\left(B p \\left(\\theta_{2} + 1\\right) - B \\theta_{1} + p^{2}\\right)}$"
      ],
      "text/plain": [
       "p*y*(B*(theta_2 + 1) + p)/(theta_1*(B*p*(theta_2 + 1) - B*theta_1 + p**2))"
      ]
     },
     "execution_count": 25,
     "metadata": {},
     "output_type": "execute_result"
    }
   ],
   "source": [
    "de_th1.subs(uc, uc_y).simplify()"
   ]
  },
  {
   "cell_type": "code",
   "execution_count": 27,
   "metadata": {},
   "outputs": [
    {
     "data": {
      "text/latex": [
       "$\\displaystyle - \\frac{B p y}{B p \\left(\\theta_{2} + 1\\right) - B \\theta_{1} + p^{2}}$"
      ],
      "text/plain": [
       "-B*p*y/(B*p*(theta_2 + 1) - B*theta_1 + p**2)"
      ]
     },
     "execution_count": 27,
     "metadata": {},
     "output_type": "execute_result"
    }
   ],
   "source": [
    "de_th2.subs(uc, uc_y).simplify()"
   ]
  },
  {
   "cell_type": "code",
   "execution_count": 28,
   "metadata": {},
   "outputs": [
    {
     "data": {
      "text/latex": [
       "$\\displaystyle - \\frac{B \\theta_{1} u_{c}}{- B \\theta_{1} + p^{2} + p \\left(B \\theta_{2} + B\\right)} - \\frac{\\omega^{2} u_{c}}{\\omega^{2} + 2 \\omega p \\zeta + p^{2}}$"
      ],
      "text/plain": [
       "-B*theta_1*u_c/(-B*theta_1 + p**2 + p*(B*theta_2 + B)) - omega**2*u_c/(omega**2 + 2*omega*p*zeta + p**2)"
      ]
     },
     "execution_count": 28,
     "metadata": {},
     "output_type": "execute_result"
    }
   ],
   "source": [
    "error"
   ]
  },
  {
   "cell_type": "code",
   "execution_count": 433,
   "metadata": {},
   "outputs": [
    {
     "data": {
      "text/plain": [
       "23.75778135351762"
      ]
     },
     "execution_count": 433,
     "metadata": {},
     "output_type": "execute_result"
    }
   ],
   "source": [
    "B"
   ]
  },
  {
   "cell_type": "code",
   "execution_count": 43,
   "metadata": {},
   "outputs": [],
   "source": [
    "#constants \n",
    "ZETA = 1\n",
    "OMEGA = 0.7071\n",
    "\n",
    "#\n",
    "radius = 38/1000\n",
    "g = 9.8\n",
    "m = 4/7000\n",
    "rho = 1.225\n",
    "Vb = (4/3)*np.pi*(radius**3)\n",
    "v_eq=2.8\n",
    "B = 2*g*(m-rho*Vb)/(m*v_eq)\n",
    "#B=2\n",
    "\n",
    "#adaptation law\n",
    "GAMMA = 0.2\n",
    "alpha = 0.2\n",
    "#simulation params\n",
    "ts = 0.075\n",
    "maxt = 250\n",
    "n_steps = int(maxt/ts)\n",
    "\n",
    "def system_model(uc_i, ym_p1_i, ym_i):\n",
    "    ym_p2_o = (OMEGA**2)*uc_i - 2*ZETA*OMEGA*ym_p1_i - (OMEGA**2)*ym_i\n",
    "    ym_p1_o = ym_p1_i + ts*ym_p2_o\n",
    "    ym_o = ym_i + ts*ym_p1_o\n",
    "    \n",
    "    system_model_dict = {\"ym_p2\":ym_p2_o,\n",
    "                          \"ym_p1\":ym_p1_o,\n",
    "                          \"ym\":ym_o}\n",
    "    return system_model_dict\n",
    "\n",
    "def system_sim(y_p1_i,y_i,u_i):\n",
    "    y_p2_o = B*u_i - B*y_p1_i\n",
    "    \n",
    "    y_p1_o = y_p1_i + ts*y_p2_o\n",
    "    \n",
    "    y_o = y_i + ts*y_p1_o\n",
    "    \n",
    "    system_dict = {\"y_p2\":y_p2_o,\n",
    "                \"y_p1\": y_p1_o,\n",
    "                  \"y\": y_o}\n",
    "    \n",
    "    return system_dict\n",
    "def controller(y_i, uc_i, y_p1_i, th1, th2):\n",
    "    control_signal = th1*(y_i - uc_i) - th2*y_p1_i\n",
    "    return control_signal\n",
    "\n",
    "def Adaptation_Law_Model(y_i, ym_i, ym_p1_i, ym_p2_i,\n",
    "                        theta1_p2_i, theta1_p1_i, theta1_i,\n",
    "                        theta2_p2_i, theta2_p1_i, theta2_i):\n",
    "    \n",
    "    error = y_i - ym_i\n",
    "    \n",
    "    theta1_p3_o = (GAMMA*error*B/OMEGA**2)*(2*ZETA*OMEGA*ym_p1_i+ym_p2_i) - 2*ZETA*OMEGA*theta1_p2_i - (OMEGA**2)*theta1_p1_i\n",
    "    theta1_p2_o = theta1_p2_i + ts*theta1_p3_o\n",
    "    theta1_p1_o = theta1_p1_i + ts*theta1_p2_o\n",
    "    theta1_o = theta1_i + ts*theta1_p1_o\n",
    "    \n",
    "    theta2_p3_o = GAMMA*error*B*ym_p1_i - 2*ZETA*OMEGA*theta2_p2_i - (OMEGA**2)*theta2_p1_i\n",
    "    theta2_p2_o = theta2_p2_i + ts*theta2_p3_o\n",
    "    theta2_p1_o = theta2_p1_i + ts*theta2_p2_o\n",
    "    theta2_o = theta2_i + ts*theta2_p1_o\n",
    "    \n",
    "    result_dict = {\n",
    "                   \"theta1_p2\": theta1_p2_o,\n",
    "                   \"theta1_p1\": theta1_p1_o,\n",
    "                   \"theta1\": theta1_o,\n",
    "                   \"theta2_p2\": theta2_p2_o,\n",
    "                   \"theta2_p1\": theta2_p1_o,\n",
    "                   \"theta2\": theta2_o\n",
    "                  }\n",
    "    return result_dict\n",
    "\n",
    "def Adaptation_Law_Normalized(y_i, ym_i, ym_p1_i, ym_p2_i,\n",
    "                        theta1_p2_i, theta1_p1_i, theta1_i,\n",
    "                        theta2_p2_i, theta2_p1_i, theta2_i,\n",
    "                        theta1_p1_n ,theta1_n_i,\n",
    "                        theta2_p1_n, theta2_n_i):\n",
    "    \n",
    "    error_val = y_i - ym_i\n",
    "    \n",
    "    if error_val !=0:\n",
    "        error = error_val\n",
    "    else:\n",
    "        error = 1/(10**100)\n",
    "\n",
    "    theta1_p3_o = (GAMMA*error/OMEGA**2)*(2*ZETA*OMEGA*ym_p1_i+ym_p2_i) - 2*ZETA*OMEGA*theta1_p2_i - (OMEGA**2)*theta1_p1_i\n",
    "    theta1_p2_o = theta1_p2_i + ts*theta1_p3_o\n",
    "    theta1_p1_o = theta1_p1_i + ts*theta1_p2_o\n",
    "    theta1_o = theta1_i + ts*theta1_p1_o\n",
    "\n",
    "    theta1_p1_n = theta1_p1_o/(alpha+(theta1_p1_o/(GAMMA*error))**2)\n",
    "    theta1_n = theta1_n_i + ts*theta1_p1_n\n",
    "\n",
    "    theta2_p3_o = GAMMA*error*ym_p1_i - 2*ZETA*OMEGA*theta2_p2_i - (OMEGA**2)*theta2_p1_i\n",
    "    theta2_p2_o = theta2_p2_i + ts*theta2_p3_o\n",
    "    theta2_p1_o = theta2_p1_i + ts*theta2_p2_o\n",
    "    theta2_o = theta2_n_i + ts*theta2_p1_o\n",
    "\n",
    "    theta2_p1_n = theta2_p1_o/(alpha+(theta2_p1_o/(GAMMA*error))**2)\n",
    "    theta2_n = theta2_n_i + ts*theta2_p1_n\n",
    "\n",
    "    result_dict = {\n",
    "                   \"theta1_p2\": theta1_p2_o,\n",
    "                   \"theta1_p1\": theta1_p1_o,\n",
    "                   \"theta1\": theta1_o,\n",
    "                   \"theta1n_p1\":theta1_p1_n,\n",
    "                   \"theta1_n\":theta1_n,\n",
    "                   \"theta2_p2\": theta2_p2_o,\n",
    "                   \"theta2_p1\": theta2_p1_o,\n",
    "                   \"theta2\": theta2_o,\n",
    "                   \"theta2n_p1\":theta1_p1_n,\n",
    "                   \"theta2_n\":theta2_n,\n",
    "                  }\n",
    "    return result_dict"
   ]
  },
  {
   "cell_type": "code",
   "execution_count": null,
   "metadata": {},
   "outputs": [],
   "source": []
  },
  {
   "cell_type": "code",
   "execution_count": 47,
   "metadata": {},
   "outputs": [
    {
     "name": "stdout",
     "output_type": "stream",
     "text": [
      "regular MIT rule simulation complete\n"
     ]
    }
   ],
   "source": [
    "i = 0\n",
    "\n",
    "\n",
    "#initial state of system\n",
    "y_p1_i = 0\n",
    "y_i = 0\n",
    "u_i = 0\n",
    "\n",
    "#initial state of model\n",
    "ym_p1_i = 0\n",
    "ym_i = 0\n",
    "\n",
    "theta1_p2_i, theta1_p1_i, theta2_p2_i, theta2_p1_i = 0,0,0,0\n",
    "theta1_p1_n, theta2_p1_n = 0,0\n",
    "theta1_i = -(OMEGA**2)/B\n",
    "theta2_i = (2*ZETA*OMEGA)/(1+B)\n",
    "theta1_n_i = theta1_i/(alpha + theta1_i**2)\n",
    "theta2_n_i = theta2_i/(alpha + theta2_i**2)\n",
    "\n",
    "#theta1_i = 0.1\n",
    "#theta2_i = 0.1\n",
    "\n",
    "\n",
    "y_list = []\n",
    "ym_list = []\n",
    "u_list = []\n",
    "tc= []\n",
    "error_list = []\n",
    "\n",
    "def u_signal(t):\n",
    "    function_val = np.sin(np.pi*t/30)\n",
    "    if function_val >= 0:\n",
    "        result = 0.4\n",
    "    else:\n",
    "        result = 0.1\n",
    "    return result\n",
    "uc = []\n",
    "for i in range(int(maxt/ts)+1):\n",
    "    uc.append(u_signal(i*ts))\n",
    "\n",
    "theta1_list = []\n",
    "theta2_list = []\n",
    "\n",
    "i=0\n",
    "for k in range(n_steps):\n",
    "    #system\n",
    "    system_results = system_sim(y_p1_i,y_i,u_i)\n",
    "    y_i = system_results[\"y\"]\n",
    "    y_p1_i = system_results[\"y_p1\"]\n",
    "    \n",
    "    #model\n",
    "    model_results = system_model(uc_i, ym_p1_i, ym_i)\n",
    "    ym_p2_i = model_results[\"ym_p2\"]\n",
    "    ym_p1_i = model_results[\"ym_p1\"]\n",
    "    ym_i = model_results[\"ym\"]\n",
    "\n",
    "    adapt_val = Adaptation_Law_Model(y_i, ym_i, ym_p1_i, ym_p2_i,\n",
    "                        theta1_p2_i, theta1_p1_i, theta1_i,\n",
    "                        theta2_p2_i, theta2_p1_i, theta2_i)\n",
    "\n",
    "    theta1_p2_i, theta1_p1_i, theta1_i = adapt_val[\"theta1_p2\"], adapt_val[\"theta1_p1\"], adapt_val[\"theta1\"]\n",
    "    theta2_p2_i, theta2_p1_i, theta2_i = adapt_val[\"theta2_p2\"], adapt_val[\"theta2_p1\"], adapt_val[\"theta2\"]\n",
    "    \n",
    "    \n",
    "    u_i =  controller(y_i, uc_i, y_p1_i, theta1_i, theta2_i)\n",
    "    #uc_i = uc[i]\n",
    "    uc_i = 7\n",
    "    theta1_list.append(theta1_i)\n",
    "    theta2_list.append(theta2_i)\n",
    "\n",
    "    y_list.append(y_i)\n",
    "    u_list.append(u_i)\n",
    "    ym_list.append(ym_i)\n",
    "    error_list.append(y_i-ym_i)\n",
    "    \n",
    "    tc.append(i)\n",
    "    i = i+1\n",
    " \n",
    "print(\"regular MIT rule simulation complete\")\n"
   ]
  },
  {
   "cell_type": "code",
   "execution_count": null,
   "metadata": {},
   "outputs": [],
   "source": []
  },
  {
   "cell_type": "code",
   "execution_count": 49,
   "metadata": {},
   "outputs": [
    {
     "name": "stdout",
     "output_type": "stream",
     "text": [
      "normalized MIT Rule Simulation Complete\n"
     ]
    }
   ],
   "source": [
    "i = 0\n",
    "\n",
    "#system input\n",
    "uc_i = 1\n",
    "\n",
    "#initial state of system\n",
    "y_p1_i = 0\n",
    "y_i = 0\n",
    "u_i = 0\n",
    "\n",
    "#initial state of model\n",
    "ym_p1_i = 0\n",
    "ym_i = 0\n",
    "\n",
    "theta1_p2_i, theta1_p1_i, theta2_p2_i, theta2_p1_i = 0,0,0,0\n",
    "theta1_p1_n, theta2_p1_n = 0,0\n",
    "theta1_i = -(OMEGA**2)/B\n",
    "theta2_i = (2*ZETA*OMEGA-B)/(B)\n",
    "theta1_n_i = theta1_i/(alpha + theta1_i**2)\n",
    "theta2_n_i = theta2_i/(alpha + theta2_i**2)\n",
    "\n",
    "#theta1_i = 0.1\n",
    "#theta2_i = 0.1\n",
    "\n",
    "\n",
    "y_list = []\n",
    "ym_list = []\n",
    "u_list = []\n",
    "tc= []\n",
    "error_list = []\n",
    "\n",
    "def u_signal(t):\n",
    "    function_val = np.sin(np.pi*t/30)\n",
    "    if function_val >= 0:\n",
    "        result = 0.4\n",
    "    else:\n",
    "        result = 0.1\n",
    "    return result\n",
    "uc = []\n",
    "for i in range(int(maxt/ts)+1):\n",
    "    uc.append(u_signal(i*ts))\n",
    "\n",
    "theta1_list = []\n",
    "theta2_list = []\n",
    "\n",
    "i=0\n",
    "for k in range(n_steps):\n",
    "    #system\n",
    "    system_results = system_sim(y_p1_i,y_i,u_i)\n",
    "    y_i = system_results[\"y\"]\n",
    "    y_p1_i = system_results[\"y_p1\"]\n",
    "    \n",
    "    #model\n",
    "    model_results = system_model(uc_i, ym_p1_i, ym_i)\n",
    "    ym_p2_i = model_results[\"ym_p2\"]\n",
    "    ym_p1_i = model_results[\"ym_p1\"]\n",
    "    ym_i = model_results[\"ym\"]\n",
    "\n",
    "    adapt_val = Adaptation_Law_Normalized(y_i, ym_i, ym_p1_i, ym_p2_i,\n",
    "                                     theta1_p2_i, theta1_p1_i, theta1_i,\n",
    "                                     theta2_p2_i, theta2_p1_i, theta2_i,\n",
    "                                     theta1_p1_n, theta1_n_i,\n",
    "                                     theta2_p1_n, theta2_n_i)\n",
    "\n",
    "    theta1_p2_i, theta1_p1_i, theta1_i = adapt_val[\"theta1_p2\"], adapt_val[\"theta1_p1\"], adapt_val[\"theta1\"]\n",
    "    theta2_p2_i, theta2_p1_i, theta2_i = adapt_val[\"theta2_p2\"], adapt_val[\"theta2_p1\"], adapt_val[\"theta2\"]\n",
    "    theta1_p1_n, theta1_n_i = adapt_val[\"theta1n_p1\"], adapt_val[\"theta1_n\"]\n",
    "    theta2_p1_n, theta2_n_i = adapt_val[\"theta2n_p1\"], adapt_val[\"theta2_n\"]\n",
    "    \n",
    "    u_i =  controller(y_i, uc_i, y_p1_i, theta1_n_i, theta2_n_i)\n",
    "    #c_i = uc[i]\n",
    "    uc_i = 7\n",
    "    theta1_list.append(theta1_n_i)\n",
    "    theta2_list.append(theta2_n_i)\n",
    "\n",
    "    y_list.append(y_i)\n",
    "    u_list.append(u_i)\n",
    "    ym_list.append(ym_i)\n",
    "    error_list.append(y_i-ym_i)\n",
    "    \n",
    "    tc.append(i)\n",
    "    i = i+1\n",
    "print(\"normalized MIT Rule Simulation Complete\")\n"
   ]
  },
  {
   "cell_type": "code",
   "execution_count": null,
   "metadata": {},
   "outputs": [],
   "source": []
  },
  {
   "cell_type": "code",
   "execution_count": 50,
   "metadata": {},
   "outputs": [
    {
     "data": {
      "text/plain": [
       "<matplotlib.legend.Legend at 0x231fc89b4c0>"
      ]
     },
     "execution_count": 50,
     "metadata": {},
     "output_type": "execute_result"
    },
    {
     "data": {
      "image/png": "[encoded data removed]",
      "text/plain": [
       "<Figure size 432x288 with 1 Axes>"
      ]
     },
     "metadata": {
      "needs_background": "light"
     },
     "output_type": "display_data"
    }
   ],
   "source": [
    "start_idx = 0\n",
    "end_idx = int(maxt/ts)\n",
    "plt.plot(tc[start_idx:end_idx], y_list[start_idx:end_idx], label = \"y\")\n",
    "plt.plot(tc[start_idx:end_idx], ym_list[start_idx:end_idx], label = \"ym\")\n",
    "#plt.plot(tc[start_idx:end_idx], uc[start_idx:end_idx], label = \"uc\")\n",
    "plt.xlabel(\"timestep\")\n",
    "plt.ylabel(\"parameter\")\n",
    "plt.legend()"
   ]
  },
  {
   "cell_type": "code",
   "execution_count": 33,
   "metadata": {},
   "outputs": [
    {
     "data": {
      "text/plain": [
       "<matplotlib.legend.Legend at 0x231fc482df0>"
      ]
     },
     "execution_count": 33,
     "metadata": {},
     "output_type": "execute_result"
    },
    {
     "data": {
      "image/png": "[encoded data removed]",
      "text/plain": [
       "<Figure size 432x288 with 1 Axes>"
      ]
     },
     "metadata": {
      "needs_background": "light"
     },
     "output_type": "display_data"
    }
   ],
   "source": [
    "start_idx = 0\n",
    "end_idx = int(maxt/ts)\n",
    "#plt.plot(tc[start_idx:end_idx], u_list[start_idx:end_idx], label = \"u\")\n",
    "#plt.plot(tc[start_idx:end_idx], ym_list[start_idx:end_idx], label = \"ym\")\n",
    "plt.plot(tc[start_idx:end_idx], error_list[start_idx:end_idx], label = \"y - ym\")\n",
    "plt.xlabel(\"timestep\")\n",
    "plt.ylabel(\"parameter\")\n",
    "plt.legend()"
   ]
  },
  {
   "cell_type": "code",
   "execution_count": 51,
   "metadata": {},
   "outputs": [
    {
     "data": {
      "text/plain": [
       "<matplotlib.legend.Legend at 0x231fc901a30>"
      ]
     },
     "execution_count": 51,
     "metadata": {},
     "output_type": "execute_result"
    },
    {
     "data": {
      "image/png": "[encoded data removed]",
      "text/plain": [
       "<Figure size 432x288 with 1 Axes>"
      ]
     },
     "metadata": {
      "needs_background": "light"
     },
     "output_type": "display_data"
    }
   ],
   "source": [
    "start_idx = 0\n",
    "end_idx = int(maxt/ts)\n",
    "plt.plot(tc[start_idx:end_idx], theta1_list[start_idx:end_idx], label = \"theta1\")\n",
    "plt.plot(tc[start_idx:end_idx], theta2_list[start_idx:end_idx], label = \"theta2\")\n",
    "#plt.plot(tc[start_idx:end_idx], error_list[start_idx:end_idx], label = \"y - ym\")\n",
    "plt.xlabel(\"timestep\")\n",
    "plt.ylabel(\"parameter\")\n",
    "plt.legend()"
   ]
  },
  {
   "cell_type": "code",
   "execution_count": null,
   "metadata": {},
   "outputs": [],
   "source": []
  },
  {
   "cell_type": "code",
   "execution_count": 133,
   "metadata": {},
   "outputs": [],
   "source": [
    "def MRAS_system_sim(y_i,u_i):\n",
    "    y_p1_o = -a*y_i + b*u_i\n",
    "    y_o = y_i + ts*y_p1_o\n",
    "    \n",
    "    system_dict = {\"y_p1\": y_p1_o,\n",
    "                  \"y\": y_o}\n",
    "    \n",
    "    return system_dict\n",
    "\n",
    "def controller(theta1_i, uc_i, theta2_i, y_i):\n",
    "    u_o = theta1_i*uc_i - theta2_i*y_i\n",
    "    return u_o\n",
    "\n",
    "def system_model(ym_i, uc_i):\n",
    "    ym_p1_o = -am*ym_i + bm*uc_i\n",
    "    ym_o = ym_i + ts*ym_p1_o\n",
    "    result_dict = {\"ym_p1\":ym_p1_o,\n",
    "                   \"ym\":ym_o}\n",
    "    return result_dict\n",
    "    \n",
    "\n",
    "def Adaptation_Law(theta1_i, theta1_p1_i,\n",
    "                 theta2_i, theta2_p1_i,\n",
    "                 uc_i, y_i, ym_i):\n",
    "    \n",
    "    #error\n",
    "    error = y_i - ym_i\n",
    "    \n",
    "    #theta1\n",
    "    theta1_p2_o = -am*theta1_p1_i - gamma*am*uc_i*error\n",
    "    theta1_p1_o = theta1_p1_i + ts*theta1_p2_o\n",
    "    theta1_o = theta1_i + ts*theta1_p1_o\n",
    "    \n",
    "    #theta2\n",
    "    theta2_p2_o = -am*theta2_p1_i + gamma*am*y_i*error\n",
    "    theta2_p1_o = theta2_p1_i + ts*theta2_p2_o\n",
    "    theta2_o = theta2_i + ts*theta2_p1_o\n",
    "    \n",
    "    result_dict = {\n",
    "               \"theta1_p1\": theta1_p1_o,\n",
    "               \"theta1\": theta1_o,\n",
    "               \n",
    "               \"theta2_p1\": theta2_p1_o,\n",
    "               \"theta2\": theta2_o, \n",
    "              }\n",
    "    return result_dict\n",
    "\n",
    "#params\n",
    "#from MRAS example\n",
    "a = 1\n",
    "b = 0.5\n",
    "am = 2\n",
    "bm = 2\n",
    "\n",
    "maxt = 200\n",
    "ts = 0.1\n",
    "n_steps = int(maxt/ts)\n",
    "\n",
    "def u_signal(t):\n",
    "    function_val = np.sin(np.pi*t/30)\n",
    "    if function_val >= 0:\n",
    "        result = 1\n",
    "    else:\n",
    "        result = -1\n",
    "    return result\n",
    "\n",
    "uc = []\n",
    "for i in range(int(maxt/ts)+1):\n",
    "  uc.append(u_signal(i*ts))\n",
    "\n",
    "\n",
    "gamma = 1\n",
    "\n",
    "theta1_actual = bm/b\n",
    "theta2_actual = (am-a)/b\n",
    "\n",
    "theta1_actuals = n_steps*[theta1_actual]\n",
    "theta2_actuals = n_steps*[theta2_actual]\n",
    "\n",
    "\n",
    "theta1 = [0.1]\n",
    "theta2 = [0.1]\n",
    "theta1_p1 = [0]\n",
    "theta2_p1 = [0]\n",
    "theta1_p2 = [0]\n",
    "theta2_p2 = [0]\n",
    "\n",
    "y = [0]\n",
    "ym = [0]\n",
    "y_p1 = [0]\n",
    "ym_p1 = [0]\n",
    "y_p2 = [0]\n",
    "ym_p2 = [0]\n",
    "\n",
    "u = []\n",
    "\n",
    "i = 0\n",
    "tc = []\n",
    "\n",
    "theta1_i = 0.1\n",
    "theta1_p1_i = 0\n",
    "theta1_p2_i = 0\n",
    "        \n",
    "theta2_i  = 0.1\n",
    "theta2_p1_i = 0\n",
    "theta2_p2_i = 0\n",
    "u_i = 0\n",
    "uc_i = uc[0]\n",
    "y_i = 0\n",
    "y_p1_i = 0\n",
    "ym_i = 0\n",
    "ym_p1_i = 0\n",
    "\n",
    "y_list = []\n",
    "ym_list = []\n",
    "u_list = []\n",
    "tc= []\n",
    "error_list = []"
   ]
  },
  {
   "cell_type": "code",
   "execution_count": 134,
   "metadata": {},
   "outputs": [],
   "source": [
    "for k in range(n_steps):\n",
    "    \n",
    "    #system output\n",
    "    system_values = MRAS_system_sim(y_i,u_i)\n",
    "    y_i, y_p1_i = system_values[\"y\"], system_values[\"y_p1\"]\n",
    "    \n",
    "    model_values = system_model(ym_i, uc_i)\n",
    "    ym_i = model_values[\"ym\"]\n",
    "    \n",
    "    #controller \n",
    "    u_i = controller(theta1_i, uc_i, theta2_i, y_i)\n",
    "    \n",
    "    #adaptation\n",
    "    MRAS_values = Adaptation_Law(theta1_i, theta1_p1_i,\n",
    "                 theta2_i, theta2_p1_i,\n",
    "                 uc_i, y_i, ym_i)\n",
    "    \n",
    "    theta1_i, theta1_p1_i  = MRAS_values[\"theta1\"], MRAS_values[\"theta1_p1\"]\n",
    "    theta2_i,theta2_p1_i  = MRAS_values[\"theta2\"], MRAS_values[\"theta2_p1\"]\n",
    "    \n",
    "    #control input, \n",
    "    uc_i = uc[k]\n",
    "    \n",
    "    y_list.append(y_i)\n",
    "    u_list.append(u_i)\n",
    "    ym_list.append(ym_i)\n",
    "    error_list.append(y_i-ym_i)\n",
    "    \n",
    "    tc.append(i)\n",
    "    i = i+1"
   ]
  },
  {
   "cell_type": "code",
   "execution_count": 135,
   "metadata": {},
   "outputs": [
    {
     "data": {
      "text/plain": [
       "<matplotlib.legend.Legend at 0x2450370ff70>"
      ]
     },
     "execution_count": 135,
     "metadata": {},
     "output_type": "execute_result"
    },
    {
     "data": {
      "image/png": "[encoded data removed]",
      "text/plain": [
       "<Figure size 432x288 with 1 Axes>"
      ]
     },
     "metadata": {
      "needs_background": "light"
     },
     "output_type": "display_data"
    }
   ],
   "source": [
    "start_idx = 0\n",
    "end_idx = int(maxt/ts)\n",
    "plt.plot(tc[start_idx:end_idx], y_list[start_idx:end_idx], label = \"y\")\n",
    "plt.plot(tc[start_idx:end_idx], ym_list[start_idx:end_idx], label = \"ym\")\n",
    "#plt.plot(tc[start_idx:end_idx], error_list[start_idx:end_idx], label = \"y - ym\")\n",
    "plt.xlabel(\"timestep\")\n",
    "plt.ylabel(\"parameter\")\n",
    "plt.legend()"
   ]
  },
  {
   "cell_type": "code",
   "execution_count": 33,
   "metadata": {},
   "outputs": [],
   "source": [
    "import csv\n",
    "OUTPUT_DATA_PATH = \"data.csv\"\n",
    "f = open(OUTPUT_DATA_PATH, 'w', newline='')\n",
    "writer = csv.writer(f)\n",
    "header = [\"timestep\",\"y\", \"ym\", \"uc\", \"u\", \"theta1\", \"theta2\"]\n",
    "writer.writerow(header)\n",
    "for i in range(9):\n",
    "    row = [i,i,i,i,i,i,i,]\n",
    "    writer.writerow(row)\n",
    "\n",
    "f.close()"
   ]
  },
  {
   "cell_type": "code",
   "execution_count": 12,
   "metadata": {},
   "outputs": [],
   "source": []
  },
  {
   "cell_type": "code",
   "execution_count": 13,
   "metadata": {},
   "outputs": [],
   "source": []
  },
  {
   "cell_type": "code",
   "execution_count": null,
   "metadata": {},
   "outputs": [],
   "source": []
  }
 ],
 "metadata": {
  "kernelspec": {
   "display_name": "Python 3",
   "language": "python",
   "name": "python3"
  },
  "language_info": {
   "codemirror_mode": {
    "name": "ipython",
    "version": 3
   },
   "file_extension": ".py",
   "mimetype": "text/x-python",
   "name": "python",
   "nbconvert_exporter": "python",
   "pygments_lexer": "ipython3",
   "version": "3.8.3"
  }
 },
 "nbformat": 4,
 "nbformat_minor": 4
}
