{
 "cells": [
  {
   "cell_type": "code",
   "execution_count": 15,
   "metadata": {},
   "outputs": [],
   "source": [
    "import sympy as sp\n",
    "import numpy as np\n",
    "import matplotlib.pyplot as plt\n",
    "u, uc, zeta, omega, alpha = sp.symbols('u u_c zeta omega alpha')\n",
    "v, vc, y, ym, th, th1, th2, B, p, a, b, e, gamma = sp.symbols('v v_c y y_m theta theta_1 theta_2 B p a b e gamma')\n"
   ]
  },
  {
   "cell_type": "code",
   "execution_count": 14,
   "metadata": {},
   "outputs": [],
   "source": [
    "de_dth1 = -B*(2*zeta*omega*p+p**2)*ym/((p**2+2*zeta*omega*p+omega**2)*omega**2)\n",
    "psi1 = -de_dth1\n",
    "\n",
    "de_dth2 = B*p*ym/(p**2+2*zeta*omega*p+omega**2)\n",
    "psi2 = -de_dth2"
   ]
  },
  {
   "cell_type": "code",
   "execution_count": 19,
   "metadata": {},
   "outputs": [
    {
     "data": {
      "text/latex": [
       "$\\displaystyle \\frac{B e \\gamma \\omega^{2} p y_{m} \\left(2 \\omega \\zeta + p\\right) \\left(\\omega^{2} + 2 \\omega p \\zeta + p^{2}\\right)}{B^{2} p^{2} y_{m}^{2} \\left(2 \\omega \\zeta + p\\right)^{2} + \\alpha \\omega^{4} \\left(\\omega^{2} + 2 \\omega p \\zeta + p^{2}\\right)^{2}}$"
      ],
      "text/plain": [
       "B*e*gamma*omega**2*p*y_m*(2*omega*zeta + p)*(omega**2 + 2*omega*p*zeta + p**2)/(B**2*p**2*y_m**2*(2*omega*zeta + p)**2 + alpha*omega**4*(omega**2 + 2*omega*p*zeta + p**2)**2)"
      ]
     },
     "execution_count": 19,
     "metadata": {},
     "output_type": "execute_result"
    }
   ],
   "source": [
    "th1_p1 = sp.simplify(gamma*e*psi1/(alpha+psi1*psi1))\n",
    "th1_p1"
   ]
  },
  {
   "cell_type": "code",
   "execution_count": 25,
   "metadata": {},
   "outputs": [
    {
     "data": {
      "text/latex": [
       "$\\displaystyle - \\frac{B e \\gamma p y_{m} \\left(\\omega^{2} + 2 \\omega p \\zeta + p^{2}\\right)}{B^{2} p^{2} y_{m}^{2} + \\alpha \\left(\\omega^{2} + 2 \\omega p \\zeta + p^{2}\\right)^{2}}$"
      ],
      "text/plain": [
       "-B*e*gamma*p*y_m*(omega**2 + 2*omega*p*zeta + p**2)/(B**2*p**2*y_m**2 + alpha*(omega**2 + 2*omega*p*zeta + p**2)**2)"
      ]
     },
     "execution_count": 25,
     "metadata": {},
     "output_type": "execute_result"
    }
   ],
   "source": [
    "th2_p1 = sp.simplify(gamma*e*psi2/(alpha+psi2*psi2))\n",
    "th2_p1"
   ]
  },
  {
   "cell_type": "code",
   "execution_count": 26,
   "metadata": {},
   "outputs": [],
   "source": [
    "th1_num = sp.fraction(th1_p1)[0]\n",
    "th1_denum = sp.fraction(th1_p1)[1]\n",
    "\n",
    "th2_num = sp.fraction(th2_p1)[0]\n",
    "th2_denum = sp.fraction(th2_p1)[1]"
   ]
  },
  {
   "cell_type": "code",
   "execution_count": 32,
   "metadata": {},
   "outputs": [
    {
     "data": {
      "text/latex": [
       "$\\displaystyle 2 B e \\gamma \\omega^{5} p y_{m} \\zeta + 4 B e \\gamma \\omega^{3} p^{3} y_{m} \\zeta + B e \\gamma \\omega^{2} p^{4} y_{m} + p^{2} \\cdot \\left(4 B e \\gamma \\omega^{4} y_{m} \\zeta^{2} + B e \\gamma \\omega^{4} y_{m}\\right)$"
      ],
      "text/plain": [
       "2*B*e*gamma*omega**5*p*y_m*zeta + 4*B*e*gamma*omega**3*p**3*y_m*zeta + B*e*gamma*omega**2*p**4*y_m + p**2*(4*B*e*gamma*omega**4*y_m*zeta**2 + B*e*gamma*omega**4*y_m)"
      ]
     },
     "execution_count": 32,
     "metadata": {},
     "output_type": "execute_result"
    }
   ],
   "source": [
    "sp.collect(th1_num.expand(), p)"
   ]
  },
  {
   "cell_type": "code",
   "execution_count": 33,
   "metadata": {},
   "outputs": [
    {
     "data": {
      "text/latex": [
       "$\\displaystyle \\alpha \\omega^{8} + 4 \\alpha \\omega^{7} p \\zeta + p^{4} \\left(B^{2} y_{m}^{2} + \\alpha \\omega^{4}\\right) + p^{3} \\cdot \\left(4 B^{2} \\omega y_{m}^{2} \\zeta + 4 \\alpha \\omega^{5} \\zeta\\right) + p^{2} \\cdot \\left(4 B^{2} \\omega^{2} y_{m}^{2} \\zeta^{2} + 4 \\alpha \\omega^{6} \\zeta^{2} + 2 \\alpha \\omega^{6}\\right)$"
      ],
      "text/plain": [
       "alpha*omega**8 + 4*alpha*omega**7*p*zeta + p**4*(B**2*y_m**2 + alpha*omega**4) + p**3*(4*B**2*omega*y_m**2*zeta + 4*alpha*omega**5*zeta) + p**2*(4*B**2*omega**2*y_m**2*zeta**2 + 4*alpha*omega**6*zeta**2 + 2*alpha*omega**6)"
      ]
     },
     "execution_count": 33,
     "metadata": {},
     "output_type": "execute_result"
    }
   ],
   "source": [
    "sp.collect(th1_denum.expand(), p)"
   ]
  },
  {
   "cell_type": "code",
   "execution_count": null,
   "metadata": {},
   "outputs": [],
   "source": [
    "sp.collect(th1_denum.expand(), p)"
   ]
  },
  {
   "cell_type": "code",
   "execution_count": null,
   "metadata": {},
   "outputs": [],
   "source": [
    "sp.collect(th1_denum.expand(), p)"
   ]
  },
  {
   "cell_type": "code",
   "execution_count": null,
   "metadata": {},
   "outputs": [],
   "source": []
  }
 ],
 "metadata": {
  "kernelspec": {
   "display_name": "Python 3",
   "language": "python",
   "name": "python3"
  },
  "language_info": {
   "codemirror_mode": {
    "name": "ipython",
    "version": 3
   },
   "file_extension": ".py",
   "mimetype": "text/x-python",
   "name": "python",
   "nbconvert_exporter": "python",
   "pygments_lexer": "ipython3",
   "version": "3.8.3"
  }
 },
 "nbformat": 4,
 "nbformat_minor": 4
}
