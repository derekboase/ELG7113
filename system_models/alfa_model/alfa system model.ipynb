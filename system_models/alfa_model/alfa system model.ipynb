{
 "cells": [
  {
   "cell_type": "code",
   "execution_count": 56,
   "metadata": {},
   "outputs": [],
   "source": [
    "import sympy as sp\n",
    "import numpy as np\n",
    "import matplotlib.pyplot as plt\n",
    "\n",
    "g, m , rho, Vb, veq = sp.symbols('g m rho V_b V_eq')\n",
    "\n",
    "v, vc, y, ym, th, th1, th2, B, p, a, b, e, gamma = sp.symbols('v v_c y y_m theta theta_1 theta_2 B p a b e gamma')\n",
    "u, uc, zeta, omega = sp.symbols('u u_c zeta omega')"
   ]
  },
  {
   "cell_type": "code",
   "execution_count": 37,
   "metadata": {},
   "outputs": [],
   "source": [
    "#B =2*g*(m-rho*Vb)/(m*v_eq)\n",
    "y_u = B*u/(p**2+p*B)\n",
    "ym_uc = omega*uc/(p**2+zeta*p+omega)\n",
    "\n",
    "u_u = th*(y-uc)\n",
    "\n",
    "uc_y = (p**2+p*B-B*th)*y/(-B*th)\n",
    "y_uc = -B*th*uc/(p**2+p*B-B*th)\n",
    "error = y_uc - ym\n"
   ]
  },
  {
   "cell_type": "code",
   "execution_count": 59,
   "metadata": {},
   "outputs": [
    {
     "data": {
      "text/latex": [
       "$\\displaystyle u = \\theta \\left(- u_{c} + y\\right)$"
      ],
      "text/plain": [
       "Eq(u, theta*(-u_c + y))"
      ]
     },
     "execution_count": 59,
     "metadata": {},
     "output_type": "execute_result"
    }
   ],
   "source": [
    "sp.Eq(u, u_u)"
   ]
  },
  {
   "cell_type": "code",
   "execution_count": 60,
   "metadata": {},
   "outputs": [
    {
     "data": {
      "text/latex": [
       "$\\displaystyle y_{m} = \\frac{\\omega u_{c}}{\\omega + p^{2} + p \\zeta}$"
      ],
      "text/plain": [
       "Eq(y_m, omega*u_c/(omega + p**2 + p*zeta))"
      ]
     },
     "execution_count": 60,
     "metadata": {},
     "output_type": "execute_result"
    }
   ],
   "source": [
    "sp.Eq(ym,ym_uc)"
   ]
  },
  {
   "cell_type": "code",
   "execution_count": 62,
   "metadata": {},
   "outputs": [
    {
     "data": {
      "text/latex": [
       "$\\displaystyle y = \\frac{B u}{B p + p^{2}}$"
      ],
      "text/plain": [
       "Eq(y, B*u/(B*p + p**2))"
      ]
     },
     "execution_count": 62,
     "metadata": {},
     "output_type": "execute_result"
    }
   ],
   "source": [
    "sp.Eq(y, y_u)"
   ]
  },
  {
   "cell_type": "code",
   "execution_count": 61,
   "metadata": {},
   "outputs": [
    {
     "data": {
      "text/latex": [
       "$\\displaystyle y = - \\frac{B \\theta u_{c}}{B p - B \\theta + p^{2}}$"
      ],
      "text/plain": [
       "Eq(y, -B*theta*u_c/(B*p - B*theta + p**2))"
      ]
     },
     "execution_count": 61,
     "metadata": {},
     "output_type": "execute_result"
    }
   ],
   "source": [
    "sp.Eq(y, y_uc)"
   ]
  },
  {
   "cell_type": "code",
   "execution_count": 38,
   "metadata": {},
   "outputs": [
    {
     "data": {
      "text/latex": [
       "$\\displaystyle - \\frac{B p u_{c} \\left(B + p\\right)}{\\left(B p - B \\theta + p^{2}\\right)^{2}}$"
      ],
      "text/plain": [
       "-B*p*u_c*(B + p)/(B*p - B*theta + p**2)**2"
      ]
     },
     "execution_count": 38,
     "metadata": {},
     "output_type": "execute_result"
    }
   ],
   "source": [
    "de_dth = sp.diff(error, th).simplify()\n",
    "de_dth"
   ]
  },
  {
   "cell_type": "code",
   "execution_count": 40,
   "metadata": {},
   "outputs": [
    {
     "data": {
      "text/latex": [
       "$\\displaystyle \\frac{p y \\left(B + p\\right)}{\\theta \\left(B p - B \\theta + p^{2}\\right)}$"
      ],
      "text/plain": [
       "p*y*(B + p)/(theta*(B*p - B*theta + p**2))"
      ]
     },
     "execution_count": 40,
     "metadata": {},
     "output_type": "execute_result"
    }
   ],
   "source": [
    "de_dth_y = de_dth.subs(uc, uc_y).simplify()\n",
    "de_dth_y"
   ]
  },
  {
   "cell_type": "code",
   "execution_count": 41,
   "metadata": {},
   "outputs": [
    {
     "data": {
      "text/latex": [
       "$\\displaystyle - \\frac{e \\gamma p y \\left(B + p\\right)}{\\theta \\left(B p - B \\theta + p^{2}\\right)}$"
      ],
      "text/plain": [
       "-e*gamma*p*y*(B + p)/(theta*(B*p - B*theta + p**2))"
      ]
     },
     "execution_count": 41,
     "metadata": {},
     "output_type": "execute_result"
    }
   ],
   "source": [
    "theta_dot = (-gamma*e*de_dth_y).simplify()\n",
    "theta_dot"
   ]
  },
  {
   "cell_type": "code",
   "execution_count": null,
   "metadata": {},
   "outputs": [],
   "source": []
  },
  {
   "cell_type": "code",
   "execution_count": null,
   "metadata": {},
   "outputs": [],
   "source": []
  },
  {
   "cell_type": "code",
   "execution_count": 3,
   "metadata": {},
   "outputs": [],
   "source": [
    "#from dynamics of system, all units SI\n",
    "g = 9.8\n",
    "m = 1\n",
    "rho = 1\n",
    "Vb = 1\n",
    "v_eq = 1\n",
    "B = 2*g*(m-rho*Vb)/(m*v_eq)\n",
    "\n",
    "#model variables OMEGA and ZETA\n",
    "#OMEGA can be set to whatever\n",
    "#if model following B = ZETA\n",
    "OMEGA = 1\n",
    "ZETA = B\n",
    "\n",
    "#duration of timestep\n",
    "ts = 0.1\n",
    "GAMMA = 1\n",
    "\n",
    "def MRAS_Control(theta_i, theta_p1_i, theta_p2_i,\n",
    "                u_i, uc_i, y_i, y_p1_i, y_p2_i,\n",
    "                ym_i, ym_p1_i):\n",
    "    \n",
    "    u_o = theta_i*(y_i-uc_i)\n",
    "    \n",
    "    ym_p2_o = OMEGA*uc_i - ZETA*ym_p1_i - OMEGA*ym_i\n",
    "    ym_p1_o = ym_p1_i + ts*ym_p2_o\n",
    "    ym_o = ym_i + ts*ym_p1_o\n",
    "    \n",
    "    error = y_i - ym_o\n",
    "    \n",
    "    theta_p3_o = -(GAMMA*error/theta_i)*(B*y_p1_i+y_p2_i) - B*theta_p2_i + B*theta_i*theta_p1_i\n",
    "    theta_p2_o = theta_p2_i + ts*theta_p3_o\n",
    "    theta_p1_o = theta_p1_i + ts*theta_p2_o\n",
    "    theta_o = theta_i + ts*theta_p1_o\n",
    "    \n",
    "    result_dict = {\n",
    "                   \"ym_p1\": ym_p1_o,\n",
    "                   \"ym\": ym_o,\n",
    "                   \"u_o\":u_o,\n",
    "                   \"theta_p2\": theta_p2_o,\n",
    "                   \"theta_p1\": theta_p1_o,\n",
    "                   \"theta\": theta_o\n",
    "                  }\n",
    "    return result_dict\n",
    "\n",
    "#initial conditions\n",
    "theta_i = 0.1\n",
    "theta_p1_i = 0\n",
    "theta_p2_i = 0\n",
    "u_i = 0\n",
    "ym_i = 0\n",
    "ym_p1_i = 0\n",
    "#y_i, y_p1_i and y_p2_i are measured\n",
    "\n",
    "#control input\n",
    "uc_i = 0.5\n",
    "\n",
    "#main loop\n",
    "test_val = True\n",
    "while test_val == True:\n",
    "    #these would be measured from the system\n",
    "    y_i = 0\n",
    "    y_p1_i = 0\n",
    "    y_p2_i = 0\n",
    "    \n",
    "    MRAS_Values = MRAS_Control(theta_i, theta_p1_i, theta_p2_i,\n",
    "                u_i, uc_i, y_i, y_p1_i, y_p2_i,\n",
    "                ym_i, ym_p1_i)\n",
    "    \n",
    "    #overrite initial condititions in next time step\n",
    "    theta_i = MRAS_Values[\"theta\"]\n",
    "    theta_p1_i = MRAS_Values[\"theta_p1\"]\n",
    "    theta_p2_i = MRAS_Values[\"theta_p2\"]\n",
    "    u_i = MRAS_Values[\"u_o\"]\n",
    "    ym_i = MRAS_Values[\"ym\"]\n",
    "    ym_p1_i = MRAS_Values[\"ym_p1\"]\n",
    "\n",
    "    #u_i = required fan speed\n",
    "    #duty cycle from fan characterisation\n",
    "    target_duty_cycle = (u_i+0.22988)/0.00482\n",
    "    \n",
    "    #insert code here to pass target_duty_cylce\n",
    "    #into whatever function takes it\n",
    "    #fan function / control here\n",
    "    \n",
    "    test_val= False\n",
    "    "
   ]
  },
  {
   "cell_type": "code",
   "execution_count": 47,
   "metadata": {},
   "outputs": [],
   "source": [
    "#params\n",
    "#from MRAS example\n",
    "a = 1\n",
    "b = 0.5\n",
    "am = 2\n",
    "bm = 2\n",
    "\n",
    "maxt = 200\n",
    "ts = 0.1\n",
    "n_steps = int(maxt/ts)\n",
    "\n",
    "def u_signal(t):\n",
    "    function_val = np.sin(np.pi*t/30)\n",
    "    if function_val >= 0:\n",
    "        result = 1\n",
    "    else:\n",
    "        result = -1\n",
    "    return result\n",
    "\n",
    "uc = []\n",
    "for i in range(int(maxt/ts)+1):\n",
    "  uc.append(u_signal(i*ts))\n",
    "\n",
    "\n",
    "gamma = 1\n",
    "\n",
    "theta1_actual = bm/b\n",
    "theta2_actual = (am-a)/b\n",
    "\n",
    "theta1_actuals = n_steps*[theta1_actual]\n",
    "theta2_actuals = n_steps*[theta2_actual]\n",
    "\n",
    "\n",
    "theta1 = [0.1]\n",
    "theta2 = [0.1]\n",
    "theta1_p1 = [0]\n",
    "theta2_p1 = [0]\n",
    "theta1_p2 = [0]\n",
    "theta2_p2 = [0]\n",
    "\n",
    "y = [0]\n",
    "ym = [0]\n",
    "y_p1 = [0]\n",
    "ym_p1 = [0]\n",
    "y_p2 = [0]\n",
    "ym_p2 = [0]\n",
    "\n",
    "u = []\n",
    "\n",
    "i = 0\n",
    "tc = []\n",
    "\n",
    "theta1_i = 0.1\n",
    "theta1_p1_i = 0\n",
    "theta1_p2_i = 0\n",
    "        \n",
    "theta2_i  = 0.1\n",
    "theta2_p1_i = 0\n",
    "theta2_p2_i = 0\n",
    "u_i = 0\n",
    "uc_i = uc[0]\n",
    "y_i = 0\n",
    "y_p1_i = 0\n",
    "ym_i = 0\n",
    "ym_p1_i = 0\n",
    "\n",
    "y_list = []\n",
    "ym_list = []\n",
    "u_list = []\n",
    "tc= []\n",
    "error_list = []\n",
    "#desired control signal\n",
    "def u_signal(t):\n",
    "    function_val = np.sin(np.pi*t/50)\n",
    "    if function_val >= 0:\n",
    "        result = 1\n",
    "    else:\n",
    "        result = -1\n",
    "    return result\n",
    "\n",
    "uc = []\n",
    "NG = 1\n",
    "for i in range(int(maxt/ts)+1):\n",
    "    uc.append(NG*u_signal(i*ts))\n",
    "    #uc.append(2)\n",
    "\n",
    "#system simulation\n",
    "def MRAS_system_sim(y_i,u_i):\n",
    "    y_p1_o = -a*y_i + b*u_i\n",
    "    y_o = y_i + ts*y_p1_o\n",
    "    \n",
    "    system_dict = {\"y_p1\": y_p1_o,\n",
    "                  \"y\": y_o}\n",
    "    \n",
    "    return system_dict\n",
    "\n",
    "#controller\n",
    "def MRAS_Control(theta1_i, theta1_p1_i,\n",
    "                 theta2_i, theta2_p1_i,\n",
    "                u_i, uc_i, y_i, y_p1_i,\n",
    "                ym_i):\n",
    "    \n",
    "    u_o = theta1_i*uc_i - theta2_i*y_i\n",
    "    \n",
    "    #ym\n",
    "    ym_p1_o = -am*ym_i + bm*uc_i\n",
    "    ym_o = ym_i + ts*ym_p1_o\n",
    "    \n",
    "    #error\n",
    "    error = y_i - ym_o\n",
    "    \n",
    "    #theta1\n",
    "    theta1_p2_o = -am*theta1_p1_i - gamma*am*uc_i*error\n",
    "    theta1_p1_o = theta1_p1_i + ts*theta1_p2_o\n",
    "    theta1_o = theta1_i + ts*theta1_p1_o\n",
    "    \n",
    "    #theta2\n",
    "    theta2_p2_o = -am*theta2_p1_i + gamma*am*y_i*error\n",
    "    theta2_p1_o = theta2_p1_i + ts*theta2_p2_o\n",
    "    theta2_o = theta2_i + ts*theta2_p1_o\n",
    "    \n",
    "    result_dict = {\n",
    "               \"ym\": ym_o,\n",
    "               \n",
    "               \"theta1_p1\": theta1_p1_o,\n",
    "               \"theta1\": theta1_o,\n",
    "               \n",
    "               \"theta2_p1\": theta2_p1_o,\n",
    "               \"theta2\": theta2_o,\n",
    "               \"u\":u_o,\n",
    "              }\n",
    "    return result_dict\n",
    "    \n",
    "\n",
    "i = 0\n",
    "for k in range(n_steps):\n",
    "    #controller \n",
    "    MRAS_values = MRAS_Control(theta1_i, theta1_p1_i,\n",
    "                 theta2_i, theta2_p1_i,\n",
    "                u_i, uc_i, y_i, y_p1_i,\n",
    "                ym_i)\n",
    "    \n",
    "    theta1_i = MRAS_values[\"theta1\"]\n",
    "    theta1_p1_i = MRAS_values[\"theta1_p1\"]\n",
    "    \n",
    "    theta2_i  = MRAS_values[\"theta2\"]\n",
    "    theta2_p1_i = MRAS_values[\"theta2_p1\"]\n",
    "    \n",
    "    u_i = MRAS_values[\"u\"]\n",
    "    ym_i = MRAS_values[\"ym\"]\n",
    "    \n",
    "    \n",
    "    #system output\n",
    "    system_values = MRAS_system_sim(y_i,u_i)\n",
    "    y_i = system_values[\"y\"]\n",
    "    y_p1_i = system_values[\"y_p1\"]\n",
    "    \n",
    "    #control input, \n",
    "    uc_i = uc[k]\n",
    "    \n",
    "    y_list.append(y_i)\n",
    "    u_list.append(u_i)\n",
    "    ym_list.append(ym_i)\n",
    "    error_list.append(y_i-ym_i)\n",
    "    \n",
    "    tc.append(i)\n",
    "    i = i+1\n",
    "    \n",
    "start_idx = 0\n",
    "end_idx = int(maxt/ts)"
   ]
  },
  {
   "cell_type": "code",
   "execution_count": 48,
   "metadata": {},
   "outputs": [
    {
     "data": {
      "text/plain": [
       "<matplotlib.legend.Legend at 0x13649f89e50>"
      ]
     },
     "execution_count": 48,
     "metadata": {},
     "output_type": "execute_result"
    },
    {
     "data": {
      "image/png": "[encoded data removed]",
      "text/plain": [
       "<Figure size 432x288 with 1 Axes>"
      ]
     },
     "metadata": {
      "needs_background": "light"
     },
     "output_type": "display_data"
    }
   ],
   "source": [
    "plt.plot(tc[start_idx:end_idx], y_list[start_idx:end_idx], label = \"y\")\n",
    "plt.plot(tc[start_idx:end_idx], ym_list[start_idx:end_idx], label = \"ym\")\n",
    "plt.plot(tc[start_idx:end_idx], error_list[start_idx:end_idx], label = \"y - ym\")\n",
    "plt.xlabel(\"timestep\")\n",
    "plt.ylabel(\"parameter\")\n",
    "plt.legend()"
   ]
  },
  {
   "cell_type": "code",
   "execution_count": null,
   "metadata": {},
   "outputs": [],
   "source": []
  },
  {
   "cell_type": "code",
   "execution_count": null,
   "metadata": {},
   "outputs": [],
   "source": []
  }
 ],
 "metadata": {
  "kernelspec": {
   "display_name": "Python 3",
   "language": "python",
   "name": "python3"
  },
  "language_info": {
   "codemirror_mode": {
    "name": "ipython",
    "version": 3
   },
   "file_extension": ".py",
   "mimetype": "text/x-python",
   "name": "python",
   "nbconvert_exporter": "python",
   "pygments_lexer": "ipython3",
   "version": "3.8.3"
  }
 },
 "nbformat": 4,
 "nbformat_minor": 4
}
