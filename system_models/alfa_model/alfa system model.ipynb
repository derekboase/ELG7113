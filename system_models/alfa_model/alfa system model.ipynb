{
 "cells": [
  {
   "cell_type": "code",
   "execution_count": 28,
   "metadata": {},
   "outputs": [],
   "source": [
    "import sympy as sp\n",
    "import numpy as np\n",
    "g, m , rho, Vb, veq = sp.symbols('g m rho V_b V_eq')\n",
    "\n",
    "v, vc, y, ym, th1, th2, B, p, a, b, e, gamma = sp.symbols('v v_c y y_m theta_1 theta_2 B p a b e gamma')"
   ]
  },
  {
   "cell_type": "code",
   "execution_count": 24,
   "metadata": {},
   "outputs": [],
   "source": [
    "Y_vc = (b*th1)*vc/(p**2-a*p-b*th2)\n",
    "Ym_vc = B*vc/(p**2+p*B)\n",
    "error = Y_vc-Ym_vc\n",
    "\n",
    "vc_Y = (p**2-a*p-b*th2)*y/(b*th1)"
   ]
  },
  {
   "cell_type": "code",
   "execution_count": 26,
   "metadata": {},
   "outputs": [],
   "source": [
    "e_d_th1 = sp.diff(error, th1).simplify()\n",
    "e_d_th2 = sp.diff(error, th2).subs(vc, vc_Y).simplify()"
   ]
  },
  {
   "cell_type": "code",
   "execution_count": 29,
   "metadata": {},
   "outputs": [],
   "source": [
    "th1_p1 = -gamma*e*e_d_th1\n",
    "th2_p1 = -gamma*e*e_d_th2"
   ]
  },
  {
   "cell_type": "code",
   "execution_count": 30,
   "metadata": {},
   "outputs": [
    {
     "data": {
      "text/latex": [
       "$\\displaystyle - \\frac{b e \\gamma v_{c}}{- a p - b \\theta_{2} + p^{2}}$"
      ],
      "text/plain": [
       "-b*e*gamma*v_c/(-a*p - b*theta_2 + p**2)"
      ]
     },
     "execution_count": 30,
     "metadata": {},
     "output_type": "execute_result"
    }
   ],
   "source": [
    "th1_p1"
   ]
  },
  {
   "cell_type": "code",
   "execution_count": 32,
   "metadata": {},
   "outputs": [
    {
     "data": {
      "text/latex": [
       "$\\displaystyle - \\frac{b e \\gamma y}{- a p - b \\theta_{2} + p^{2}}$"
      ],
      "text/plain": [
       "-b*e*gamma*y/(-a*p - b*theta_2 + p**2)"
      ]
     },
     "execution_count": 32,
     "metadata": {},
     "output_type": "execute_result"
    }
   ],
   "source": [
    "th2_p1"
   ]
  },
  {
   "cell_type": "code",
   "execution_count": 33,
   "metadata": {},
   "outputs": [
    {
     "data": {
      "text/latex": [
       "$\\displaystyle \\frac{b y}{- a p - b \\theta_{2} + p^{2}}$"
      ],
      "text/plain": [
       "b*y/(-a*p - b*theta_2 + p**2)"
      ]
     },
     "execution_count": 33,
     "metadata": {},
     "output_type": "execute_result"
    }
   ],
   "source": [
    "e_d_th2"
   ]
  },
  {
   "cell_type": "code",
   "execution_count": null,
   "metadata": {},
   "outputs": [],
   "source": []
  }
 ],
 "metadata": {
  "kernelspec": {
   "display_name": "Python 3",
   "language": "python",
   "name": "python3"
  },
  "language_info": {
   "codemirror_mode": {
    "name": "ipython",
    "version": 3
   },
   "file_extension": ".py",
   "mimetype": "text/x-python",
   "name": "python",
   "nbconvert_exporter": "python",
   "pygments_lexer": "ipython3",
   "version": "3.8.3"
  }
 },
 "nbformat": 4,
 "nbformat_minor": 4
}
