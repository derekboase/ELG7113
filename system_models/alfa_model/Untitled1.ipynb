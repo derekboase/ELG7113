{
 "cells": [
  {
   "cell_type": "code",
   "execution_count": 27,
   "id": "ada49ae8",
   "metadata": {},
   "outputs": [],
   "source": [
    "ym_values =[]\n",
    "def system_model_zoh(uc_1, uc_2):\n",
    "    global ym_values\n",
    "    \n",
    "    if len(ym_values) > 2:\n",
    "        ym_1 = ym_values[-1]\n",
    "        ym_2 = ym_values[-2]\n",
    "        ym_values.pop(0)\n",
    "    \n",
    "    else:\n",
    "        ym_1 = 0\n",
    "        ym_2 = 0\n",
    "        \n",
    "    am1 = -1.935\n",
    "    am2 = 0.937\n",
    "    b0 = 0.001035\n",
    "    b1 = 0.001013\n",
    "    ym_o = -ym_1*am1 -ym_2 + uc_1*b0 + uc_2*b1\n",
    "    ym_values.append(ym_o)\n",
    "    \n",
    "    return ym_o"
   ]
  },
  {
   "cell_type": "code",
   "execution_count": 35,
   "id": "ce90fa32",
   "metadata": {},
   "outputs": [
    {
     "name": "stdout",
     "output_type": "stream",
     "text": [
      "[0.012923034367999998, 0.019385898702079997, 0.026636679620524795]\n"
     ]
    }
   ],
   "source": [
    "system_model_zoh(1,1)\n",
    "print(ym_values)"
   ]
  },
  {
   "cell_type": "code",
   "execution_count": null,
   "id": "70c09ee9",
   "metadata": {},
   "outputs": [],
   "source": []
  }
 ],
 "metadata": {
  "kernelspec": {
   "display_name": "Python 3 (ipykernel)",
   "language": "python",
   "name": "python3"
  },
  "language_info": {
   "codemirror_mode": {
    "name": "ipython",
    "version": 3
   },
   "file_extension": ".py",
   "mimetype": "text/x-python",
   "name": "python",
   "nbconvert_exporter": "python",
   "pygments_lexer": "ipython3",
   "version": "3.9.2"
  }
 },
 "nbformat": 4,
 "nbformat_minor": 5
}
