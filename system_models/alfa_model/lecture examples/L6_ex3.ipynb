{
 "cells": [
  {
   "cell_type": "code",
   "execution_count": 1,
   "metadata": {},
   "outputs": [],
   "source": [
    "import pandas as pd\n",
    "import csv\n",
    "import sympy as sp\n",
    "import numpy as np\n",
    "import random\n",
    "import matplotlib.pyplot as plt\n",
    "\n",
    "def white_noise(mu, sigma):\n",
    "\n",
    "    data = np.random.randn(100000) * sigma + mu\n",
    "    result = random.choice(data)\n",
    "    return result\n",
    "\n",
    "def discrete_delta(t):\n",
    "    result = 0\n",
    "    if t ==50:\n",
    "        result = 1 \n",
    "    else:\n",
    "        result = 0\n",
    "    return result\n",
    "\n",
    "#actual params\n",
    "a = -0.8\n",
    "b = 0.5\n",
    "theta_hat_0 = np.array([0,0])\n",
    "theta_0 = np.array([a, b])\n",
    "P0 = 100*np.identity(2)\n",
    "sigma = 0.5\n",
    "Y0 = np.array([0,0]) @ theta_0 + white_noise(0, sigma)\n",
    "#use from example\n",
    "\n",
    "#Y0 = 0.3396\n",
    "\n",
    "#input signal\n",
    "t0 = 0\n",
    "sample_depth = 1000\n"
   ]
  },
  {
   "cell_type": "code",
   "execution_count": 2,
   "metadata": {},
   "outputs": [
    {
     "name": "stdout",
     "output_type": "stream",
     "text": [
      "last 5 a_hat values:\n",
      "[-0.8095400001962111, -0.809493762910467, -0.809493740376506, -0.8094831939916729]\n",
      " \n",
      "last 5 b_hat values:\n",
      "[0.9059721735484245, 0.9059706587889691, 0.9059706580507438, 0.9059703125452522]\n"
     ]
    }
   ],
   "source": [
    "u_t = []\n",
    "for i in range(0, sample_depth+1):\n",
    "    u_t.append(discrete_delta(i))\n",
    "    \n",
    "P = [P0]\n",
    "Y = [Y0]\n",
    "PHI = []\n",
    "theta_hat = [theta_hat_0]\n",
    "a_hat = []\n",
    "b_hat = []\n",
    "time = []\n",
    "for k in range(1,sample_depth):\n",
    "    phi = np.array([-Y[k-1], u_t[k-1]])\n",
    "    PHI.append(phi.T)\n",
    "    Y.append(phi.T @ theta_0 + white_noise(0, sigma))\n",
    "    try:\n",
    "        P_k = np.linalg.inv(np.array(PHI).T @ np.array(PHI))\n",
    "    except:\n",
    "        #for some reason its singular at k=1, but good at every other index\n",
    "        #can change P_k to whatever 2x2 matrix and it always converges\n",
    "        P_k = np.identity(2)\n",
    "       \n",
    "   # P_k = np.linalg.inv(np.array(PHI).T @ np.array(PHI))\n",
    "    P.append(P_k)\n",
    "    \n",
    "    K = P[k] @ phi\n",
    "    theta_hat_k = theta_hat[k-1] + K*(Y[k] - phi.T @ theta_hat[k-1])\n",
    "    theta_hat.append(theta_hat_k)\n",
    "    \n",
    "    a_hat.append(theta_hat[k][0])\n",
    "    b_hat.append(theta_hat[k][1])\n",
    "    time.append(k)\n",
    "print(\"last 5 a_hat values:\")\n",
    "print(a_hat[995:])\n",
    "print(\" \")\n",
    "print(\"last 5 b_hat values:\")\n",
    "print(b_hat[995:])"
   ]
  },
  {
   "cell_type": "code",
   "execution_count": 3,
   "metadata": {},
   "outputs": [
    {
     "data": {
      "image/png": "[encoded data removed]",
      "text/plain": [
       "<Figure size 432x288 with 1 Axes>"
      ]
     },
     "metadata": {
      "needs_background": "light"
     },
     "output_type": "display_data"
    }
   ],
   "source": [
    "plt.plot(time,a_hat, label = \"a_hat\")\n",
    "plt.plot(time,b_hat, label = \"b_hat\")\n",
    "\n",
    "plt.xlabel(\"time (s)\")\n",
    "plt.ylabel(\"params\")\n",
    "plt.legend()\n",
    "\n",
    "plt.show()\n"
   ]
  },
  {
   "cell_type": "code",
   "execution_count": null,
   "metadata": {},
   "outputs": [],
   "source": []
  }
 ],
 "metadata": {
  "kernelspec": {
   "display_name": "Python 3",
   "language": "python",
   "name": "python3"
  },
  "language_info": {
   "codemirror_mode": {
    "name": "ipython",
    "version": 3
   },
   "file_extension": ".py",
   "mimetype": "text/x-python",
   "name": "python",
   "nbconvert_exporter": "python",
   "pygments_lexer": "ipython3",
   "version": "3.8.3"
  }
 },
 "nbformat": 4,
 "nbformat_minor": 4
}
