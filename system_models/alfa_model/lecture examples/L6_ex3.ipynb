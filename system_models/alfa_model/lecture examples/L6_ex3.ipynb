{
 "cells": [
  {
   "cell_type": "code",
   "execution_count": 8,
   "metadata": {},
   "outputs": [],
   "source": [
    "import pandas as pd\n",
    "import csv\n",
    "import sympy as sp\n",
    "import numpy as np\n",
    "import random\n",
    "import matplotlib.pyplot as plt\n",
    "\n",
    "#generates a random number sampled from a normal distribution of mean = mu and standard deviation = sigma\n",
    "def white_noise(mu, sigma):\n",
    "    data = np.random.randn(100000) * sigma + mu\n",
    "    result = random.choice(data)\n",
    "    return result\n",
    "\n",
    "#is equal to 1 at timestep = 50 and 0 everywhere else\n",
    "def discrete_delta(t):\n",
    "    result = 0\n",
    "    if t ==50:\n",
    "        result = 1 \n",
    "    else:\n",
    "        result = 0\n",
    "    return result\n",
    "\n",
    "#actual params\n",
    "a = -0.8\n",
    "b = 0.5\n",
    "theta_hat_0 = np.array([0,0])\n",
    "theta_0 = np.array([a, b])\n",
    "P0 = 100*np.identity(2)\n",
    "sigma = 0.5\n",
    "Y0 = np.array([0,0]) @ theta_0 + white_noise(0, sigma)\n",
    "\n",
    "sample_depth = 1000\n"
   ]
  },
  {
   "cell_type": "code",
   "execution_count": 11,
   "metadata": {},
   "outputs": [
    {
     "name": "stdout",
     "output_type": "stream",
     "text": [
      "last 5 a_hat values:\n",
      "[-0.8041416432301616, -0.8044672113668575, -0.804749004786165, -0.8050364921885796]\n",
      " \n",
      "last 5 b_hat values:\n",
      "[0.6886802139937249, 0.6885244277605613, 0.6883895879824132, 0.6882520236004726]\n"
     ]
    }
   ],
   "source": [
    "#init u_t values\n",
    "u_t = []\n",
    "for i in range(0, sample_depth+1):\n",
    "    u_t.append(discrete_delta(i))\n",
    "\n",
    "#init lists of variables\n",
    "P = [P0]\n",
    "Y = [Y0]\n",
    "PHI = []\n",
    "theta_hat = [theta_hat_0]\n",
    "a_hat = []\n",
    "b_hat = []\n",
    "time = []\n",
    "\n",
    "#loop thru timesteps\n",
    "for k in range(1,sample_depth):\n",
    "    # same as phi = [-Y(k-1); u_t(k-1)];, line 31 on matlab code\n",
    "    phi = np.array([-Y[k-1], u_t[k-1]])\n",
    "    \n",
    "    #same as PHI = [PHI; phi.']; line 32 on matlab code\n",
    "    PHI.append(phi.T)\n",
    "    \n",
    "    #same as Y = [Y (phi.'*theta0 + rand*sigma)]; line 33 of matlab code\n",
    "    Y.append(phi.T @ theta_0 + white_noise(0, sigma))\n",
    "    try:\n",
    "        #calculate P(t). P_k is P(t) = inv(PHI.'PHI) \n",
    "        P_k = np.linalg.inv(np.array(PHI).T @ np.array(PHI))\n",
    "    except:\n",
    "        #for some reason its singular at k=1, but good at every other index\n",
    "        #can change P_k to whatever 2x2 matrix and it always converges for a_hat\n",
    "        P_k = np.identity(2)\n",
    "\n",
    "    #append to list of P values\n",
    "    #same as P{k} = (cell2mat(P(k-1))\\eye(2) + phi*phi.')\\eye(2); line 35 on matlab code\n",
    "    P.append(P_k)\n",
    "    \n",
    "    #calculate K, same as line 36 on matlab\n",
    "    K = P[k] @ phi\n",
    "    \n",
    "    #add to list of theta_hats to plot, same as line 37 on matlab code\n",
    "    theta_hat_k = theta_hat[k-1] + K*(Y[k] - phi.T @ theta_hat[k-1])\n",
    "    theta_hat.append(theta_hat_k)\n",
    "    \n",
    "    #seperate into 2 seperate lists to plot\n",
    "    a_hat.append(theta_hat[k][0])\n",
    "    b_hat.append(theta_hat[k][1])\n",
    "    time.append(k)\n",
    "    \n",
    "#print last 5 values of estimated params\n",
    "print(\"last 5 a_hat values:\")\n",
    "print(a_hat[995:])\n",
    "print(\" \")\n",
    "print(\"last 5 b_hat values:\")\n",
    "print(b_hat[995:])"
   ]
  },
  {
   "cell_type": "code",
   "execution_count": 12,
   "metadata": {},
   "outputs": [
    {
     "data": {
      "image/png": "[encoded data removed]",
      "text/plain": [
       "<Figure size 432x288 with 1 Axes>"
      ]
     },
     "metadata": {
      "needs_background": "light"
     },
     "output_type": "display_data"
    }
   ],
   "source": [
    "#plot params changing over time\n",
    "plt.plot(time,a_hat, label = \"a_hat\")\n",
    "plt.plot(time,b_hat, label = \"b_hat\")\n",
    "\n",
    "plt.xlabel(\"time step\")\n",
    "plt.ylabel(\"estimated parameter\")\n",
    "plt.legend()\n",
    "\n",
    "plt.show()\n"
   ]
  },
  {
   "cell_type": "code",
   "execution_count": null,
   "metadata": {},
   "outputs": [],
   "source": []
  }
 ],
 "metadata": {
  "kernelspec": {
   "display_name": "Python 3",
   "language": "python",
   "name": "python3"
  },
  "language_info": {
   "codemirror_mode": {
    "name": "ipython",
    "version": 3
   },
   "file_extension": ".py",
   "mimetype": "text/x-python",
   "name": "python",
   "nbconvert_exporter": "python",
   "pygments_lexer": "ipython3",
   "version": "3.8.3"
  }
 },
 "nbformat": 4,
 "nbformat_minor": 4
}
